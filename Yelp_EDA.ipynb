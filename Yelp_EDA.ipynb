{
  "nbformat": 4,
  "nbformat_minor": 0,
  "metadata": {
    "colab": {
      "name": "Yelp EDA.ipynb",
      "version": "0.3.2",
      "provenance": []
    },
    "kernelspec": {
      "name": "python3",
      "display_name": "Python 3"
    }
  },
  "cells": [
    {
      "cell_type": "code",
      "metadata": {
        "id": "joGNSkj2GWuU",
        "colab_type": "code",
        "colab": {}
      },
      "source": [
        "import pandas as pd\n",
        "from sklearn.linear_model import LinearRegression\n",
        "import matplotlib.pyplot as plt"
      ],
      "execution_count": 0,
      "outputs": []
    },
    {
      "cell_type": "code",
      "metadata": {
        "id": "N8WVDWr_GYJ5",
        "colab_type": "code",
        "colab": {}
      },
      "source": [
        "revs= pd.read_csv('toronto_reviews.csv')"
      ],
      "execution_count": 0,
      "outputs": []
    },
    {
      "cell_type": "code",
      "metadata": {
        "id": "ZANm48nAIkN5",
        "colab_type": "code",
        "colab": {}
      },
      "source": [
        "del revs['Unnamed: 0']"
      ],
      "execution_count": 0,
      "outputs": []
    },
    {
      "cell_type": "code",
      "metadata": {
        "id": "Rs20X12bGcs1",
        "colab_type": "code",
        "outputId": "c1036e39-df44-4881-f4ce-491cc1fd7ee9",
        "colab": {
          "base_uri": "https://localhost:8080/",
          "height": 632
        }
      },
      "source": [
        "revs.head()"
      ],
      "execution_count": 4,
      "outputs": [
        {
          "output_type": "execute_result",
          "data": {
            "text/html": [
              "<div>\n",
              "<style scoped>\n",
              "    .dataframe tbody tr th:only-of-type {\n",
              "        vertical-align: middle;\n",
              "    }\n",
              "\n",
              "    .dataframe tbody tr th {\n",
              "        vertical-align: top;\n",
              "    }\n",
              "\n",
              "    .dataframe thead th {\n",
              "        text-align: right;\n",
              "    }\n",
              "</style>\n",
              "<table border=\"1\" class=\"dataframe\">\n",
              "  <thead>\n",
              "    <tr style=\"text-align: right;\">\n",
              "      <th></th>\n",
              "      <th>business_id</th>\n",
              "      <th>date</th>\n",
              "      <th>elem</th>\n",
              "      <th>review_id</th>\n",
              "      <th>stars_revs</th>\n",
              "      <th>user_id</th>\n",
              "      <th>biz_num</th>\n",
              "      <th>address</th>\n",
              "      <th>categories</th>\n",
              "      <th>hours</th>\n",
              "      <th>latitude</th>\n",
              "      <th>longitude</th>\n",
              "      <th>name</th>\n",
              "      <th>postal_code</th>\n",
              "      <th>review_count</th>\n",
              "      <th>stars_bus</th>\n",
              "      <th>user_stars_mean</th>\n",
              "      <th>user_review_num</th>\n",
              "    </tr>\n",
              "  </thead>\n",
              "  <tbody>\n",
              "    <tr>\n",
              "      <th>0</th>\n",
              "      <td>AakkkTuGZA2KBodKi2_u8A</td>\n",
              "      <td>2012-07-16 00:37:14</td>\n",
              "      <td>10766</td>\n",
              "      <td>JVcjMhlavKKn3UIt9p9OXA</td>\n",
              "      <td>1.0</td>\n",
              "      <td>TpyOT5E16YASd7EWjLQlrw</td>\n",
              "      <td>943</td>\n",
              "      <td>1603 Dundas Street W</td>\n",
              "      <td>Asian Fusion, Restaurants, Vietnamese</td>\n",
              "      <td>{'Monday': '11:0-22:0', 'Tuesday': '11:0-22:0'...</td>\n",
              "      <td>43.649674</td>\n",
              "      <td>-79.435116</td>\n",
              "      <td>Pho Phuong</td>\n",
              "      <td>M6K 1T9</td>\n",
              "      <td>54</td>\n",
              "      <td>3.346230</td>\n",
              "      <td>3.674419</td>\n",
              "      <td>44</td>\n",
              "    </tr>\n",
              "    <tr>\n",
              "      <th>1</th>\n",
              "      <td>YvrylyuWgbP90RgMqZQVnQ</td>\n",
              "      <td>2017-04-07 21:27:49</td>\n",
              "      <td>33371</td>\n",
              "      <td>svK3nBU7Rk8VfGorlrN52A</td>\n",
              "      <td>5.0</td>\n",
              "      <td>NJlxGtouq06hhC7sS2ECYw</td>\n",
              "      <td>2934</td>\n",
              "      <td>232 Wellington Street W</td>\n",
              "      <td>Sandwiches, Restaurants, Italian, Pizza</td>\n",
              "      <td>{'Monday': '11:0-23:0', 'Tuesday': '11:0-23:0'...</td>\n",
              "      <td>43.645277</td>\n",
              "      <td>-79.389704</td>\n",
              "      <td>Jz's Pizza</td>\n",
              "      <td>M5V 3W1</td>\n",
              "      <td>70</td>\n",
              "      <td>3.942857</td>\n",
              "      <td>1.000000</td>\n",
              "      <td>2</td>\n",
              "    </tr>\n",
              "    <tr>\n",
              "      <th>2</th>\n",
              "      <td>y-Iw6dZflNix4BdwIyTNGA</td>\n",
              "      <td>2014-06-27 21:19:23</td>\n",
              "      <td>57511</td>\n",
              "      <td>4bUyL7lzoWzDZaJETAKREg</td>\n",
              "      <td>3.0</td>\n",
              "      <td>_N7Ndn29bpll_961oPeEfw</td>\n",
              "      <td>5099</td>\n",
              "      <td>2876 Dundas Street W</td>\n",
              "      <td>Restaurants, Food, Breweries, Gastropubs, Pizza</td>\n",
              "      <td>{'Monday': '17:0-1:0', 'Tuesday': '12:0-1:0', ...</td>\n",
              "      <td>43.665441</td>\n",
              "      <td>-79.465238</td>\n",
              "      <td>Indie Ale House</td>\n",
              "      <td>M6P 1Y9</td>\n",
              "      <td>234</td>\n",
              "      <td>4.087616</td>\n",
              "      <td>3.625000</td>\n",
              "      <td>9</td>\n",
              "    </tr>\n",
              "    <tr>\n",
              "      <th>3</th>\n",
              "      <td>YSUcHqlKMPHHJ_cTrqtNrA</td>\n",
              "      <td>2017-12-29 13:55:19</td>\n",
              "      <td>32926</td>\n",
              "      <td>E6B-2U2sGG3xgmnNWZAEew</td>\n",
              "      <td>1.0</td>\n",
              "      <td>DbccYu3OppWKl21OanZnTg</td>\n",
              "      <td>2894</td>\n",
              "      <td>32 Wellington Street E</td>\n",
              "      <td>Italian, Restaurants</td>\n",
              "      <td>{'Monday': '11:0-23:0', 'Tuesday': '11:0-23:0'...</td>\n",
              "      <td>43.648404</td>\n",
              "      <td>-79.375469</td>\n",
              "      <td>Vagabondo Italian Ristorante+Lounge</td>\n",
              "      <td>M5E 1C6</td>\n",
              "      <td>76</td>\n",
              "      <td>3.117240</td>\n",
              "      <td>3.250000</td>\n",
              "      <td>13</td>\n",
              "    </tr>\n",
              "    <tr>\n",
              "      <th>4</th>\n",
              "      <td>TVLAvAFx0FqAkKGKHVjHpQ</td>\n",
              "      <td>2017-12-15 22:49:01</td>\n",
              "      <td>28247</td>\n",
              "      <td>6JgzKIDvophsU1yfK0DdyA</td>\n",
              "      <td>4.0</td>\n",
              "      <td>mZ1gXzL6Tn5Oky8_j0Kp7g</td>\n",
              "      <td>2479</td>\n",
              "      <td>140 Spadina Avenue</td>\n",
              "      <td>Soup, Juice Bars &amp; Smoothies, Restaurants, Foo...</td>\n",
              "      <td>{'Monday': '11:0-21:0', 'Tuesday': '11:0-21:0'...</td>\n",
              "      <td>43.647726</td>\n",
              "      <td>-79.396247</td>\n",
              "      <td>Freshii</td>\n",
              "      <td>M5V 2L4</td>\n",
              "      <td>39</td>\n",
              "      <td>2.949343</td>\n",
              "      <td>3.625000</td>\n",
              "      <td>57</td>\n",
              "    </tr>\n",
              "  </tbody>\n",
              "</table>\n",
              "</div>"
            ],
            "text/plain": [
              "              business_id  ... user_review_num\n",
              "0  AakkkTuGZA2KBodKi2_u8A  ...              44\n",
              "1  YvrylyuWgbP90RgMqZQVnQ  ...               2\n",
              "2  y-Iw6dZflNix4BdwIyTNGA  ...               9\n",
              "3  YSUcHqlKMPHHJ_cTrqtNrA  ...              13\n",
              "4  TVLAvAFx0FqAkKGKHVjHpQ  ...              57\n",
              "\n",
              "[5 rows x 18 columns]"
            ]
          },
          "metadata": {
            "tags": []
          },
          "execution_count": 4
        }
      ]
    },
    {
      "cell_type": "code",
      "metadata": {
        "id": "U1Q_Hpn50W63",
        "colab_type": "code",
        "colab": {
          "base_uri": "https://localhost:8080/",
          "height": 297
        },
        "outputId": "291aa613-7507-4700-eca7-689627b429f9"
      },
      "source": [
        "#Sumamry statistics about reviews, 305000 in total\n",
        "revs.describe()"
      ],
      "execution_count": 30,
      "outputs": [
        {
          "output_type": "execute_result",
          "data": {
            "text/html": [
              "<div>\n",
              "<style scoped>\n",
              "    .dataframe tbody tr th:only-of-type {\n",
              "        vertical-align: middle;\n",
              "    }\n",
              "\n",
              "    .dataframe tbody tr th {\n",
              "        vertical-align: top;\n",
              "    }\n",
              "\n",
              "    .dataframe thead th {\n",
              "        text-align: right;\n",
              "    }\n",
              "</style>\n",
              "<table border=\"1\" class=\"dataframe\">\n",
              "  <thead>\n",
              "    <tr style=\"text-align: right;\">\n",
              "      <th></th>\n",
              "      <th>elem</th>\n",
              "      <th>stars_revs</th>\n",
              "      <th>biz_num</th>\n",
              "      <th>latitude</th>\n",
              "      <th>longitude</th>\n",
              "      <th>review_count</th>\n",
              "      <th>stars_bus</th>\n",
              "      <th>user_stars_mean</th>\n",
              "      <th>user_review_num</th>\n",
              "    </tr>\n",
              "  </thead>\n",
              "  <tbody>\n",
              "    <tr>\n",
              "      <th>count</th>\n",
              "      <td>305173.000000</td>\n",
              "      <td>305173.000000</td>\n",
              "      <td>305173.000000</td>\n",
              "      <td>305173.000000</td>\n",
              "      <td>305173.000000</td>\n",
              "      <td>305173.000000</td>\n",
              "      <td>305173.000000</td>\n",
              "      <td>305173.000000</td>\n",
              "      <td>305173.000000</td>\n",
              "    </tr>\n",
              "    <tr>\n",
              "      <th>mean</th>\n",
              "      <td>30245.505143</td>\n",
              "      <td>3.649632</td>\n",
              "      <td>2670.604090</td>\n",
              "      <td>43.673505</td>\n",
              "      <td>-79.390846</td>\n",
              "      <td>220.967284</td>\n",
              "      <td>3.649632</td>\n",
              "      <td>3.649632</td>\n",
              "      <td>32.456466</td>\n",
              "    </tr>\n",
              "    <tr>\n",
              "      <th>std</th>\n",
              "      <td>16963.219643</td>\n",
              "      <td>1.263013</td>\n",
              "      <td>1501.965162</td>\n",
              "      <td>0.042646</td>\n",
              "      <td>0.046761</td>\n",
              "      <td>279.705114</td>\n",
              "      <td>0.527701</td>\n",
              "      <td>0.674939</td>\n",
              "      <td>61.321050</td>\n",
              "    </tr>\n",
              "    <tr>\n",
              "      <th>min</th>\n",
              "      <td>37.000000</td>\n",
              "      <td>1.000000</td>\n",
              "      <td>1.000000</td>\n",
              "      <td>43.592327</td>\n",
              "      <td>-79.703390</td>\n",
              "      <td>2.000000</td>\n",
              "      <td>0.500000</td>\n",
              "      <td>1.000000</td>\n",
              "      <td>1.000000</td>\n",
              "    </tr>\n",
              "    <tr>\n",
              "      <th>25%</th>\n",
              "      <td>15489.000000</td>\n",
              "      <td>3.000000</td>\n",
              "      <td>1382.000000</td>\n",
              "      <td>43.648752</td>\n",
              "      <td>-79.410044</td>\n",
              "      <td>60.000000</td>\n",
              "      <td>3.340359</td>\n",
              "      <td>3.419355</td>\n",
              "      <td>3.000000</td>\n",
              "    </tr>\n",
              "    <tr>\n",
              "      <th>50%</th>\n",
              "      <td>31032.000000</td>\n",
              "      <td>4.000000</td>\n",
              "      <td>2719.000000</td>\n",
              "      <td>43.656345</td>\n",
              "      <td>-79.391912</td>\n",
              "      <td>133.000000</td>\n",
              "      <td>3.701574</td>\n",
              "      <td>3.585366</td>\n",
              "      <td>10.000000</td>\n",
              "    </tr>\n",
              "    <tr>\n",
              "      <th>75%</th>\n",
              "      <td>44831.000000</td>\n",
              "      <td>5.000000</td>\n",
              "      <td>3961.000000</td>\n",
              "      <td>43.673749</td>\n",
              "      <td>-79.378802</td>\n",
              "      <td>272.000000</td>\n",
              "      <td>4.019922</td>\n",
              "      <td>4.000000</td>\n",
              "      <td>36.000000</td>\n",
              "    </tr>\n",
              "    <tr>\n",
              "      <th>max</th>\n",
              "      <td>59372.000000</td>\n",
              "      <td>5.000000</td>\n",
              "      <td>5253.000000</td>\n",
              "      <td>43.876501</td>\n",
              "      <td>-79.139353</td>\n",
              "      <td>2120.000000</td>\n",
              "      <td>5.500000</td>\n",
              "      <td>5.000000</td>\n",
              "      <td>717.000000</td>\n",
              "    </tr>\n",
              "  </tbody>\n",
              "</table>\n",
              "</div>"
            ],
            "text/plain": [
              "                elem     stars_revs  ...  user_stars_mean  user_review_num\n",
              "count  305173.000000  305173.000000  ...    305173.000000    305173.000000\n",
              "mean    30245.505143       3.649632  ...         3.649632        32.456466\n",
              "std     16963.219643       1.263013  ...         0.674939        61.321050\n",
              "min        37.000000       1.000000  ...         1.000000         1.000000\n",
              "25%     15489.000000       3.000000  ...         3.419355         3.000000\n",
              "50%     31032.000000       4.000000  ...         3.585366        10.000000\n",
              "75%     44831.000000       5.000000  ...         4.000000        36.000000\n",
              "max     59372.000000       5.000000  ...         5.000000       717.000000\n",
              "\n",
              "[8 rows x 9 columns]"
            ]
          },
          "metadata": {
            "tags": []
          },
          "execution_count": 30
        }
      ]
    },
    {
      "cell_type": "code",
      "metadata": {
        "id": "og4j-63Kz4kQ",
        "colab_type": "code",
        "colab": {
          "base_uri": "https://localhost:8080/",
          "height": 119
        },
        "outputId": "c37bc08e-d10c-4f6e-8ecf-1002c526c204"
      },
      "source": [
        "#Distribution of star ratings, 4 and 5 most common, 1 and 2 least common\n",
        "revs.stars_revs.value_counts()/len(revs)"
      ],
      "execution_count": 22,
      "outputs": [
        {
          "output_type": "execute_result",
          "data": {
            "text/plain": [
              "4.0    0.326349\n",
              "5.0    0.304542\n",
              "3.0    0.176755\n",
              "2.0    0.098905\n",
              "1.0    0.093449\n",
              "Name: stars_revs, dtype: float64"
            ]
          },
          "metadata": {
            "tags": []
          },
          "execution_count": 22
        }
      ]
    },
    {
      "cell_type": "code",
      "metadata": {
        "id": "3aoewqyv0Frq",
        "colab_type": "code",
        "colab": {
          "base_uri": "https://localhost:8080/",
          "height": 34
        },
        "outputId": "f8a3de67-72a1-4602-b6f3-3aa28a30a0f6"
      },
      "source": [
        "#5000 businesses\n",
        "revs.business_id.nunique()"
      ],
      "execution_count": 25,
      "outputs": [
        {
          "output_type": "execute_result",
          "data": {
            "text/plain": [
              "5253"
            ]
          },
          "metadata": {
            "tags": []
          },
          "execution_count": 25
        }
      ]
    },
    {
      "cell_type": "code",
      "metadata": {
        "id": "41tlgUMx0ADL",
        "colab_type": "code",
        "colab": {
          "base_uri": "https://localhost:8080/",
          "height": 204
        },
        "outputId": "425cf534-8567-4983-a1c6-8164aadb9cf2"
      },
      "source": [
        "#Top business has 2000 reviews\n",
        "revs.business_id.value_counts()[:10]"
      ],
      "execution_count": 24,
      "outputs": [
        {
          "output_type": "execute_result",
          "data": {
            "text/plain": [
              "r_BrIgzYcwo1NAuG9dLbpg    2177\n",
              "aLcFhMe6DDJ430zelCpd2A    1467\n",
              "RtUvSWO_UZ8V3Wpj0n077w    1425\n",
              "iGEvDk6hsizigmXhDKs2Vg    1183\n",
              "N93EYZy9R0sdlEvubu94ig    1078\n",
              "RwRNR4z3kY-4OsFqigY5sw     973\n",
              "zgQHtqX0gqMw1nlBZl2VnQ     930\n",
              "-av1lZI1JDY_RZN2eTMnWg     903\n",
              "B70iTJjcPkuYn8ouUewWgw     864\n",
              "e41TP5cXZqSrz50xCBJqZw     857\n",
              "Name: business_id, dtype: int64"
            ]
          },
          "metadata": {
            "tags": []
          },
          "execution_count": 24
        }
      ]
    },
    {
      "cell_type": "code",
      "metadata": {
        "id": "U8bsRTD50Lec",
        "colab_type": "code",
        "colab": {
          "base_uri": "https://localhost:8080/",
          "height": 34
        },
        "outputId": "cf8e5bb6-ea10-4c6b-90f4-278fb8942ed8"
      },
      "source": [
        "#80,000 unique reviewers\n",
        "revs.user_id.nunique()"
      ],
      "execution_count": 27,
      "outputs": [
        {
          "output_type": "execute_result",
          "data": {
            "text/plain": [
              "79775"
            ]
          },
          "metadata": {
            "tags": []
          },
          "execution_count": 27
        }
      ]
    },
    {
      "cell_type": "code",
      "metadata": {
        "id": "HnMt48770NHU",
        "colab_type": "code",
        "colab": {
          "base_uri": "https://localhost:8080/",
          "height": 204
        },
        "outputId": "be62409b-6b81-48e5-fd28-b58771d9ee40"
      },
      "source": [
        "#Most prolific user has given 700 reviews\n",
        "revs.user_id.value_counts()[:10]"
      ],
      "execution_count": 29,
      "outputs": [
        {
          "output_type": "execute_result",
          "data": {
            "text/plain": [
              "CxDOIDnH8gp9KXzpBHJYXw    717\n",
              "Q9mA60HnY87C1TW5kjAZ6Q    424\n",
              "O3pSxv1SyHpY4qi4Q16KzA    404\n",
              "ic-tyi1jElL_umxZVh8KNA    323\n",
              "1fNQRju9gmoCEvbPQBSo7w    317\n",
              "iRQ_YKpCBdaCwvc2X8_3NQ    304\n",
              "FREeRQtjdJU83AFtdETBBw    296\n",
              "gwIqbXEXijQNgdESVc07hg    287\n",
              "0BBUmH7Krcax1RZgbH4fSA    283\n",
              "yT_QCcnq-QGipWWuzIpvtw    270\n",
              "Name: user_id, dtype: int64"
            ]
          },
          "metadata": {
            "tags": []
          },
          "execution_count": 29
        }
      ]
    },
    {
      "cell_type": "code",
      "metadata": {
        "id": "ws70Pv6UHtfv",
        "colab_type": "code",
        "colab": {}
      },
      "source": [
        "#In the next few cells I run a simple linear regression model, using mainly average stars of business and reviewer to try and guess rating\n",
        "\n",
        "revs_num=revs[revs.describe().columns]"
      ],
      "execution_count": 0,
      "outputs": []
    },
    {
      "cell_type": "code",
      "metadata": {
        "id": "RBIf3Z_yHYEU",
        "colab_type": "code",
        "colab": {}
      },
      "source": [
        "X= revs_num.drop(columns='stars_revs')"
      ],
      "execution_count": 0,
      "outputs": []
    },
    {
      "cell_type": "code",
      "metadata": {
        "id": "deUsJQVoVzHO",
        "colab_type": "code",
        "outputId": "4111cf1f-a485-4967-db88-e50cde5aca73",
        "colab": {
          "base_uri": "https://localhost:8080/",
          "height": 204
        }
      },
      "source": [
        "X.head()"
      ],
      "execution_count": 7,
      "outputs": [
        {
          "output_type": "execute_result",
          "data": {
            "text/html": [
              "<div>\n",
              "<style scoped>\n",
              "    .dataframe tbody tr th:only-of-type {\n",
              "        vertical-align: middle;\n",
              "    }\n",
              "\n",
              "    .dataframe tbody tr th {\n",
              "        vertical-align: top;\n",
              "    }\n",
              "\n",
              "    .dataframe thead th {\n",
              "        text-align: right;\n",
              "    }\n",
              "</style>\n",
              "<table border=\"1\" class=\"dataframe\">\n",
              "  <thead>\n",
              "    <tr style=\"text-align: right;\">\n",
              "      <th></th>\n",
              "      <th>elem</th>\n",
              "      <th>biz_num</th>\n",
              "      <th>latitude</th>\n",
              "      <th>longitude</th>\n",
              "      <th>review_count</th>\n",
              "      <th>stars_bus</th>\n",
              "      <th>user_stars_mean</th>\n",
              "      <th>user_review_num</th>\n",
              "    </tr>\n",
              "  </thead>\n",
              "  <tbody>\n",
              "    <tr>\n",
              "      <th>0</th>\n",
              "      <td>10766</td>\n",
              "      <td>943</td>\n",
              "      <td>43.649674</td>\n",
              "      <td>-79.435116</td>\n",
              "      <td>54</td>\n",
              "      <td>3.346230</td>\n",
              "      <td>3.674419</td>\n",
              "      <td>44</td>\n",
              "    </tr>\n",
              "    <tr>\n",
              "      <th>1</th>\n",
              "      <td>33371</td>\n",
              "      <td>2934</td>\n",
              "      <td>43.645277</td>\n",
              "      <td>-79.389704</td>\n",
              "      <td>70</td>\n",
              "      <td>3.942857</td>\n",
              "      <td>1.000000</td>\n",
              "      <td>2</td>\n",
              "    </tr>\n",
              "    <tr>\n",
              "      <th>2</th>\n",
              "      <td>57511</td>\n",
              "      <td>5099</td>\n",
              "      <td>43.665441</td>\n",
              "      <td>-79.465238</td>\n",
              "      <td>234</td>\n",
              "      <td>4.087616</td>\n",
              "      <td>3.625000</td>\n",
              "      <td>9</td>\n",
              "    </tr>\n",
              "    <tr>\n",
              "      <th>3</th>\n",
              "      <td>32926</td>\n",
              "      <td>2894</td>\n",
              "      <td>43.648404</td>\n",
              "      <td>-79.375469</td>\n",
              "      <td>76</td>\n",
              "      <td>3.117240</td>\n",
              "      <td>3.250000</td>\n",
              "      <td>13</td>\n",
              "    </tr>\n",
              "    <tr>\n",
              "      <th>4</th>\n",
              "      <td>28247</td>\n",
              "      <td>2479</td>\n",
              "      <td>43.647726</td>\n",
              "      <td>-79.396247</td>\n",
              "      <td>39</td>\n",
              "      <td>2.949343</td>\n",
              "      <td>3.625000</td>\n",
              "      <td>57</td>\n",
              "    </tr>\n",
              "  </tbody>\n",
              "</table>\n",
              "</div>"
            ],
            "text/plain": [
              "    elem  biz_num   latitude  ...  stars_bus  user_stars_mean  user_review_num\n",
              "0  10766      943  43.649674  ...   3.346230         3.674419               44\n",
              "1  33371     2934  43.645277  ...   3.942857         1.000000                2\n",
              "2  57511     5099  43.665441  ...   4.087616         3.625000                9\n",
              "3  32926     2894  43.648404  ...   3.117240         3.250000               13\n",
              "4  28247     2479  43.647726  ...   2.949343         3.625000               57\n",
              "\n",
              "[5 rows x 8 columns]"
            ]
          },
          "metadata": {
            "tags": []
          },
          "execution_count": 7
        }
      ]
    },
    {
      "cell_type": "code",
      "metadata": {
        "id": "e2IcKOalV0wm",
        "colab_type": "code",
        "colab": {}
      },
      "source": [
        "#Created a feature called 'star_est', which gives a weighted average of business and user average rating\n",
        "#Applied smoothing on small samples by adding in 2 ratings of the dataset average, 3.65 stars (adding to 7.3) to each \n",
        "X['star_est']= (X.stars_bus * X.review_count + 7.3) / (X.review_count+2)**.5\n",
        "X['star_est']+=(X.user_stars_mean*X.user_review_num + 7.3)/ (X.user_review_num+2)**.5\n",
        "X['star_est']/= (X.user_review_num+2)**.5 + (X.review_count + 2)**.5\n",
        "   "
      ],
      "execution_count": 0,
      "outputs": []
    },
    {
      "cell_type": "code",
      "metadata": {
        "id": "dLIb8K7_HcUm",
        "colab_type": "code",
        "colab": {}
      },
      "source": [
        "y= pd.DataFrame(revs.stars_revs)"
      ],
      "execution_count": 0,
      "outputs": []
    },
    {
      "cell_type": "code",
      "metadata": {
        "id": "ZztKr--N-gK_",
        "colab_type": "code",
        "colab": {}
      },
      "source": [
        ""
      ],
      "execution_count": 0,
      "outputs": []
    },
    {
      "cell_type": "code",
      "metadata": {
        "id": "1U8j9k9WHgcK",
        "colab_type": "code",
        "colab": {}
      },
      "source": [
        "lr= LinearRegression()"
      ],
      "execution_count": 0,
      "outputs": []
    },
    {
      "cell_type": "code",
      "metadata": {
        "id": "_meStXb_HjVa",
        "colab_type": "code",
        "outputId": "15b4210c-3249-47ef-ee6d-67d9ff8a2154",
        "colab": {
          "base_uri": "https://localhost:8080/",
          "height": 34
        }
      },
      "source": [
        "lr.fit(X, y)"
      ],
      "execution_count": 77,
      "outputs": [
        {
          "output_type": "execute_result",
          "data": {
            "text/plain": [
              "LinearRegression(copy_X=True, fit_intercept=True, n_jobs=None, normalize=False)"
            ]
          },
          "metadata": {
            "tags": []
          },
          "execution_count": 77
        }
      ]
    },
    {
      "cell_type": "code",
      "metadata": {
        "id": "aOVfgIHbHnWA",
        "colab_type": "code",
        "colab": {}
      },
      "source": [
        "v= lr.predict(X)"
      ],
      "execution_count": 0,
      "outputs": []
    },
    {
      "cell_type": "code",
      "metadata": {
        "id": "Su1CfkjbH1jN",
        "colab_type": "code",
        "colab": {}
      },
      "source": [
        "y['predi']= v"
      ],
      "execution_count": 0,
      "outputs": []
    },
    {
      "cell_type": "code",
      "metadata": {
        "id": "bG6SIXABH9Jo",
        "colab_type": "code",
        "outputId": "b291a8bd-01b2-4878-e306-79ad16535dd1",
        "colab": {
          "base_uri": "https://localhost:8080/",
          "height": 204
        }
      },
      "source": [
        "y.head()"
      ],
      "execution_count": 80,
      "outputs": [
        {
          "output_type": "execute_result",
          "data": {
            "text/html": [
              "<div>\n",
              "<style scoped>\n",
              "    .dataframe tbody tr th:only-of-type {\n",
              "        vertical-align: middle;\n",
              "    }\n",
              "\n",
              "    .dataframe tbody tr th {\n",
              "        vertical-align: top;\n",
              "    }\n",
              "\n",
              "    .dataframe thead th {\n",
              "        text-align: right;\n",
              "    }\n",
              "</style>\n",
              "<table border=\"1\" class=\"dataframe\">\n",
              "  <thead>\n",
              "    <tr style=\"text-align: right;\">\n",
              "      <th></th>\n",
              "      <th>stars_revs</th>\n",
              "      <th>predi</th>\n",
              "    </tr>\n",
              "  </thead>\n",
              "  <tbody>\n",
              "    <tr>\n",
              "      <th>0</th>\n",
              "      <td>1.0</td>\n",
              "      <td>3.435789</td>\n",
              "    </tr>\n",
              "    <tr>\n",
              "      <th>1</th>\n",
              "      <td>5.0</td>\n",
              "      <td>3.194611</td>\n",
              "    </tr>\n",
              "    <tr>\n",
              "      <th>2</th>\n",
              "      <td>3.0</td>\n",
              "      <td>4.083431</td>\n",
              "    </tr>\n",
              "    <tr>\n",
              "      <th>3</th>\n",
              "      <td>1.0</td>\n",
              "      <td>2.981112</td>\n",
              "    </tr>\n",
              "    <tr>\n",
              "      <th>4</th>\n",
              "      <td>4.0</td>\n",
              "      <td>3.160578</td>\n",
              "    </tr>\n",
              "  </tbody>\n",
              "</table>\n",
              "</div>"
            ],
            "text/plain": [
              "   stars_revs     predi\n",
              "0         1.0  3.435789\n",
              "1         5.0  3.194611\n",
              "2         3.0  4.083431\n",
              "3         1.0  2.981112\n",
              "4         4.0  3.160578"
            ]
          },
          "metadata": {
            "tags": []
          },
          "execution_count": 80
        }
      ]
    },
    {
      "cell_type": "code",
      "metadata": {
        "id": "MYODacKtJWf6",
        "colab_type": "code",
        "colab": {}
      },
      "source": [
        "y['predi_buck']= pd.cut(y['predi'], [0, 1,1.5, 2, 2.5, 3, 3.5, 4, 4.25, 4.5, 4.75, 5, 6])"
      ],
      "execution_count": 0,
      "outputs": []
    },
    {
      "cell_type": "code",
      "metadata": {
        "id": "VytmvW87J6RX",
        "colab_type": "code",
        "outputId": "6cda67e4-d75f-4f6f-a9c8-5dec94cbeae4",
        "colab": {
          "base_uri": "https://localhost:8080/",
          "height": 238
        }
      },
      "source": [
        "#Seeing how many predictions are in each bucket, below 1 and above 5 is clearly absurd as scale is 1-5\n",
        "y.predi_buck.value_counts()"
      ],
      "execution_count": 82,
      "outputs": [
        {
          "output_type": "execute_result",
          "data": {
            "text/plain": [
              "(3.5, 4.0]     110443\n",
              "(3.0, 3.5]      77984\n",
              "(4.0, 4.25]     43881\n",
              "(2.5, 3.0]      26642\n",
              "(4.25, 4.5]     25568\n",
              "(4.5, 4.75]      9896\n",
              "(2.0, 2.5]       6209\n",
              "(4.75, 5.0]      2467\n",
              "(1.5, 2.0]       1440\n",
              "(5.0, 6.0]        339\n",
              "(1.0, 1.5]        275\n",
              "(0.0, 1.0]         29\n",
              "Name: predi_buck, dtype: int64"
            ]
          },
          "metadata": {
            "tags": []
          },
          "execution_count": 82
        }
      ]
    },
    {
      "cell_type": "code",
      "metadata": {
        "id": "0UfBWvoBJo5Y",
        "colab_type": "code",
        "outputId": "0de67bb4-0e71-4f5b-e5be-8e988a0ca9b3",
        "colab": {
          "base_uri": "https://localhost:8080/",
          "height": 452
        }
      },
      "source": [
        "#Seeing actual average by prediction bucket\n",
        "\n",
        "y.groupby('predi_buck').mean()"
      ],
      "execution_count": 83,
      "outputs": [
        {
          "output_type": "execute_result",
          "data": {
            "text/html": [
              "<div>\n",
              "<style scoped>\n",
              "    .dataframe tbody tr th:only-of-type {\n",
              "        vertical-align: middle;\n",
              "    }\n",
              "\n",
              "    .dataframe tbody tr th {\n",
              "        vertical-align: top;\n",
              "    }\n",
              "\n",
              "    .dataframe thead th {\n",
              "        text-align: right;\n",
              "    }\n",
              "</style>\n",
              "<table border=\"1\" class=\"dataframe\">\n",
              "  <thead>\n",
              "    <tr style=\"text-align: right;\">\n",
              "      <th></th>\n",
              "      <th>stars_revs</th>\n",
              "      <th>predi</th>\n",
              "    </tr>\n",
              "    <tr>\n",
              "      <th>predi_buck</th>\n",
              "      <th></th>\n",
              "      <th></th>\n",
              "    </tr>\n",
              "  </thead>\n",
              "  <tbody>\n",
              "    <tr>\n",
              "      <th>(0.0, 1.0]</th>\n",
              "      <td>1.310345</td>\n",
              "      <td>0.848657</td>\n",
              "    </tr>\n",
              "    <tr>\n",
              "      <th>(1.0, 1.5]</th>\n",
              "      <td>1.585455</td>\n",
              "      <td>1.330329</td>\n",
              "    </tr>\n",
              "    <tr>\n",
              "      <th>(1.5, 2.0]</th>\n",
              "      <td>1.794444</td>\n",
              "      <td>1.804154</td>\n",
              "    </tr>\n",
              "    <tr>\n",
              "      <th>(2.0, 2.5]</th>\n",
              "      <td>2.237558</td>\n",
              "      <td>2.311002</td>\n",
              "    </tr>\n",
              "    <tr>\n",
              "      <th>(2.5, 3.0]</th>\n",
              "      <td>2.790781</td>\n",
              "      <td>2.803332</td>\n",
              "    </tr>\n",
              "    <tr>\n",
              "      <th>(3.0, 3.5]</th>\n",
              "      <td>3.283058</td>\n",
              "      <td>3.283009</td>\n",
              "    </tr>\n",
              "    <tr>\n",
              "      <th>(3.5, 4.0]</th>\n",
              "      <td>3.761298</td>\n",
              "      <td>3.751940</td>\n",
              "    </tr>\n",
              "    <tr>\n",
              "      <th>(4.0, 4.25]</th>\n",
              "      <td>4.140995</td>\n",
              "      <td>4.116553</td>\n",
              "    </tr>\n",
              "    <tr>\n",
              "      <th>(4.25, 4.5]</th>\n",
              "      <td>4.345745</td>\n",
              "      <td>4.361981</td>\n",
              "    </tr>\n",
              "    <tr>\n",
              "      <th>(4.5, 4.75]</th>\n",
              "      <td>4.546584</td>\n",
              "      <td>4.598189</td>\n",
              "    </tr>\n",
              "    <tr>\n",
              "      <th>(4.75, 5.0]</th>\n",
              "      <td>4.695176</td>\n",
              "      <td>4.843919</td>\n",
              "    </tr>\n",
              "    <tr>\n",
              "      <th>(5.0, 6.0]</th>\n",
              "      <td>4.814159</td>\n",
              "      <td>5.098004</td>\n",
              "    </tr>\n",
              "  </tbody>\n",
              "</table>\n",
              "</div>"
            ],
            "text/plain": [
              "             stars_revs     predi\n",
              "predi_buck                       \n",
              "(0.0, 1.0]     1.310345  0.848657\n",
              "(1.0, 1.5]     1.585455  1.330329\n",
              "(1.5, 2.0]     1.794444  1.804154\n",
              "(2.0, 2.5]     2.237558  2.311002\n",
              "(2.5, 3.0]     2.790781  2.803332\n",
              "(3.0, 3.5]     3.283058  3.283009\n",
              "(3.5, 4.0]     3.761298  3.751940\n",
              "(4.0, 4.25]    4.140995  4.116553\n",
              "(4.25, 4.5]    4.345745  4.361981\n",
              "(4.5, 4.75]    4.546584  4.598189\n",
              "(4.75, 5.0]    4.695176  4.843919\n",
              "(5.0, 6.0]     4.814159  5.098004"
            ]
          },
          "metadata": {
            "tags": []
          },
          "execution_count": 83
        }
      ]
    },
    {
      "cell_type": "code",
      "metadata": {
        "id": "D2b7wAU8LwdS",
        "colab_type": "code",
        "colab": {}
      },
      "source": [
        "#Adjusting predictions to be between 1.5 and 4.8 stars\n",
        "y['adj_pred']=1.5*(y.predi<1.5) + y.predi*(y.predi>=1.5)\n",
        "y['adj_pred']= 4.8*(y.adj_pred>=4.8) + y.adj_pred*(y.adj_pred<4.8)"
      ],
      "execution_count": 0,
      "outputs": []
    },
    {
      "cell_type": "code",
      "metadata": {
        "id": "aLZsXV1sMEC4",
        "colab_type": "code",
        "colab": {}
      },
      "source": [
        ""
      ],
      "execution_count": 0,
      "outputs": []
    },
    {
      "cell_type": "code",
      "metadata": {
        "id": "cxk5dWeVH6Qx",
        "colab_type": "code",
        "outputId": "63950bec-5308-4fb1-e999-272bca11d46b",
        "colab": {
          "base_uri": "https://localhost:8080/",
          "height": 34
        }
      },
      "source": [
        "#Unadjusted RMSE\n",
        "(sum((y['stars_revs']- y['predi'])**2)/len(y))**.5"
      ],
      "execution_count": 85,
      "outputs": [
        {
          "output_type": "execute_result",
          "data": {
            "text/plain": [
              "1.1417513563620678"
            ]
          },
          "metadata": {
            "tags": []
          },
          "execution_count": 85
        }
      ]
    },
    {
      "cell_type": "code",
      "metadata": {
        "id": "de1UT0E1MLP3",
        "colab_type": "code",
        "outputId": "93bc0afc-5e3e-4413-bc36-0b70c0dfd003",
        "colab": {
          "base_uri": "https://localhost:8080/",
          "height": 34
        }
      },
      "source": [
        "#Adjusted RMSE\n",
        "(sum((y['stars_revs']- y['adj_pred'])**2)/len(y))**.5"
      ],
      "execution_count": 86,
      "outputs": [
        {
          "output_type": "execute_result",
          "data": {
            "text/plain": [
              "1.141638832654151"
            ]
          },
          "metadata": {
            "tags": []
          },
          "execution_count": 86
        }
      ]
    },
    {
      "cell_type": "code",
      "metadata": {
        "id": "fEKtZeJ41NoC",
        "colab_type": "code",
        "colab": {}
      },
      "source": [
        "y['star_est']=X['star_est']"
      ],
      "execution_count": 0,
      "outputs": []
    },
    {
      "cell_type": "code",
      "metadata": {
        "id": "F0fzQv0l1RnC",
        "colab_type": "code",
        "colab": {
          "base_uri": "https://localhost:8080/",
          "height": 34
        },
        "outputId": "e92e6111-6fc0-4712-80b8-4d5a0c0a9f26"
      },
      "source": [
        "#RMSE of my star estimate, not too bad\n",
        "(sum((y['stars_revs']- y['star_est'])**2)/len(y))**.5"
      ],
      "execution_count": 93,
      "outputs": [
        {
          "output_type": "execute_result",
          "data": {
            "text/plain": [
              "1.155854337524322"
            ]
          },
          "metadata": {
            "tags": []
          },
          "execution_count": 93
        }
      ]
    },
    {
      "cell_type": "code",
      "metadata": {
        "id": "7OxHXg40IFWf",
        "colab_type": "code",
        "outputId": "b89c2ffe-b00c-4fc3-e167-c7ebcca40ff9",
        "colab": {
          "base_uri": "https://localhost:8080/",
          "height": 68
        }
      },
      "source": [
        "X.columns"
      ],
      "execution_count": 89,
      "outputs": [
        {
          "output_type": "execute_result",
          "data": {
            "text/plain": [
              "Index(['elem', 'biz_num', 'latitude', 'longitude', 'review_count', 'stars_bus',\n",
              "       'user_stars_mean', 'user_review_num', 'star_est'],\n",
              "      dtype='object')"
            ]
          },
          "metadata": {
            "tags": []
          },
          "execution_count": 89
        }
      ]
    },
    {
      "cell_type": "code",
      "metadata": {
        "id": "l_z8PdmWIMSG",
        "colab_type": "code",
        "outputId": "7bbfe3b3-ec16-4204-f551-1526adf943f5",
        "colab": {
          "base_uri": "https://localhost:8080/",
          "height": 68
        }
      },
      "source": [
        "lr.coef_"
      ],
      "execution_count": 90,
      "outputs": [
        {
          "output_type": "execute_result",
          "data": {
            "text/plain": [
              "array([[ 2.46083567e-06, -2.88954702e-05, -1.41767859e-02,\n",
              "         2.37433911e-02, -3.12210925e-05,  2.32051226e-01,\n",
              "         1.87303968e-01, -6.46832019e-05,  9.96828463e-01]])"
            ]
          },
          "metadata": {
            "tags": []
          },
          "execution_count": 90
        }
      ]
    },
    {
      "cell_type": "code",
      "metadata": {
        "id": "KLIqhKLhIY3W",
        "colab_type": "code",
        "outputId": "b9d5602c-b6a2-47ea-c226-89680a6508e9",
        "colab": {
          "base_uri": "https://localhost:8080/",
          "height": 34
        }
      },
      "source": [
        "lr.intercept_"
      ],
      "execution_count": 91,
      "outputs": [
        {
          "output_type": "execute_result",
          "data": {
            "text/plain": [
              "array([0.9848939])"
            ]
          },
          "metadata": {
            "tags": []
          },
          "execution_count": 91
        }
      ]
    },
    {
      "cell_type": "code",
      "metadata": {
        "id": "wmazlD5RJFd-",
        "colab_type": "code",
        "outputId": "abe6e6c6-3fd6-41b5-c22d-aaf83f85bba4",
        "colab": {
          "base_uri": "https://localhost:8080/",
          "height": 297
        }
      },
      "source": [
        "y.describe()"
      ],
      "execution_count": 92,
      "outputs": [
        {
          "output_type": "execute_result",
          "data": {
            "text/html": [
              "<div>\n",
              "<style scoped>\n",
              "    .dataframe tbody tr th:only-of-type {\n",
              "        vertical-align: middle;\n",
              "    }\n",
              "\n",
              "    .dataframe tbody tr th {\n",
              "        vertical-align: top;\n",
              "    }\n",
              "\n",
              "    .dataframe thead th {\n",
              "        text-align: right;\n",
              "    }\n",
              "</style>\n",
              "<table border=\"1\" class=\"dataframe\">\n",
              "  <thead>\n",
              "    <tr style=\"text-align: right;\">\n",
              "      <th></th>\n",
              "      <th>stars_revs</th>\n",
              "      <th>predi</th>\n",
              "      <th>adj_pred</th>\n",
              "      <th>star_est</th>\n",
              "    </tr>\n",
              "  </thead>\n",
              "  <tbody>\n",
              "    <tr>\n",
              "      <th>count</th>\n",
              "      <td>305173.000000</td>\n",
              "      <td>305173.000000</td>\n",
              "      <td>305173.000000</td>\n",
              "      <td>305173.000000</td>\n",
              "    </tr>\n",
              "    <tr>\n",
              "      <th>mean</th>\n",
              "      <td>3.649632</td>\n",
              "      <td>3.649632</td>\n",
              "      <td>3.649088</td>\n",
              "      <td>3.661754</td>\n",
              "    </tr>\n",
              "    <tr>\n",
              "      <th>std</th>\n",
              "      <td>1.263013</td>\n",
              "      <td>0.540000</td>\n",
              "      <td>0.537301</td>\n",
              "      <td>0.381767</td>\n",
              "    </tr>\n",
              "    <tr>\n",
              "      <th>min</th>\n",
              "      <td>1.000000</td>\n",
              "      <td>0.582799</td>\n",
              "      <td>1.500000</td>\n",
              "      <td>1.607964</td>\n",
              "    </tr>\n",
              "    <tr>\n",
              "      <th>25%</th>\n",
              "      <td>3.000000</td>\n",
              "      <td>3.313625</td>\n",
              "      <td>3.313625</td>\n",
              "      <td>3.420300</td>\n",
              "    </tr>\n",
              "    <tr>\n",
              "      <th>50%</th>\n",
              "      <td>4.000000</td>\n",
              "      <td>3.684526</td>\n",
              "      <td>3.684526</td>\n",
              "      <td>3.683335</td>\n",
              "    </tr>\n",
              "    <tr>\n",
              "      <th>75%</th>\n",
              "      <td>5.000000</td>\n",
              "      <td>4.028714</td>\n",
              "      <td>4.028714</td>\n",
              "      <td>3.933276</td>\n",
              "    </tr>\n",
              "    <tr>\n",
              "      <th>max</th>\n",
              "      <td>5.000000</td>\n",
              "      <td>5.320560</td>\n",
              "      <td>4.800000</td>\n",
              "      <td>4.807410</td>\n",
              "    </tr>\n",
              "  </tbody>\n",
              "</table>\n",
              "</div>"
            ],
            "text/plain": [
              "          stars_revs          predi       adj_pred       star_est\n",
              "count  305173.000000  305173.000000  305173.000000  305173.000000\n",
              "mean        3.649632       3.649632       3.649088       3.661754\n",
              "std         1.263013       0.540000       0.537301       0.381767\n",
              "min         1.000000       0.582799       1.500000       1.607964\n",
              "25%         3.000000       3.313625       3.313625       3.420300\n",
              "50%         4.000000       3.684526       3.684526       3.683335\n",
              "75%         5.000000       4.028714       4.028714       3.933276\n",
              "max         5.000000       5.320560       4.800000       4.807410"
            ]
          },
          "metadata": {
            "tags": []
          },
          "execution_count": 92
        }
      ]
    },
    {
      "cell_type": "code",
      "metadata": {
        "id": "EYQK3Mxnbwtt",
        "colab_type": "code",
        "colab": {}
      },
      "source": [
        ""
      ],
      "execution_count": 0,
      "outputs": []
    },
    {
      "cell_type": "code",
      "metadata": {
        "id": "6EipCAg00EDW",
        "colab_type": "code",
        "colab": {}
      },
      "source": [
        ""
      ],
      "execution_count": 0,
      "outputs": []
    }
  ]
}