{
  "nbformat": 4,
  "nbformat_minor": 0,
  "metadata": {
    "colab": {
      "name": "Yelp Data Maker.ipynb",
      "version": "0.3.2",
      "provenance": [],
      "collapsed_sections": []
    },
    "kernelspec": {
      "name": "python3",
      "display_name": "Python 3"
    }
  },
  "cells": [
    {
      "cell_type": "code",
      "metadata": {
        "id": "3w3M8_qBgXa6",
        "colab_type": "code",
        "colab": {}
      },
      "source": [
        "\n",
        "import pandas as pd\n",
        "import json\n",
        "import sys\n",
        "import time"
      ],
      "execution_count": 0,
      "outputs": []
    },
    {
      "cell_type": "code",
      "metadata": {
        "id": "RcFQndZg9fWa",
        "colab_type": "code",
        "colab": {
          "base_uri": "https://localhost:8080/",
          "height": 292
        },
        "outputId": "cf92693b-ca57-48ea-8411-fbc943e0f21e"
      },
      "source": [
        "!pip install surprise"
      ],
      "execution_count": 56,
      "outputs": [
        {
          "output_type": "stream",
          "text": [
            "Collecting surprise\n",
            "  Downloading https://files.pythonhosted.org/packages/61/de/e5cba8682201fcf9c3719a6fdda95693468ed061945493dea2dd37c5618b/surprise-0.1-py2.py3-none-any.whl\n",
            "Collecting scikit-surprise (from surprise)\n",
            "\u001b[?25l  Downloading https://files.pythonhosted.org/packages/4d/fc/cd4210b247d1dca421c25994740cbbf03c5e980e31881f10eaddf45fdab0/scikit-surprise-1.0.6.tar.gz (3.3MB)\n",
            "\u001b[K     |████████████████████████████████| 3.3MB 4.9MB/s \n",
            "\u001b[?25hRequirement already satisfied: joblib>=0.11 in /usr/local/lib/python3.6/dist-packages (from scikit-surprise->surprise) (0.13.2)\n",
            "Requirement already satisfied: numpy>=1.11.2 in /usr/local/lib/python3.6/dist-packages (from scikit-surprise->surprise) (1.16.4)\n",
            "Requirement already satisfied: scipy>=1.0.0 in /usr/local/lib/python3.6/dist-packages (from scikit-surprise->surprise) (1.3.0)\n",
            "Requirement already satisfied: six>=1.10.0 in /usr/local/lib/python3.6/dist-packages (from scikit-surprise->surprise) (1.12.0)\n",
            "Building wheels for collected packages: scikit-surprise\n",
            "  Building wheel for scikit-surprise (setup.py) ... \u001b[?25l\u001b[?25hdone\n",
            "  Stored in directory: /root/.cache/pip/wheels/ec/c0/55/3a28eab06b53c220015063ebbdb81213cd3dcbb72c088251ec\n",
            "Successfully built scikit-surprise\n",
            "Installing collected packages: scikit-surprise, surprise\n",
            "Successfully installed scikit-surprise-1.0.6 surprise-0.1\n"
          ],
          "name": "stdout"
        }
      ]
    },
    {
      "cell_type": "code",
      "metadata": {
        "id": "Qbu8RcuM9a1z",
        "colab_type": "code",
        "colab": {}
      },
      "source": [
        "import surprise"
      ],
      "execution_count": 0,
      "outputs": []
    },
    {
      "cell_type": "code",
      "metadata": {
        "id": "2zqxU9wpgdOr",
        "colab_type": "code",
        "colab": {}
      },
      "source": [
        "def bin_searcher(elem, sorted_list, asc=True):\n",
        "    \n",
        "    if asc!=True:\n",
        "        \n",
        "        sorted_list= sorted_list.reverse()\n",
        "    \n",
        "    l=len(sorted_list)\n",
        "    \n",
        "    \n",
        "    upper=l\n",
        "    \n",
        "    mp=int(l/2)\n",
        "    \n",
        "    lower=0\n",
        "    \n",
        "    count=0\n",
        "    \n",
        "    while upper>lower+1 and count<100:\n",
        "\n",
        "        count+=1\n",
        "        val= sorted_list[mp]\n",
        "\n",
        "        if elem==val:\n",
        "            return mp\n",
        "\n",
        "        elif elem>val:\n",
        "            lower=mp\n",
        "            mp=int((lower+upper)/2)\n",
        "\n",
        "        if elem<val:\n",
        "            upper=mp\n",
        "            mp= int((lower+upper)/2)\n",
        "            \n",
        "            \n",
        "    return -1"
      ],
      "execution_count": 0,
      "outputs": []
    },
    {
      "cell_type": "code",
      "metadata": {
        "id": "8p0hSJVEgfb7",
        "colab_type": "code",
        "colab": {}
      },
      "source": [
        "bus=pd.read_csv('businesses.csv')"
      ],
      "execution_count": 0,
      "outputs": []
    },
    {
      "cell_type": "code",
      "metadata": {
        "id": "icZzuzTrhaRu",
        "colab_type": "code",
        "colab": {}
      },
      "source": [
        "del bus['Unnamed: 0']"
      ],
      "execution_count": 0,
      "outputs": []
    },
    {
      "cell_type": "code",
      "metadata": {
        "id": "Bq8TBFB0hbBV",
        "colab_type": "code",
        "colab": {
          "base_uri": "https://localhost:8080/",
          "height": 530
        },
        "outputId": "39fa67e3-2a73-4d27-abf5-03c89470e08e"
      },
      "source": [
        "bus.head()"
      ],
      "execution_count": 7,
      "outputs": [
        {
          "output_type": "execute_result",
          "data": {
            "text/html": [
              "<div>\n",
              "<style scoped>\n",
              "    .dataframe tbody tr th:only-of-type {\n",
              "        vertical-align: middle;\n",
              "    }\n",
              "\n",
              "    .dataframe tbody tr th {\n",
              "        vertical-align: top;\n",
              "    }\n",
              "\n",
              "    .dataframe thead th {\n",
              "        text-align: right;\n",
              "    }\n",
              "</style>\n",
              "<table border=\"1\" class=\"dataframe\">\n",
              "  <thead>\n",
              "    <tr style=\"text-align: right;\">\n",
              "      <th></th>\n",
              "      <th>address</th>\n",
              "      <th>attributes</th>\n",
              "      <th>business_id</th>\n",
              "      <th>categories</th>\n",
              "      <th>city</th>\n",
              "      <th>hours</th>\n",
              "      <th>is_open</th>\n",
              "      <th>latitude</th>\n",
              "      <th>longitude</th>\n",
              "      <th>name</th>\n",
              "      <th>postal_code</th>\n",
              "      <th>review_count</th>\n",
              "      <th>stars</th>\n",
              "      <th>state</th>\n",
              "    </tr>\n",
              "  </thead>\n",
              "  <tbody>\n",
              "    <tr>\n",
              "      <th>0</th>\n",
              "      <td>2818 E Camino Acequia Drive</td>\n",
              "      <td>{'GoodForKids': 'False'}</td>\n",
              "      <td>1SWheh84yJXfytovILXOAQ</td>\n",
              "      <td>Golf, Active Life</td>\n",
              "      <td>Phoenix</td>\n",
              "      <td>NaN</td>\n",
              "      <td>0</td>\n",
              "      <td>33.522143</td>\n",
              "      <td>-112.018481</td>\n",
              "      <td>Arizona Biltmore Golf Club</td>\n",
              "      <td>85016</td>\n",
              "      <td>5</td>\n",
              "      <td>3.0</td>\n",
              "      <td>AZ</td>\n",
              "    </tr>\n",
              "    <tr>\n",
              "      <th>1</th>\n",
              "      <td>30 Eglinton Avenue W</td>\n",
              "      <td>{'RestaurantsReservations': 'True', 'GoodForMe...</td>\n",
              "      <td>QXAEGFB4oINsVuTFxEYKFQ</td>\n",
              "      <td>Specialty Food, Restaurants, Dim Sum, Imported...</td>\n",
              "      <td>Mississauga</td>\n",
              "      <td>{'Monday': '9:0-0:0', 'Tuesday': '9:0-0:0', 'W...</td>\n",
              "      <td>1</td>\n",
              "      <td>43.605499</td>\n",
              "      <td>-79.652289</td>\n",
              "      <td>Emerald Chinese Restaurant</td>\n",
              "      <td>L5R 3E7</td>\n",
              "      <td>128</td>\n",
              "      <td>2.5</td>\n",
              "      <td>ON</td>\n",
              "    </tr>\n",
              "    <tr>\n",
              "      <th>2</th>\n",
              "      <td>10110 Johnston Rd, Ste 15</td>\n",
              "      <td>{'GoodForKids': 'True', 'NoiseLevel': \"u'avera...</td>\n",
              "      <td>gnKjwL_1w79qoiV3IC_xQQ</td>\n",
              "      <td>Sushi Bars, Restaurants, Japanese</td>\n",
              "      <td>Charlotte</td>\n",
              "      <td>{'Monday': '17:30-21:30', 'Wednesday': '17:30-...</td>\n",
              "      <td>1</td>\n",
              "      <td>35.092564</td>\n",
              "      <td>-80.859132</td>\n",
              "      <td>Musashi Japanese Restaurant</td>\n",
              "      <td>28210</td>\n",
              "      <td>170</td>\n",
              "      <td>4.0</td>\n",
              "      <td>NC</td>\n",
              "    </tr>\n",
              "    <tr>\n",
              "      <th>3</th>\n",
              "      <td>15655 W Roosevelt St, Ste 237</td>\n",
              "      <td>NaN</td>\n",
              "      <td>xvX2CttrVhyG2z1dFg_0xw</td>\n",
              "      <td>Insurance, Financial Services</td>\n",
              "      <td>Goodyear</td>\n",
              "      <td>{'Monday': '8:0-17:0', 'Tuesday': '8:0-17:0', ...</td>\n",
              "      <td>1</td>\n",
              "      <td>33.455613</td>\n",
              "      <td>-112.395596</td>\n",
              "      <td>Farmers Insurance - Paul Lorenz</td>\n",
              "      <td>85338</td>\n",
              "      <td>3</td>\n",
              "      <td>5.0</td>\n",
              "      <td>AZ</td>\n",
              "    </tr>\n",
              "    <tr>\n",
              "      <th>4</th>\n",
              "      <td>4209 Stuart Andrew Blvd, Ste F</td>\n",
              "      <td>{'BusinessAcceptsBitcoin': 'False', 'ByAppoint...</td>\n",
              "      <td>HhyxOkGAM07SRYtlQ4wMFQ</td>\n",
              "      <td>Plumbing, Shopping, Local Services, Home Servi...</td>\n",
              "      <td>Charlotte</td>\n",
              "      <td>{'Monday': '7:0-23:0', 'Tuesday': '7:0-23:0', ...</td>\n",
              "      <td>1</td>\n",
              "      <td>35.190012</td>\n",
              "      <td>-80.887223</td>\n",
              "      <td>Queen City Plumbing</td>\n",
              "      <td>28217</td>\n",
              "      <td>4</td>\n",
              "      <td>4.0</td>\n",
              "      <td>NC</td>\n",
              "    </tr>\n",
              "  </tbody>\n",
              "</table>\n",
              "</div>"
            ],
            "text/plain": [
              "                          address  ... state\n",
              "0     2818 E Camino Acequia Drive  ...    AZ\n",
              "1            30 Eglinton Avenue W  ...    ON\n",
              "2       10110 Johnston Rd, Ste 15  ...    NC\n",
              "3   15655 W Roosevelt St, Ste 237  ...    AZ\n",
              "4  4209 Stuart Andrew Blvd, Ste F  ...    NC\n",
              "\n",
              "[5 rows x 14 columns]"
            ]
          },
          "metadata": {
            "tags": []
          },
          "execution_count": 7
        }
      ]
    },
    {
      "cell_type": "code",
      "metadata": {
        "id": "7i6bwbClhhOy",
        "colab_type": "code",
        "colab": {}
      },
      "source": [
        "bus=bus[bus.city=='Toronto']"
      ],
      "execution_count": 0,
      "outputs": []
    },
    {
      "cell_type": "code",
      "metadata": {
        "id": "bmJzCqFLhvau",
        "colab_type": "code",
        "colab": {}
      },
      "source": [
        "bus['categories']=bus['categories'].fillna('lol')"
      ],
      "execution_count": 0,
      "outputs": []
    },
    {
      "cell_type": "code",
      "metadata": {
        "id": "KdkUgBF6hk0e",
        "colab_type": "code",
        "colab": {}
      },
      "source": [
        "bus=bus[bus.categories.str.contains('Restaurant')]"
      ],
      "execution_count": 0,
      "outputs": []
    },
    {
      "cell_type": "code",
      "metadata": {
        "id": "2JvQaxeuhybG",
        "colab_type": "code",
        "colab": {
          "base_uri": "https://localhost:8080/",
          "height": 496
        },
        "outputId": "c47a8f22-b4bf-494a-bd87-5367da1ee44c"
      },
      "source": [
        "bus.head()"
      ],
      "execution_count": 16,
      "outputs": [
        {
          "output_type": "execute_result",
          "data": {
            "text/html": [
              "<div>\n",
              "<style scoped>\n",
              "    .dataframe tbody tr th:only-of-type {\n",
              "        vertical-align: middle;\n",
              "    }\n",
              "\n",
              "    .dataframe tbody tr th {\n",
              "        vertical-align: top;\n",
              "    }\n",
              "\n",
              "    .dataframe thead th {\n",
              "        text-align: right;\n",
              "    }\n",
              "</style>\n",
              "<table border=\"1\" class=\"dataframe\">\n",
              "  <thead>\n",
              "    <tr style=\"text-align: right;\">\n",
              "      <th></th>\n",
              "      <th>address</th>\n",
              "      <th>attributes</th>\n",
              "      <th>business_id</th>\n",
              "      <th>categories</th>\n",
              "      <th>city</th>\n",
              "      <th>hours</th>\n",
              "      <th>is_open</th>\n",
              "      <th>latitude</th>\n",
              "      <th>longitude</th>\n",
              "      <th>name</th>\n",
              "      <th>postal_code</th>\n",
              "      <th>review_count</th>\n",
              "      <th>stars</th>\n",
              "      <th>state</th>\n",
              "    </tr>\n",
              "  </thead>\n",
              "  <tbody>\n",
              "    <tr>\n",
              "      <th>0</th>\n",
              "      <td>1170 Queen Street W</td>\n",
              "      <td>{'WiFi': \"u'no'\", 'BikeParking': 'True', 'Rest...</td>\n",
              "      <td>NDuUMJfrWk52RA-H-OtrpA</td>\n",
              "      <td>Juice Bars &amp; Smoothies, Food, Restaurants, Fas...</td>\n",
              "      <td>Toronto</td>\n",
              "      <td>{'Monday': '8:0-21:0', 'Tuesday': '8:0-21:0', ...</td>\n",
              "      <td>1</td>\n",
              "      <td>43.642889</td>\n",
              "      <td>-79.425429</td>\n",
              "      <td>Bolt Fresh Bar</td>\n",
              "      <td>M6J 1J5</td>\n",
              "      <td>57</td>\n",
              "      <td>3.0</td>\n",
              "      <td>ON</td>\n",
              "    </tr>\n",
              "    <tr>\n",
              "      <th>1</th>\n",
              "      <td>1051 Bloor Street W</td>\n",
              "      <td>{'BusinessParking': \"{'garage': False, 'street...</td>\n",
              "      <td>SP_YXIEwkFPPl_9anCYmpQ</td>\n",
              "      <td>Restaurants, Nightlife, Breakfast &amp; Brunch, Ve...</td>\n",
              "      <td>Toronto</td>\n",
              "      <td>{'Tuesday': '9:0-18:0', 'Wednesday': '9:0-18:0...</td>\n",
              "      <td>0</td>\n",
              "      <td>43.660494</td>\n",
              "      <td>-79.432099</td>\n",
              "      <td>The Steady Cafe &amp; Bar</td>\n",
              "      <td>M6H 1M4</td>\n",
              "      <td>29</td>\n",
              "      <td>3.5</td>\n",
              "      <td>ON</td>\n",
              "    </tr>\n",
              "    <tr>\n",
              "      <th>2</th>\n",
              "      <td>582 College Street</td>\n",
              "      <td>{'Alcohol': \"u'full_bar'\", 'Caters': 'False', ...</td>\n",
              "      <td>mlHC2XcU9Bows6cnYEmRgg</td>\n",
              "      <td>Restaurants, Breakfast &amp; Brunch, Bars, Modern ...</td>\n",
              "      <td>Toronto</td>\n",
              "      <td>{'Thursday': '18:0-2:0', 'Friday': '18:0-2:0',...</td>\n",
              "      <td>0</td>\n",
              "      <td>43.655420</td>\n",
              "      <td>-79.413352</td>\n",
              "      <td>Mad Crush Wine Bar</td>\n",
              "      <td>M6G 1B3</td>\n",
              "      <td>9</td>\n",
              "      <td>4.0</td>\n",
              "      <td>ON</td>\n",
              "    </tr>\n",
              "    <tr>\n",
              "      <th>3</th>\n",
              "      <td>619 Mount Pleasant Road</td>\n",
              "      <td>{'RestaurantsPriceRange2': '2', 'HasTV': 'Fals...</td>\n",
              "      <td>RFbMVekR8lU9tPJ8sWrwHg</td>\n",
              "      <td>Italian, Restaurants</td>\n",
              "      <td>Toronto</td>\n",
              "      <td>NaN</td>\n",
              "      <td>1</td>\n",
              "      <td>43.704229</td>\n",
              "      <td>-79.388230</td>\n",
              "      <td>Tavolino</td>\n",
              "      <td>M4S 2M5</td>\n",
              "      <td>18</td>\n",
              "      <td>4.0</td>\n",
              "      <td>ON</td>\n",
              "    </tr>\n",
              "    <tr>\n",
              "      <th>4</th>\n",
              "      <td>1614 Queen Street E</td>\n",
              "      <td>{'RestaurantsGoodForGroups': 'True', 'Restaura...</td>\n",
              "      <td>NPHZkn1e-tSJAbo8Zm9rYw</td>\n",
              "      <td>Tex-Mex, Mexican, Restaurants</td>\n",
              "      <td>Toronto</td>\n",
              "      <td>{'Monday': '11:0-23:0', 'Tuesday': '11:0-23:0'...</td>\n",
              "      <td>1</td>\n",
              "      <td>43.666181</td>\n",
              "      <td>-79.316468</td>\n",
              "      <td>Burrito Bandidos</td>\n",
              "      <td>M4L 1G4</td>\n",
              "      <td>43</td>\n",
              "      <td>3.5</td>\n",
              "      <td>ON</td>\n",
              "    </tr>\n",
              "  </tbody>\n",
              "</table>\n",
              "</div>"
            ],
            "text/plain": [
              "                   address  ... state\n",
              "0      1170 Queen Street W  ...    ON\n",
              "1      1051 Bloor Street W  ...    ON\n",
              "2       582 College Street  ...    ON\n",
              "3  619 Mount Pleasant Road  ...    ON\n",
              "4      1614 Queen Street E  ...    ON\n",
              "\n",
              "[5 rows x 14 columns]"
            ]
          },
          "metadata": {
            "tags": []
          },
          "execution_count": 16
        }
      ]
    },
    {
      "cell_type": "code",
      "metadata": {
        "id": "mJQilfaih3Av",
        "colab_type": "code",
        "colab": {
          "base_uri": "https://localhost:8080/",
          "height": 34
        },
        "outputId": "11efa47f-7bb6-43f7-cbf4-85ad1a1795c5"
      },
      "source": [
        "sum(bus.is_open)"
      ],
      "execution_count": 17,
      "outputs": [
        {
          "output_type": "execute_result",
          "data": {
            "text/plain": [
              "5254"
            ]
          },
          "metadata": {
            "tags": []
          },
          "execution_count": 17
        }
      ]
    },
    {
      "cell_type": "code",
      "metadata": {
        "id": "YU1NLle1h7-f",
        "colab_type": "code",
        "colab": {}
      },
      "source": [
        "bus=bus[bus.is_open>0.5]"
      ],
      "execution_count": 0,
      "outputs": []
    },
    {
      "cell_type": "code",
      "metadata": {
        "id": "nUKMrmJEh99X",
        "colab_type": "code",
        "colab": {}
      },
      "source": [
        "bus=bus.reset_index(drop=True)"
      ],
      "execution_count": 0,
      "outputs": []
    },
    {
      "cell_type": "code",
      "metadata": {
        "id": "qsCQSjCSiCQR",
        "colab_type": "code",
        "colab": {}
      },
      "source": [
        "del bus['attributes']\n",
        "del bus['city']\n",
        "del bus['state']"
      ],
      "execution_count": 0,
      "outputs": []
    },
    {
      "cell_type": "code",
      "metadata": {
        "id": "YbNk5sqZuv35",
        "colab_type": "code",
        "colab": {}
      },
      "source": [
        "del bus['is_open']"
      ],
      "execution_count": 0,
      "outputs": []
    },
    {
      "cell_type": "code",
      "metadata": {
        "id": "5SWLo9MpiSaK",
        "colab_type": "code",
        "colab": {
          "base_uri": "https://localhost:8080/",
          "height": 547
        },
        "outputId": "08a1346b-4d95-47c4-c531-d1e5401ecf27"
      },
      "source": [
        "bus.head()"
      ],
      "execution_count": 41,
      "outputs": [
        {
          "output_type": "execute_result",
          "data": {
            "text/html": [
              "<div>\n",
              "<style scoped>\n",
              "    .dataframe tbody tr th:only-of-type {\n",
              "        vertical-align: middle;\n",
              "    }\n",
              "\n",
              "    .dataframe tbody tr th {\n",
              "        vertical-align: top;\n",
              "    }\n",
              "\n",
              "    .dataframe thead th {\n",
              "        text-align: right;\n",
              "    }\n",
              "</style>\n",
              "<table border=\"1\" class=\"dataframe\">\n",
              "  <thead>\n",
              "    <tr style=\"text-align: right;\">\n",
              "      <th></th>\n",
              "      <th>address</th>\n",
              "      <th>business_id</th>\n",
              "      <th>categories</th>\n",
              "      <th>hours</th>\n",
              "      <th>latitude</th>\n",
              "      <th>longitude</th>\n",
              "      <th>name</th>\n",
              "      <th>postal_code</th>\n",
              "      <th>review_count</th>\n",
              "      <th>stars</th>\n",
              "    </tr>\n",
              "  </thead>\n",
              "  <tbody>\n",
              "    <tr>\n",
              "      <th>3408</th>\n",
              "      <td>1218 Saint Clair Avenue W</td>\n",
              "      <td>--DaPTJW3-tB1vP-PfdTEg</td>\n",
              "      <td>Restaurants, Breakfast &amp; Brunch</td>\n",
              "      <td>{'Monday': '7:0-15:0', 'Tuesday': '7:0-15:0', ...</td>\n",
              "      <td>43.677807</td>\n",
              "      <td>-79.444674</td>\n",
              "      <td>Sunnyside Grill</td>\n",
              "      <td>M6E</td>\n",
              "      <td>49</td>\n",
              "      <td>3.5</td>\n",
              "    </tr>\n",
              "    <tr>\n",
              "      <th>3127</th>\n",
              "      <td>4917 Bathurst</td>\n",
              "      <td>-0aOudcaAyac0VJbMX-L1g</td>\n",
              "      <td>Pizza, Middle Eastern, Restaurants</td>\n",
              "      <td>NaN</td>\n",
              "      <td>43.773238</td>\n",
              "      <td>-79.442641</td>\n",
              "      <td>Express Pizza &amp; Grill</td>\n",
              "      <td>M2R 1X8</td>\n",
              "      <td>15</td>\n",
              "      <td>3.0</td>\n",
              "    </tr>\n",
              "    <tr>\n",
              "      <th>4023</th>\n",
              "      <td>613 King Street W</td>\n",
              "      <td>-3iE3lPp18Tn2ixqIRJB_w</td>\n",
              "      <td>Salad, Juice Bars &amp; Smoothies, Food, Coffee &amp; ...</td>\n",
              "      <td>{'Monday': '7:30-20:30', 'Tuesday': '7:30-20:3...</td>\n",
              "      <td>43.644069</td>\n",
              "      <td>-79.400796</td>\n",
              "      <td>Iq Food</td>\n",
              "      <td>M5V 1M5</td>\n",
              "      <td>7</td>\n",
              "      <td>4.0</td>\n",
              "    </tr>\n",
              "    <tr>\n",
              "      <th>4391</th>\n",
              "      <td>1240 Bay Street</td>\n",
              "      <td>-4uT6QFVaRtc2Zmxvtd9Vg</td>\n",
              "      <td>Barbeque, Fast Food, Restaurants</td>\n",
              "      <td>{'Monday': '8:0-19:0', 'Tuesday': '8:0-19:0', ...</td>\n",
              "      <td>43.670324</td>\n",
              "      <td>-79.390681</td>\n",
              "      <td>BBQ Express</td>\n",
              "      <td>M5R 3A7</td>\n",
              "      <td>4</td>\n",
              "      <td>5.0</td>\n",
              "    </tr>\n",
              "    <tr>\n",
              "      <th>4420</th>\n",
              "      <td>1406 Queen St W</td>\n",
              "      <td>-6sE5v4OrVGmWxdIrbs-RQ</td>\n",
              "      <td>Sushi Bars, Tapas/Small Plates, Restaurants, J...</td>\n",
              "      <td>{'Monday': '0:0-0:0', 'Tuesday': '12:0-22:30',...</td>\n",
              "      <td>43.641153</td>\n",
              "      <td>-79.434475</td>\n",
              "      <td>Sho Izakaya</td>\n",
              "      <td>M6K 1L9</td>\n",
              "      <td>28</td>\n",
              "      <td>4.0</td>\n",
              "    </tr>\n",
              "  </tbody>\n",
              "</table>\n",
              "</div>"
            ],
            "text/plain": [
              "                        address             business_id  ... review_count stars\n",
              "3408  1218 Saint Clair Avenue W  --DaPTJW3-tB1vP-PfdTEg  ...           49   3.5\n",
              "3127              4917 Bathurst  -0aOudcaAyac0VJbMX-L1g  ...           15   3.0\n",
              "4023          613 King Street W  -3iE3lPp18Tn2ixqIRJB_w  ...            7   4.0\n",
              "4391            1240 Bay Street  -4uT6QFVaRtc2Zmxvtd9Vg  ...            4   5.0\n",
              "4420            1406 Queen St W  -6sE5v4OrVGmWxdIrbs-RQ  ...           28   4.0\n",
              "\n",
              "[5 rows x 10 columns]"
            ]
          },
          "metadata": {
            "tags": []
          },
          "execution_count": 41
        }
      ]
    },
    {
      "cell_type": "code",
      "metadata": {
        "id": "GdhJVI7BiUmQ",
        "colab_type": "code",
        "colab": {}
      },
      "source": [
        "revs= pd.read_csv('yelper.csv')"
      ],
      "execution_count": 0,
      "outputs": []
    },
    {
      "cell_type": "code",
      "metadata": {
        "id": "xYTkmgrftU84",
        "colab_type": "code",
        "colab": {}
      },
      "source": [
        "del revs['Unnamed: 0']"
      ],
      "execution_count": 0,
      "outputs": []
    },
    {
      "cell_type": "code",
      "metadata": {
        "id": "4TwU0O4MtPFK",
        "colab_type": "code",
        "colab": {
          "base_uri": "https://localhost:8080/",
          "height": 374
        },
        "outputId": "7bb579c6-c989-41f8-b3d8-b195020d9aaf"
      },
      "source": [
        "revs.head()"
      ],
      "execution_count": 26,
      "outputs": [
        {
          "output_type": "execute_result",
          "data": {
            "text/html": [
              "<div>\n",
              "<style scoped>\n",
              "    .dataframe tbody tr th:only-of-type {\n",
              "        vertical-align: middle;\n",
              "    }\n",
              "\n",
              "    .dataframe tbody tr th {\n",
              "        vertical-align: top;\n",
              "    }\n",
              "\n",
              "    .dataframe thead th {\n",
              "        text-align: right;\n",
              "    }\n",
              "</style>\n",
              "<table border=\"1\" class=\"dataframe\">\n",
              "  <thead>\n",
              "    <tr style=\"text-align: right;\">\n",
              "      <th></th>\n",
              "      <th>business_id</th>\n",
              "      <th>cool</th>\n",
              "      <th>date</th>\n",
              "      <th>elem</th>\n",
              "      <th>funny</th>\n",
              "      <th>review_id</th>\n",
              "      <th>stars</th>\n",
              "      <th>useful</th>\n",
              "      <th>user_id</th>\n",
              "    </tr>\n",
              "  </thead>\n",
              "  <tbody>\n",
              "    <tr>\n",
              "      <th>0</th>\n",
              "      <td>ikCg8xy5JIg_NGPx-MSIDA</td>\n",
              "      <td>0</td>\n",
              "      <td>2018-01-09 20:56:38</td>\n",
              "      <td>43417</td>\n",
              "      <td>0</td>\n",
              "      <td>yi0R0Ugj_xUx_Nek0-_Qig</td>\n",
              "      <td>5.0</td>\n",
              "      <td>0</td>\n",
              "      <td>dacAIZ6fTM6mqwW5uxkskg</td>\n",
              "    </tr>\n",
              "    <tr>\n",
              "      <th>1</th>\n",
              "      <td>eU_713ec6fTGNO4BegRaww</td>\n",
              "      <td>0</td>\n",
              "      <td>2013-01-20 13:25:59</td>\n",
              "      <td>39447</td>\n",
              "      <td>0</td>\n",
              "      <td>fdiNeiN_hoCxCMy2wTRW9g</td>\n",
              "      <td>4.0</td>\n",
              "      <td>0</td>\n",
              "      <td>w31MKYsNFMrjhWxxAb5wIw</td>\n",
              "    </tr>\n",
              "    <tr>\n",
              "      <th>2</th>\n",
              "      <td>3fw2X5bZYeW9xCz_zGhOHg</td>\n",
              "      <td>5</td>\n",
              "      <td>2016-05-07 01:21:02</td>\n",
              "      <td>4337</td>\n",
              "      <td>4</td>\n",
              "      <td>G7XHMxG0bx9oBJNECG4IFg</td>\n",
              "      <td>3.0</td>\n",
              "      <td>5</td>\n",
              "      <td>jlu4CztcSxrKx56ba1a5AQ</td>\n",
              "    </tr>\n",
              "    <tr>\n",
              "      <th>3</th>\n",
              "      <td>zvO-PJCpNk4fgAVUnExYAA</td>\n",
              "      <td>1</td>\n",
              "      <td>2010-10-05 19:12:35</td>\n",
              "      <td>59316</td>\n",
              "      <td>1</td>\n",
              "      <td>8e9HxxLjjqc9ez5ezzN7iQ</td>\n",
              "      <td>1.0</td>\n",
              "      <td>3</td>\n",
              "      <td>d6xvYpyzcfbF_AZ8vMB7QA</td>\n",
              "    </tr>\n",
              "    <tr>\n",
              "      <th>4</th>\n",
              "      <td>8mIrX_LrOnAqWsB5JrOojQ</td>\n",
              "      <td>0</td>\n",
              "      <td>2011-11-30 02:11:15</td>\n",
              "      <td>9028</td>\n",
              "      <td>0</td>\n",
              "      <td>kbtscdyz6lvrtGjD1quQTg</td>\n",
              "      <td>4.0</td>\n",
              "      <td>0</td>\n",
              "      <td>FIk4lQQu1eTe2EpzQ4xhBA</td>\n",
              "    </tr>\n",
              "  </tbody>\n",
              "</table>\n",
              "</div>"
            ],
            "text/plain": [
              "              business_id  cool  ... useful                 user_id\n",
              "0  ikCg8xy5JIg_NGPx-MSIDA     0  ...      0  dacAIZ6fTM6mqwW5uxkskg\n",
              "1  eU_713ec6fTGNO4BegRaww     0  ...      0  w31MKYsNFMrjhWxxAb5wIw\n",
              "2  3fw2X5bZYeW9xCz_zGhOHg     5  ...      5  jlu4CztcSxrKx56ba1a5AQ\n",
              "3  zvO-PJCpNk4fgAVUnExYAA     1  ...      3  d6xvYpyzcfbF_AZ8vMB7QA\n",
              "4  8mIrX_LrOnAqWsB5JrOojQ     0  ...      0  FIk4lQQu1eTe2EpzQ4xhBA\n",
              "\n",
              "[5 rows x 9 columns]"
            ]
          },
          "metadata": {
            "tags": []
          },
          "execution_count": 26
        }
      ]
    },
    {
      "cell_type": "code",
      "metadata": {
        "id": "UWUU14uLtQYX",
        "colab_type": "code",
        "colab": {}
      },
      "source": [
        "bus=bus.sort_values(by='business_id', ascending=True)"
      ],
      "execution_count": 0,
      "outputs": []
    },
    {
      "cell_type": "code",
      "metadata": {
        "id": "qQZrPI-QtdHG",
        "colab_type": "code",
        "colab": {}
      },
      "source": [
        "b_list= list(bus.business_id)"
      ],
      "execution_count": 0,
      "outputs": []
    },
    {
      "cell_type": "code",
      "metadata": {
        "id": "-EH31q_Wts3X",
        "colab_type": "code",
        "colab": {}
      },
      "source": [
        "rev_ids= list(revs.business_id)"
      ],
      "execution_count": 0,
      "outputs": []
    },
    {
      "cell_type": "code",
      "metadata": {
        "id": "imasGG9Mt1pK",
        "colab_type": "code",
        "colab": {}
      },
      "source": [
        "id_nums=[]\n",
        "for r in rev_ids:\n",
        "  id_nums.append(bin_searcher(r, b_list))"
      ],
      "execution_count": 0,
      "outputs": []
    },
    {
      "cell_type": "code",
      "metadata": {
        "id": "mXQ-uoNwuPA9",
        "colab_type": "code",
        "colab": {
          "base_uri": "https://localhost:8080/",
          "height": 34
        },
        "outputId": "7ab8b69c-4bc6-41ac-8d72-1924ab6764e5"
      },
      "source": [
        "len(id_nums)- len(revs)"
      ],
      "execution_count": 34,
      "outputs": [
        {
          "output_type": "execute_result",
          "data": {
            "text/plain": [
              "0"
            ]
          },
          "metadata": {
            "tags": []
          },
          "execution_count": 34
        }
      ]
    },
    {
      "cell_type": "code",
      "metadata": {
        "id": "D6wh5PrwuCfv",
        "colab_type": "code",
        "colab": {}
      },
      "source": [
        "revs['biz_num']=id_nums"
      ],
      "execution_count": 0,
      "outputs": []
    },
    {
      "cell_type": "code",
      "metadata": {
        "id": "DM49JXOJuUlN",
        "colab_type": "code",
        "colab": {}
      },
      "source": [
        "revs=revs[revs.biz_num>=0]"
      ],
      "execution_count": 0,
      "outputs": []
    },
    {
      "cell_type": "code",
      "metadata": {
        "id": "ryekAdW7uW3c",
        "colab_type": "code",
        "colab": {
          "base_uri": "https://localhost:8080/",
          "height": 34
        },
        "outputId": "c34aedf5-9b76-4d28-bcac-5ec712ebe64a"
      },
      "source": [
        "len(revs)"
      ],
      "execution_count": 37,
      "outputs": [
        {
          "output_type": "execute_result",
          "data": {
            "text/plain": [
              "305173"
            ]
          },
          "metadata": {
            "tags": []
          },
          "execution_count": 37
        }
      ]
    },
    {
      "cell_type": "code",
      "metadata": {
        "id": "KX-SOas-w4dd",
        "colab_type": "code",
        "colab": {
          "base_uri": "https://localhost:8080/",
          "height": 207
        },
        "outputId": "d9b9e2b9-9665-4e4a-b406-2403ad41474a"
      },
      "source": [
        "dict(bus.iloc[0])"
      ],
      "execution_count": 44,
      "outputs": [
        {
          "output_type": "execute_result",
          "data": {
            "text/plain": [
              "{'address': '1218 Saint Clair Avenue W',\n",
              " 'business_id': '--DaPTJW3-tB1vP-PfdTEg',\n",
              " 'categories': 'Restaurants, Breakfast & Brunch',\n",
              " 'hours': \"{'Monday': '7:0-15:0', 'Tuesday': '7:0-15:0', 'Wednesday': '7:0-15:0', 'Thursday': '7:0-15:0', 'Friday': '7:0-16:0', 'Saturday': '7:0-16:0', 'Sunday': '7:0-16:0'}\",\n",
              " 'latitude': 43.67780689999999,\n",
              " 'longitude': -79.44467420000001,\n",
              " 'name': 'Sunnyside Grill',\n",
              " 'postal_code': 'M6E',\n",
              " 'review_count': 49,\n",
              " 'stars': 3.5}"
            ]
          },
          "metadata": {
            "tags": []
          },
          "execution_count": 44
        }
      ]
    },
    {
      "cell_type": "code",
      "metadata": {
        "id": "4eBT2OnFuXqk",
        "colab_type": "code",
        "colab": {}
      },
      "source": [
        "bus_dicts={}\n",
        "for i in range(len(bus)):\n",
        "  b= dict(bus.iloc[i])\n",
        "  bid= b['business_id']\n",
        "  del b['business_id']\n",
        "  bus_dicts[bid]=b"
      ],
      "execution_count": 0,
      "outputs": []
    },
    {
      "cell_type": "code",
      "metadata": {
        "id": "mcg7Kfc7ykup",
        "colab_type": "code",
        "colab": {}
      },
      "source": [
        "revs=revs.merge(bus,how='left', on='business_id', suffixes=('_revs', '_bus'))"
      ],
      "execution_count": 0,
      "outputs": []
    },
    {
      "cell_type": "code",
      "metadata": {
        "id": "GiJK5mW136xL",
        "colab_type": "code",
        "colab": {
          "base_uri": "https://localhost:8080/",
          "height": 632
        },
        "outputId": "8e0541e9-8f91-44a2-9aac-c289210f6f45"
      },
      "source": [
        "revs.head()"
      ],
      "execution_count": 51,
      "outputs": [
        {
          "output_type": "execute_result",
          "data": {
            "text/html": [
              "<div>\n",
              "<style scoped>\n",
              "    .dataframe tbody tr th:only-of-type {\n",
              "        vertical-align: middle;\n",
              "    }\n",
              "\n",
              "    .dataframe tbody tr th {\n",
              "        vertical-align: top;\n",
              "    }\n",
              "\n",
              "    .dataframe thead th {\n",
              "        text-align: right;\n",
              "    }\n",
              "</style>\n",
              "<table border=\"1\" class=\"dataframe\">\n",
              "  <thead>\n",
              "    <tr style=\"text-align: right;\">\n",
              "      <th></th>\n",
              "      <th>business_id</th>\n",
              "      <th>cool</th>\n",
              "      <th>date</th>\n",
              "      <th>elem</th>\n",
              "      <th>funny</th>\n",
              "      <th>review_id</th>\n",
              "      <th>stars_revs</th>\n",
              "      <th>useful</th>\n",
              "      <th>user_id</th>\n",
              "      <th>biz_num</th>\n",
              "      <th>address</th>\n",
              "      <th>categories</th>\n",
              "      <th>hours</th>\n",
              "      <th>latitude</th>\n",
              "      <th>longitude</th>\n",
              "      <th>name</th>\n",
              "      <th>postal_code</th>\n",
              "      <th>review_count</th>\n",
              "      <th>stars_bus</th>\n",
              "    </tr>\n",
              "  </thead>\n",
              "  <tbody>\n",
              "    <tr>\n",
              "      <th>0</th>\n",
              "      <td>AakkkTuGZA2KBodKi2_u8A</td>\n",
              "      <td>0</td>\n",
              "      <td>2012-07-16 00:37:14</td>\n",
              "      <td>10766</td>\n",
              "      <td>1</td>\n",
              "      <td>JVcjMhlavKKn3UIt9p9OXA</td>\n",
              "      <td>1.0</td>\n",
              "      <td>1</td>\n",
              "      <td>TpyOT5E16YASd7EWjLQlrw</td>\n",
              "      <td>943</td>\n",
              "      <td>1603 Dundas Street W</td>\n",
              "      <td>Asian Fusion, Restaurants, Vietnamese</td>\n",
              "      <td>{'Monday': '11:0-22:0', 'Tuesday': '11:0-22:0'...</td>\n",
              "      <td>43.649674</td>\n",
              "      <td>-79.435116</td>\n",
              "      <td>Pho Phuong</td>\n",
              "      <td>M6K 1T9</td>\n",
              "      <td>55</td>\n",
              "      <td>3.5</td>\n",
              "    </tr>\n",
              "    <tr>\n",
              "      <th>1</th>\n",
              "      <td>YvrylyuWgbP90RgMqZQVnQ</td>\n",
              "      <td>0</td>\n",
              "      <td>2017-04-07 21:27:49</td>\n",
              "      <td>33371</td>\n",
              "      <td>0</td>\n",
              "      <td>svK3nBU7Rk8VfGorlrN52A</td>\n",
              "      <td>5.0</td>\n",
              "      <td>0</td>\n",
              "      <td>NJlxGtouq06hhC7sS2ECYw</td>\n",
              "      <td>2934</td>\n",
              "      <td>232 Wellington Street W</td>\n",
              "      <td>Sandwiches, Restaurants, Italian, Pizza</td>\n",
              "      <td>{'Monday': '11:0-23:0', 'Tuesday': '11:0-23:0'...</td>\n",
              "      <td>43.645277</td>\n",
              "      <td>-79.389704</td>\n",
              "      <td>Jz's Pizza</td>\n",
              "      <td>M5V 3W1</td>\n",
              "      <td>71</td>\n",
              "      <td>4.0</td>\n",
              "    </tr>\n",
              "    <tr>\n",
              "      <th>2</th>\n",
              "      <td>y-Iw6dZflNix4BdwIyTNGA</td>\n",
              "      <td>0</td>\n",
              "      <td>2014-06-27 21:19:23</td>\n",
              "      <td>57511</td>\n",
              "      <td>0</td>\n",
              "      <td>4bUyL7lzoWzDZaJETAKREg</td>\n",
              "      <td>3.0</td>\n",
              "      <td>0</td>\n",
              "      <td>_N7Ndn29bpll_961oPeEfw</td>\n",
              "      <td>5099</td>\n",
              "      <td>2876 Dundas Street W</td>\n",
              "      <td>Restaurants, Food, Breweries, Gastropubs, Pizza</td>\n",
              "      <td>{'Monday': '17:0-1:0', 'Tuesday': '12:0-1:0', ...</td>\n",
              "      <td>43.665441</td>\n",
              "      <td>-79.465238</td>\n",
              "      <td>Indie Ale House</td>\n",
              "      <td>M6P 1Y9</td>\n",
              "      <td>235</td>\n",
              "      <td>4.0</td>\n",
              "    </tr>\n",
              "    <tr>\n",
              "      <th>3</th>\n",
              "      <td>YSUcHqlKMPHHJ_cTrqtNrA</td>\n",
              "      <td>0</td>\n",
              "      <td>2017-12-29 13:55:19</td>\n",
              "      <td>32926</td>\n",
              "      <td>0</td>\n",
              "      <td>E6B-2U2sGG3xgmnNWZAEew</td>\n",
              "      <td>1.0</td>\n",
              "      <td>0</td>\n",
              "      <td>DbccYu3OppWKl21OanZnTg</td>\n",
              "      <td>2894</td>\n",
              "      <td>32 Wellington Street E</td>\n",
              "      <td>Italian, Restaurants</td>\n",
              "      <td>{'Monday': '11:0-23:0', 'Tuesday': '11:0-23:0'...</td>\n",
              "      <td>43.648404</td>\n",
              "      <td>-79.375469</td>\n",
              "      <td>Vagabondo Italian Ristorante+Lounge</td>\n",
              "      <td>M5E 1C6</td>\n",
              "      <td>77</td>\n",
              "      <td>3.0</td>\n",
              "    </tr>\n",
              "    <tr>\n",
              "      <th>4</th>\n",
              "      <td>TVLAvAFx0FqAkKGKHVjHpQ</td>\n",
              "      <td>1</td>\n",
              "      <td>2017-12-15 22:49:01</td>\n",
              "      <td>28247</td>\n",
              "      <td>0</td>\n",
              "      <td>6JgzKIDvophsU1yfK0DdyA</td>\n",
              "      <td>4.0</td>\n",
              "      <td>1</td>\n",
              "      <td>mZ1gXzL6Tn5Oky8_j0Kp7g</td>\n",
              "      <td>2479</td>\n",
              "      <td>140 Spadina Avenue</td>\n",
              "      <td>Soup, Juice Bars &amp; Smoothies, Restaurants, Foo...</td>\n",
              "      <td>{'Monday': '11:0-21:0', 'Tuesday': '11:0-21:0'...</td>\n",
              "      <td>43.647726</td>\n",
              "      <td>-79.396247</td>\n",
              "      <td>Freshii</td>\n",
              "      <td>M5V 2L4</td>\n",
              "      <td>40</td>\n",
              "      <td>3.0</td>\n",
              "    </tr>\n",
              "  </tbody>\n",
              "</table>\n",
              "</div>"
            ],
            "text/plain": [
              "              business_id  cool  ... review_count  stars_bus\n",
              "0  AakkkTuGZA2KBodKi2_u8A     0  ...           55        3.5\n",
              "1  YvrylyuWgbP90RgMqZQVnQ     0  ...           71        4.0\n",
              "2  y-Iw6dZflNix4BdwIyTNGA     0  ...          235        4.0\n",
              "3  YSUcHqlKMPHHJ_cTrqtNrA     0  ...           77        3.0\n",
              "4  TVLAvAFx0FqAkKGKHVjHpQ     1  ...           40        3.0\n",
              "\n",
              "[5 rows x 19 columns]"
            ]
          },
          "metadata": {
            "tags": []
          },
          "execution_count": 51
        }
      ]
    },
    {
      "cell_type": "code",
      "metadata": {
        "id": "KEhSL7Ry4jfm",
        "colab_type": "code",
        "colab": {}
      },
      "source": [
        "revs.to_csv('toronto_reviews.csv')"
      ],
      "execution_count": 0,
      "outputs": []
    },
    {
      "cell_type": "code",
      "metadata": {
        "id": "KmiBQB2N5auS",
        "colab_type": "code",
        "colab": {
          "base_uri": "https://localhost:8080/",
          "height": 317
        },
        "outputId": "7b3e0978-5b06-44e2-9608-881b7b20d81c"
      },
      "source": [
        "revs.describe()"
      ],
      "execution_count": 54,
      "outputs": [
        {
          "output_type": "execute_result",
          "data": {
            "text/html": [
              "<div>\n",
              "<style scoped>\n",
              "    .dataframe tbody tr th:only-of-type {\n",
              "        vertical-align: middle;\n",
              "    }\n",
              "\n",
              "    .dataframe tbody tr th {\n",
              "        vertical-align: top;\n",
              "    }\n",
              "\n",
              "    .dataframe thead th {\n",
              "        text-align: right;\n",
              "    }\n",
              "</style>\n",
              "<table border=\"1\" class=\"dataframe\">\n",
              "  <thead>\n",
              "    <tr style=\"text-align: right;\">\n",
              "      <th></th>\n",
              "      <th>cool</th>\n",
              "      <th>elem</th>\n",
              "      <th>funny</th>\n",
              "      <th>stars_revs</th>\n",
              "      <th>useful</th>\n",
              "      <th>biz_num</th>\n",
              "      <th>latitude</th>\n",
              "      <th>longitude</th>\n",
              "      <th>review_count</th>\n",
              "      <th>stars_bus</th>\n",
              "    </tr>\n",
              "  </thead>\n",
              "  <tbody>\n",
              "    <tr>\n",
              "      <th>count</th>\n",
              "      <td>305173.000000</td>\n",
              "      <td>305173.000000</td>\n",
              "      <td>305173.000000</td>\n",
              "      <td>305173.000000</td>\n",
              "      <td>305173.000000</td>\n",
              "      <td>305173.000000</td>\n",
              "      <td>305173.000000</td>\n",
              "      <td>305173.000000</td>\n",
              "      <td>305173.000000</td>\n",
              "      <td>305173.000000</td>\n",
              "    </tr>\n",
              "    <tr>\n",
              "      <th>mean</th>\n",
              "      <td>0.472843</td>\n",
              "      <td>30245.505143</td>\n",
              "      <td>0.342786</td>\n",
              "      <td>3.649632</td>\n",
              "      <td>1.040610</td>\n",
              "      <td>2670.604090</td>\n",
              "      <td>43.673505</td>\n",
              "      <td>-79.390846</td>\n",
              "      <td>221.967284</td>\n",
              "      <td>3.649160</td>\n",
              "    </tr>\n",
              "    <tr>\n",
              "      <th>std</th>\n",
              "      <td>1.967094</td>\n",
              "      <td>16963.219643</td>\n",
              "      <td>1.446278</td>\n",
              "      <td>1.263013</td>\n",
              "      <td>2.590107</td>\n",
              "      <td>1501.965162</td>\n",
              "      <td>0.042646</td>\n",
              "      <td>0.046761</td>\n",
              "      <td>279.705114</td>\n",
              "      <td>0.550063</td>\n",
              "    </tr>\n",
              "    <tr>\n",
              "      <th>min</th>\n",
              "      <td>0.000000</td>\n",
              "      <td>37.000000</td>\n",
              "      <td>0.000000</td>\n",
              "      <td>1.000000</td>\n",
              "      <td>0.000000</td>\n",
              "      <td>1.000000</td>\n",
              "      <td>43.592327</td>\n",
              "      <td>-79.703390</td>\n",
              "      <td>3.000000</td>\n",
              "      <td>1.000000</td>\n",
              "    </tr>\n",
              "    <tr>\n",
              "      <th>25%</th>\n",
              "      <td>0.000000</td>\n",
              "      <td>15489.000000</td>\n",
              "      <td>0.000000</td>\n",
              "      <td>3.000000</td>\n",
              "      <td>0.000000</td>\n",
              "      <td>1382.000000</td>\n",
              "      <td>43.648752</td>\n",
              "      <td>-79.410044</td>\n",
              "      <td>61.000000</td>\n",
              "      <td>3.500000</td>\n",
              "    </tr>\n",
              "    <tr>\n",
              "      <th>50%</th>\n",
              "      <td>0.000000</td>\n",
              "      <td>31032.000000</td>\n",
              "      <td>0.000000</td>\n",
              "      <td>4.000000</td>\n",
              "      <td>0.000000</td>\n",
              "      <td>2719.000000</td>\n",
              "      <td>43.656345</td>\n",
              "      <td>-79.391912</td>\n",
              "      <td>134.000000</td>\n",
              "      <td>3.500000</td>\n",
              "    </tr>\n",
              "    <tr>\n",
              "      <th>75%</th>\n",
              "      <td>0.000000</td>\n",
              "      <td>44831.000000</td>\n",
              "      <td>0.000000</td>\n",
              "      <td>5.000000</td>\n",
              "      <td>1.000000</td>\n",
              "      <td>3961.000000</td>\n",
              "      <td>43.673749</td>\n",
              "      <td>-79.378802</td>\n",
              "      <td>273.000000</td>\n",
              "      <td>4.000000</td>\n",
              "    </tr>\n",
              "    <tr>\n",
              "      <th>max</th>\n",
              "      <td>177.000000</td>\n",
              "      <td>59372.000000</td>\n",
              "      <td>124.000000</td>\n",
              "      <td>5.000000</td>\n",
              "      <td>188.000000</td>\n",
              "      <td>5253.000000</td>\n",
              "      <td>43.876501</td>\n",
              "      <td>-79.139353</td>\n",
              "      <td>2121.000000</td>\n",
              "      <td>5.000000</td>\n",
              "    </tr>\n",
              "  </tbody>\n",
              "</table>\n",
              "</div>"
            ],
            "text/plain": [
              "                cool           elem  ...   review_count      stars_bus\n",
              "count  305173.000000  305173.000000  ...  305173.000000  305173.000000\n",
              "mean        0.472843   30245.505143  ...     221.967284       3.649160\n",
              "std         1.967094   16963.219643  ...     279.705114       0.550063\n",
              "min         0.000000      37.000000  ...       3.000000       1.000000\n",
              "25%         0.000000   15489.000000  ...      61.000000       3.500000\n",
              "50%         0.000000   31032.000000  ...     134.000000       3.500000\n",
              "75%         0.000000   44831.000000  ...     273.000000       4.000000\n",
              "max       177.000000   59372.000000  ...    2121.000000       5.000000\n",
              "\n",
              "[8 rows x 10 columns]"
            ]
          },
          "metadata": {
            "tags": []
          },
          "execution_count": 54
        }
      ]
    },
    {
      "cell_type": "code",
      "metadata": {
        "id": "Q_UvBsze8Thm",
        "colab_type": "code",
        "colab": {
          "base_uri": "https://localhost:8080/",
          "height": 547
        },
        "outputId": "352d2c55-db99-4d0f-a9d3-5d64fd284bdf"
      },
      "source": [
        "bus.head()"
      ],
      "execution_count": 58,
      "outputs": [
        {
          "output_type": "execute_result",
          "data": {
            "text/html": [
              "<div>\n",
              "<style scoped>\n",
              "    .dataframe tbody tr th:only-of-type {\n",
              "        vertical-align: middle;\n",
              "    }\n",
              "\n",
              "    .dataframe tbody tr th {\n",
              "        vertical-align: top;\n",
              "    }\n",
              "\n",
              "    .dataframe thead th {\n",
              "        text-align: right;\n",
              "    }\n",
              "</style>\n",
              "<table border=\"1\" class=\"dataframe\">\n",
              "  <thead>\n",
              "    <tr style=\"text-align: right;\">\n",
              "      <th></th>\n",
              "      <th>address</th>\n",
              "      <th>business_id</th>\n",
              "      <th>categories</th>\n",
              "      <th>hours</th>\n",
              "      <th>latitude</th>\n",
              "      <th>longitude</th>\n",
              "      <th>name</th>\n",
              "      <th>postal_code</th>\n",
              "      <th>review_count</th>\n",
              "      <th>stars</th>\n",
              "    </tr>\n",
              "  </thead>\n",
              "  <tbody>\n",
              "    <tr>\n",
              "      <th>3408</th>\n",
              "      <td>1218 Saint Clair Avenue W</td>\n",
              "      <td>--DaPTJW3-tB1vP-PfdTEg</td>\n",
              "      <td>Restaurants, Breakfast &amp; Brunch</td>\n",
              "      <td>{'Monday': '7:0-15:0', 'Tuesday': '7:0-15:0', ...</td>\n",
              "      <td>43.677807</td>\n",
              "      <td>-79.444674</td>\n",
              "      <td>Sunnyside Grill</td>\n",
              "      <td>M6E</td>\n",
              "      <td>49</td>\n",
              "      <td>3.5</td>\n",
              "    </tr>\n",
              "    <tr>\n",
              "      <th>3127</th>\n",
              "      <td>4917 Bathurst</td>\n",
              "      <td>-0aOudcaAyac0VJbMX-L1g</td>\n",
              "      <td>Pizza, Middle Eastern, Restaurants</td>\n",
              "      <td>NaN</td>\n",
              "      <td>43.773238</td>\n",
              "      <td>-79.442641</td>\n",
              "      <td>Express Pizza &amp; Grill</td>\n",
              "      <td>M2R 1X8</td>\n",
              "      <td>15</td>\n",
              "      <td>3.0</td>\n",
              "    </tr>\n",
              "    <tr>\n",
              "      <th>4023</th>\n",
              "      <td>613 King Street W</td>\n",
              "      <td>-3iE3lPp18Tn2ixqIRJB_w</td>\n",
              "      <td>Salad, Juice Bars &amp; Smoothies, Food, Coffee &amp; ...</td>\n",
              "      <td>{'Monday': '7:30-20:30', 'Tuesday': '7:30-20:3...</td>\n",
              "      <td>43.644069</td>\n",
              "      <td>-79.400796</td>\n",
              "      <td>Iq Food</td>\n",
              "      <td>M5V 1M5</td>\n",
              "      <td>7</td>\n",
              "      <td>4.0</td>\n",
              "    </tr>\n",
              "    <tr>\n",
              "      <th>4391</th>\n",
              "      <td>1240 Bay Street</td>\n",
              "      <td>-4uT6QFVaRtc2Zmxvtd9Vg</td>\n",
              "      <td>Barbeque, Fast Food, Restaurants</td>\n",
              "      <td>{'Monday': '8:0-19:0', 'Tuesday': '8:0-19:0', ...</td>\n",
              "      <td>43.670324</td>\n",
              "      <td>-79.390681</td>\n",
              "      <td>BBQ Express</td>\n",
              "      <td>M5R 3A7</td>\n",
              "      <td>4</td>\n",
              "      <td>5.0</td>\n",
              "    </tr>\n",
              "    <tr>\n",
              "      <th>4420</th>\n",
              "      <td>1406 Queen St W</td>\n",
              "      <td>-6sE5v4OrVGmWxdIrbs-RQ</td>\n",
              "      <td>Sushi Bars, Tapas/Small Plates, Restaurants, J...</td>\n",
              "      <td>{'Monday': '0:0-0:0', 'Tuesday': '12:0-22:30',...</td>\n",
              "      <td>43.641153</td>\n",
              "      <td>-79.434475</td>\n",
              "      <td>Sho Izakaya</td>\n",
              "      <td>M6K 1L9</td>\n",
              "      <td>28</td>\n",
              "      <td>4.0</td>\n",
              "    </tr>\n",
              "  </tbody>\n",
              "</table>\n",
              "</div>"
            ],
            "text/plain": [
              "                        address             business_id  ... review_count stars\n",
              "3408  1218 Saint Clair Avenue W  --DaPTJW3-tB1vP-PfdTEg  ...           49   3.5\n",
              "3127              4917 Bathurst  -0aOudcaAyac0VJbMX-L1g  ...           15   3.0\n",
              "4023          613 King Street W  -3iE3lPp18Tn2ixqIRJB_w  ...            7   4.0\n",
              "4391            1240 Bay Street  -4uT6QFVaRtc2Zmxvtd9Vg  ...            4   5.0\n",
              "4420            1406 Queen St W  -6sE5v4OrVGmWxdIrbs-RQ  ...           28   4.0\n",
              "\n",
              "[5 rows x 10 columns]"
            ]
          },
          "metadata": {
            "tags": []
          },
          "execution_count": 58
        }
      ]
    },
    {
      "cell_type": "code",
      "metadata": {
        "id": "1ODIvBtk9w0F",
        "colab_type": "code",
        "colab": {}
      },
      "source": [
        "bus.to_csv('toronto_restaurants.csv')"
      ],
      "execution_count": 0,
      "outputs": []
    },
    {
      "cell_type": "code",
      "metadata": {
        "id": "_8X9Z6Jh90HK",
        "colab_type": "code",
        "colab": {}
      },
      "source": [
        "b_means=revs.groupby('business_id').mean()"
      ],
      "execution_count": 0,
      "outputs": []
    },
    {
      "cell_type": "code",
      "metadata": {
        "id": "Hsf42malKUBY",
        "colab_type": "code",
        "colab": {
          "base_uri": "https://localhost:8080/",
          "height": 289
        },
        "outputId": "6b7d9484-31e9-48e8-89f7-fcb49cce1869"
      },
      "source": [
        "b_means.head()"
      ],
      "execution_count": 62,
      "outputs": [
        {
          "output_type": "execute_result",
          "data": {
            "text/html": [
              "<div>\n",
              "<style scoped>\n",
              "    .dataframe tbody tr th:only-of-type {\n",
              "        vertical-align: middle;\n",
              "    }\n",
              "\n",
              "    .dataframe tbody tr th {\n",
              "        vertical-align: top;\n",
              "    }\n",
              "\n",
              "    .dataframe thead th {\n",
              "        text-align: right;\n",
              "    }\n",
              "</style>\n",
              "<table border=\"1\" class=\"dataframe\">\n",
              "  <thead>\n",
              "    <tr style=\"text-align: right;\">\n",
              "      <th></th>\n",
              "      <th>cool</th>\n",
              "      <th>elem</th>\n",
              "      <th>funny</th>\n",
              "      <th>stars_revs</th>\n",
              "      <th>useful</th>\n",
              "      <th>biz_num</th>\n",
              "      <th>latitude</th>\n",
              "      <th>longitude</th>\n",
              "      <th>review_count</th>\n",
              "      <th>stars_bus</th>\n",
              "    </tr>\n",
              "    <tr>\n",
              "      <th>business_id</th>\n",
              "      <th></th>\n",
              "      <th></th>\n",
              "      <th></th>\n",
              "      <th></th>\n",
              "      <th></th>\n",
              "      <th></th>\n",
              "      <th></th>\n",
              "      <th></th>\n",
              "      <th></th>\n",
              "      <th></th>\n",
              "    </tr>\n",
              "  </thead>\n",
              "  <tbody>\n",
              "    <tr>\n",
              "      <th>-0aOudcaAyac0VJbMX-L1g</th>\n",
              "      <td>0.000000</td>\n",
              "      <td>37.0</td>\n",
              "      <td>0.066667</td>\n",
              "      <td>3.133333</td>\n",
              "      <td>1.333333</td>\n",
              "      <td>1.0</td>\n",
              "      <td>43.773238</td>\n",
              "      <td>-79.442641</td>\n",
              "      <td>15.0</td>\n",
              "      <td>3.0</td>\n",
              "    </tr>\n",
              "    <tr>\n",
              "      <th>-3iE3lPp18Tn2ixqIRJB_w</th>\n",
              "      <td>9.000000</td>\n",
              "      <td>78.0</td>\n",
              "      <td>3.714286</td>\n",
              "      <td>4.000000</td>\n",
              "      <td>9.857143</td>\n",
              "      <td>2.0</td>\n",
              "      <td>43.644069</td>\n",
              "      <td>-79.400796</td>\n",
              "      <td>7.0</td>\n",
              "      <td>4.0</td>\n",
              "    </tr>\n",
              "    <tr>\n",
              "      <th>-4uT6QFVaRtc2Zmxvtd9Vg</th>\n",
              "      <td>1.000000</td>\n",
              "      <td>92.0</td>\n",
              "      <td>0.000000</td>\n",
              "      <td>4.750000</td>\n",
              "      <td>1.250000</td>\n",
              "      <td>3.0</td>\n",
              "      <td>43.670324</td>\n",
              "      <td>-79.390681</td>\n",
              "      <td>4.0</td>\n",
              "      <td>5.0</td>\n",
              "    </tr>\n",
              "    <tr>\n",
              "      <th>-6sE5v4OrVGmWxdIrbs-RQ</th>\n",
              "      <td>0.785714</td>\n",
              "      <td>108.0</td>\n",
              "      <td>0.071429</td>\n",
              "      <td>4.250000</td>\n",
              "      <td>1.178571</td>\n",
              "      <td>4.0</td>\n",
              "      <td>43.641153</td>\n",
              "      <td>-79.434475</td>\n",
              "      <td>28.0</td>\n",
              "      <td>4.0</td>\n",
              "    </tr>\n",
              "    <tr>\n",
              "      <th>-7BCZH437U5FjmNJ26llkg</th>\n",
              "      <td>0.375000</td>\n",
              "      <td>113.0</td>\n",
              "      <td>0.277778</td>\n",
              "      <td>4.347222</td>\n",
              "      <td>0.861111</td>\n",
              "      <td>5.0</td>\n",
              "      <td>43.679767</td>\n",
              "      <td>-79.341605</td>\n",
              "      <td>69.0</td>\n",
              "      <td>4.5</td>\n",
              "    </tr>\n",
              "  </tbody>\n",
              "</table>\n",
              "</div>"
            ],
            "text/plain": [
              "                            cool   elem  ...  review_count  stars_bus\n",
              "business_id                              ...                         \n",
              "-0aOudcaAyac0VJbMX-L1g  0.000000   37.0  ...          15.0        3.0\n",
              "-3iE3lPp18Tn2ixqIRJB_w  9.000000   78.0  ...           7.0        4.0\n",
              "-4uT6QFVaRtc2Zmxvtd9Vg  1.000000   92.0  ...           4.0        5.0\n",
              "-6sE5v4OrVGmWxdIrbs-RQ  0.785714  108.0  ...          28.0        4.0\n",
              "-7BCZH437U5FjmNJ26llkg  0.375000  113.0  ...          69.0        4.5\n",
              "\n",
              "[5 rows x 10 columns]"
            ]
          },
          "metadata": {
            "tags": []
          },
          "execution_count": 62
        }
      ]
    },
    {
      "cell_type": "code",
      "metadata": {
        "id": "0oEp9z9CKbHX",
        "colab_type": "code",
        "colab": {}
      },
      "source": [
        "b_means.reset_index(inplace=True)"
      ],
      "execution_count": 0,
      "outputs": []
    },
    {
      "cell_type": "code",
      "metadata": {
        "id": "ULgaUqvsKe_W",
        "colab_type": "code",
        "colab": {}
      },
      "source": [
        "b_means=b_means[['business_id', 'stars_revs']]"
      ],
      "execution_count": 0,
      "outputs": []
    },
    {
      "cell_type": "code",
      "metadata": {
        "id": "RyTZGa_zKklJ",
        "colab_type": "code",
        "colab": {
          "base_uri": "https://localhost:8080/",
          "height": 1969
        },
        "outputId": "20cfbdb6-a938-49f0-fde9-4a1051c91f5e"
      },
      "source": [
        "b_means"
      ],
      "execution_count": 68,
      "outputs": [
        {
          "output_type": "execute_result",
          "data": {
            "text/html": [
              "<div>\n",
              "<style scoped>\n",
              "    .dataframe tbody tr th:only-of-type {\n",
              "        vertical-align: middle;\n",
              "    }\n",
              "\n",
              "    .dataframe tbody tr th {\n",
              "        vertical-align: top;\n",
              "    }\n",
              "\n",
              "    .dataframe thead th {\n",
              "        text-align: right;\n",
              "    }\n",
              "</style>\n",
              "<table border=\"1\" class=\"dataframe\">\n",
              "  <thead>\n",
              "    <tr style=\"text-align: right;\">\n",
              "      <th></th>\n",
              "      <th>business_id</th>\n",
              "      <th>stars_revs</th>\n",
              "    </tr>\n",
              "  </thead>\n",
              "  <tbody>\n",
              "    <tr>\n",
              "      <th>0</th>\n",
              "      <td>-0aOudcaAyac0VJbMX-L1g</td>\n",
              "      <td>3.133333</td>\n",
              "    </tr>\n",
              "    <tr>\n",
              "      <th>1</th>\n",
              "      <td>-3iE3lPp18Tn2ixqIRJB_w</td>\n",
              "      <td>4.000000</td>\n",
              "    </tr>\n",
              "    <tr>\n",
              "      <th>2</th>\n",
              "      <td>-4uT6QFVaRtc2Zmxvtd9Vg</td>\n",
              "      <td>4.750000</td>\n",
              "    </tr>\n",
              "    <tr>\n",
              "      <th>3</th>\n",
              "      <td>-6sE5v4OrVGmWxdIrbs-RQ</td>\n",
              "      <td>4.250000</td>\n",
              "    </tr>\n",
              "    <tr>\n",
              "      <th>4</th>\n",
              "      <td>-7BCZH437U5FjmNJ26llkg</td>\n",
              "      <td>4.347222</td>\n",
              "    </tr>\n",
              "    <tr>\n",
              "      <th>5</th>\n",
              "      <td>-AVRReI-nfsa0lKlehEojw</td>\n",
              "      <td>3.235294</td>\n",
              "    </tr>\n",
              "    <tr>\n",
              "      <th>6</th>\n",
              "      <td>-BbnAc9YEO6pjvJGEtFbVQ</td>\n",
              "      <td>4.211155</td>\n",
              "    </tr>\n",
              "    <tr>\n",
              "      <th>7</th>\n",
              "      <td>-CLTZ0cO-ooKDDmXHFoGMg</td>\n",
              "      <td>3.821429</td>\n",
              "    </tr>\n",
              "    <tr>\n",
              "      <th>8</th>\n",
              "      <td>-ClafaRWkSRTfieIzO4r3Q</td>\n",
              "      <td>3.314815</td>\n",
              "    </tr>\n",
              "    <tr>\n",
              "      <th>9</th>\n",
              "      <td>-DOE4Qs8IMfgkvshYKfC7w</td>\n",
              "      <td>3.117647</td>\n",
              "    </tr>\n",
              "    <tr>\n",
              "      <th>10</th>\n",
              "      <td>-EFDz-s9QUWJbFIp16O_3g</td>\n",
              "      <td>2.000000</td>\n",
              "    </tr>\n",
              "    <tr>\n",
              "      <th>11</th>\n",
              "      <td>-EX_qttyhm5YNb8NWtAcCQ</td>\n",
              "      <td>4.027027</td>\n",
              "    </tr>\n",
              "    <tr>\n",
              "      <th>12</th>\n",
              "      <td>-Ggr1M22MxTbP2J8L7oHqw</td>\n",
              "      <td>2.857143</td>\n",
              "    </tr>\n",
              "    <tr>\n",
              "      <th>13</th>\n",
              "      <td>-H5Qoimm5siEJ4RSU4FyHQ</td>\n",
              "      <td>2.333333</td>\n",
              "    </tr>\n",
              "    <tr>\n",
              "      <th>14</th>\n",
              "      <td>-ICGmF2qUVKdvOehVNgPbg</td>\n",
              "      <td>4.079310</td>\n",
              "    </tr>\n",
              "    <tr>\n",
              "      <th>15</th>\n",
              "      <td>-IOuy7CKwWN54IEzESVOBQ</td>\n",
              "      <td>1.000000</td>\n",
              "    </tr>\n",
              "    <tr>\n",
              "      <th>16</th>\n",
              "      <td>-IP0Y1XLcnxb6yfMxPcLfQ</td>\n",
              "      <td>2.733333</td>\n",
              "    </tr>\n",
              "    <tr>\n",
              "      <th>17</th>\n",
              "      <td>-IXNFjtECsn8fqF047tYFw</td>\n",
              "      <td>3.237288</td>\n",
              "    </tr>\n",
              "    <tr>\n",
              "      <th>18</th>\n",
              "      <td>-IlQvDjwqOnA0iqlbmWX-Q</td>\n",
              "      <td>4.750000</td>\n",
              "    </tr>\n",
              "    <tr>\n",
              "      <th>19</th>\n",
              "      <td>-Ipm_8YXj9UoNNHagCvsNg</td>\n",
              "      <td>3.900498</td>\n",
              "    </tr>\n",
              "    <tr>\n",
              "      <th>20</th>\n",
              "      <td>-J6FVdY9pSgAdFmmalO-pQ</td>\n",
              "      <td>3.964664</td>\n",
              "    </tr>\n",
              "    <tr>\n",
              "      <th>21</th>\n",
              "      <td>-M9S1wlZTvv6T9EOo5X2Yw</td>\n",
              "      <td>2.753846</td>\n",
              "    </tr>\n",
              "    <tr>\n",
              "      <th>22</th>\n",
              "      <td>-OxDX2fPQLYi6ChW2Z6xxQ</td>\n",
              "      <td>3.734899</td>\n",
              "    </tr>\n",
              "    <tr>\n",
              "      <th>23</th>\n",
              "      <td>-PKUAor_Nz_IaNjP_jIwyA</td>\n",
              "      <td>3.341085</td>\n",
              "    </tr>\n",
              "    <tr>\n",
              "      <th>24</th>\n",
              "      <td>-PL-4fFYPYrOjnNd0lO4Lg</td>\n",
              "      <td>4.060606</td>\n",
              "    </tr>\n",
              "    <tr>\n",
              "      <th>25</th>\n",
              "      <td>-PO_5qu0CQIKqsPjLqSYMg</td>\n",
              "      <td>4.000000</td>\n",
              "    </tr>\n",
              "    <tr>\n",
              "      <th>26</th>\n",
              "      <td>-Q5b2LGivWP_ZBwSovGCRQ</td>\n",
              "      <td>4.144068</td>\n",
              "    </tr>\n",
              "    <tr>\n",
              "      <th>27</th>\n",
              "      <td>-TjzQsimpriXVYaH3HdtQA</td>\n",
              "      <td>4.222930</td>\n",
              "    </tr>\n",
              "    <tr>\n",
              "      <th>28</th>\n",
              "      <td>-Tpo5r3kF_z4iilx8JXhvA</td>\n",
              "      <td>3.777108</td>\n",
              "    </tr>\n",
              "    <tr>\n",
              "      <th>29</th>\n",
              "      <td>-UPP0Q_kZsuQ2zZ1k7lbyQ</td>\n",
              "      <td>3.073171</td>\n",
              "    </tr>\n",
              "    <tr>\n",
              "      <th>...</th>\n",
              "      <td>...</td>\n",
              "      <td>...</td>\n",
              "    </tr>\n",
              "    <tr>\n",
              "      <th>5223</th>\n",
              "      <td>zd6mwM53f1E5OG4sPzP74Q</td>\n",
              "      <td>4.000000</td>\n",
              "    </tr>\n",
              "    <tr>\n",
              "      <th>5224</th>\n",
              "      <td>zdxOrKy1GGyQcchr0qZvnQ</td>\n",
              "      <td>3.964286</td>\n",
              "    </tr>\n",
              "    <tr>\n",
              "      <th>5225</th>\n",
              "      <td>zeJh7AoPgwtNNQSfl4eneQ</td>\n",
              "      <td>5.000000</td>\n",
              "    </tr>\n",
              "    <tr>\n",
              "      <th>5226</th>\n",
              "      <td>zeOJYl5UW4D5u3Vcj6QAoA</td>\n",
              "      <td>4.343284</td>\n",
              "    </tr>\n",
              "    <tr>\n",
              "      <th>5227</th>\n",
              "      <td>zeiaHxtK2fTUz_jlPdIKPQ</td>\n",
              "      <td>4.000000</td>\n",
              "    </tr>\n",
              "    <tr>\n",
              "      <th>5228</th>\n",
              "      <td>zfQ855VX3SMA_54oVSN5Cw</td>\n",
              "      <td>4.356495</td>\n",
              "    </tr>\n",
              "    <tr>\n",
              "      <th>5229</th>\n",
              "      <td>zfg_cw3tNVkd0xyU3eMGpA</td>\n",
              "      <td>4.000000</td>\n",
              "    </tr>\n",
              "    <tr>\n",
              "      <th>5230</th>\n",
              "      <td>zgQHtqX0gqMw1nlBZl2VnQ</td>\n",
              "      <td>3.164516</td>\n",
              "    </tr>\n",
              "    <tr>\n",
              "      <th>5231</th>\n",
              "      <td>zkDxv3JDb6Chg72gODDGJQ</td>\n",
              "      <td>3.500000</td>\n",
              "    </tr>\n",
              "    <tr>\n",
              "      <th>5232</th>\n",
              "      <td>zlsiSoZaNtQeMkdKl5K_hg</td>\n",
              "      <td>3.886792</td>\n",
              "    </tr>\n",
              "    <tr>\n",
              "      <th>5233</th>\n",
              "      <td>zmJp4ocFlteqlLVvTYieDQ</td>\n",
              "      <td>4.520000</td>\n",
              "    </tr>\n",
              "    <tr>\n",
              "      <th>5234</th>\n",
              "      <td>zmfa8RNxqSuOJ9Nx-CMs_Q</td>\n",
              "      <td>4.225000</td>\n",
              "    </tr>\n",
              "    <tr>\n",
              "      <th>5235</th>\n",
              "      <td>znZjTq9MhVesMpnReKSQfg</td>\n",
              "      <td>2.666667</td>\n",
              "    </tr>\n",
              "    <tr>\n",
              "      <th>5236</th>\n",
              "      <td>znc5ZpKCPANquABEm7SJuA</td>\n",
              "      <td>3.529412</td>\n",
              "    </tr>\n",
              "    <tr>\n",
              "      <th>5237</th>\n",
              "      <td>znu3EN7tDFIXmiTwKvX1Ow</td>\n",
              "      <td>4.045455</td>\n",
              "    </tr>\n",
              "    <tr>\n",
              "      <th>5238</th>\n",
              "      <td>zo_z6lMRcwHqQF_Z1VZLpg</td>\n",
              "      <td>2.738372</td>\n",
              "    </tr>\n",
              "    <tr>\n",
              "      <th>5239</th>\n",
              "      <td>zrYpLdnGKA_EmOhgRCy_vg</td>\n",
              "      <td>3.841176</td>\n",
              "    </tr>\n",
              "    <tr>\n",
              "      <th>5240</th>\n",
              "      <td>zsgvTFimYf4stONAJOyePw</td>\n",
              "      <td>3.000000</td>\n",
              "    </tr>\n",
              "    <tr>\n",
              "      <th>5241</th>\n",
              "      <td>zsyQEMYhIDcdGLbf-kYlRw</td>\n",
              "      <td>2.636364</td>\n",
              "    </tr>\n",
              "    <tr>\n",
              "      <th>5242</th>\n",
              "      <td>ztzjD1Zs5tfMZTYKXkmL9Q</td>\n",
              "      <td>3.866667</td>\n",
              "    </tr>\n",
              "    <tr>\n",
              "      <th>5243</th>\n",
              "      <td>zu5dqKqPjJCycS5k-92Alg</td>\n",
              "      <td>3.133333</td>\n",
              "    </tr>\n",
              "    <tr>\n",
              "      <th>5244</th>\n",
              "      <td>zuCgnSkJa3aFB5s1-8ew4g</td>\n",
              "      <td>3.789474</td>\n",
              "    </tr>\n",
              "    <tr>\n",
              "      <th>5245</th>\n",
              "      <td>zvOy4znhODeXleiublTsRg</td>\n",
              "      <td>4.000000</td>\n",
              "    </tr>\n",
              "    <tr>\n",
              "      <th>5246</th>\n",
              "      <td>zvezLicNkf8tTqZyYhP83w</td>\n",
              "      <td>2.843137</td>\n",
              "    </tr>\n",
              "    <tr>\n",
              "      <th>5247</th>\n",
              "      <td>zwFRdFxgCV6bF6DAajpCtA</td>\n",
              "      <td>2.666667</td>\n",
              "    </tr>\n",
              "    <tr>\n",
              "      <th>5248</th>\n",
              "      <td>zwlgRmJxWkeWUMyLcdJjAg</td>\n",
              "      <td>4.000000</td>\n",
              "    </tr>\n",
              "    <tr>\n",
              "      <th>5249</th>\n",
              "      <td>zy5UZvaG4iOLSbxuophtTQ</td>\n",
              "      <td>3.411765</td>\n",
              "    </tr>\n",
              "    <tr>\n",
              "      <th>5250</th>\n",
              "      <td>zy_NHTqtfSrfTGGPoqy4Mw</td>\n",
              "      <td>3.280000</td>\n",
              "    </tr>\n",
              "    <tr>\n",
              "      <th>5251</th>\n",
              "      <td>zyw5DjrRks7a8OhmBsgCQQ</td>\n",
              "      <td>3.083333</td>\n",
              "    </tr>\n",
              "    <tr>\n",
              "      <th>5252</th>\n",
              "      <td>zzH3E5DA8eMzFwv2k5izyw</td>\n",
              "      <td>4.166667</td>\n",
              "    </tr>\n",
              "  </tbody>\n",
              "</table>\n",
              "<p>5253 rows × 2 columns</p>\n",
              "</div>"
            ],
            "text/plain": [
              "                 business_id  stars_revs\n",
              "0     -0aOudcaAyac0VJbMX-L1g    3.133333\n",
              "1     -3iE3lPp18Tn2ixqIRJB_w    4.000000\n",
              "2     -4uT6QFVaRtc2Zmxvtd9Vg    4.750000\n",
              "3     -6sE5v4OrVGmWxdIrbs-RQ    4.250000\n",
              "4     -7BCZH437U5FjmNJ26llkg    4.347222\n",
              "5     -AVRReI-nfsa0lKlehEojw    3.235294\n",
              "6     -BbnAc9YEO6pjvJGEtFbVQ    4.211155\n",
              "7     -CLTZ0cO-ooKDDmXHFoGMg    3.821429\n",
              "8     -ClafaRWkSRTfieIzO4r3Q    3.314815\n",
              "9     -DOE4Qs8IMfgkvshYKfC7w    3.117647\n",
              "10    -EFDz-s9QUWJbFIp16O_3g    2.000000\n",
              "11    -EX_qttyhm5YNb8NWtAcCQ    4.027027\n",
              "12    -Ggr1M22MxTbP2J8L7oHqw    2.857143\n",
              "13    -H5Qoimm5siEJ4RSU4FyHQ    2.333333\n",
              "14    -ICGmF2qUVKdvOehVNgPbg    4.079310\n",
              "15    -IOuy7CKwWN54IEzESVOBQ    1.000000\n",
              "16    -IP0Y1XLcnxb6yfMxPcLfQ    2.733333\n",
              "17    -IXNFjtECsn8fqF047tYFw    3.237288\n",
              "18    -IlQvDjwqOnA0iqlbmWX-Q    4.750000\n",
              "19    -Ipm_8YXj9UoNNHagCvsNg    3.900498\n",
              "20    -J6FVdY9pSgAdFmmalO-pQ    3.964664\n",
              "21    -M9S1wlZTvv6T9EOo5X2Yw    2.753846\n",
              "22    -OxDX2fPQLYi6ChW2Z6xxQ    3.734899\n",
              "23    -PKUAor_Nz_IaNjP_jIwyA    3.341085\n",
              "24    -PL-4fFYPYrOjnNd0lO4Lg    4.060606\n",
              "25    -PO_5qu0CQIKqsPjLqSYMg    4.000000\n",
              "26    -Q5b2LGivWP_ZBwSovGCRQ    4.144068\n",
              "27    -TjzQsimpriXVYaH3HdtQA    4.222930\n",
              "28    -Tpo5r3kF_z4iilx8JXhvA    3.777108\n",
              "29    -UPP0Q_kZsuQ2zZ1k7lbyQ    3.073171\n",
              "...                      ...         ...\n",
              "5223  zd6mwM53f1E5OG4sPzP74Q    4.000000\n",
              "5224  zdxOrKy1GGyQcchr0qZvnQ    3.964286\n",
              "5225  zeJh7AoPgwtNNQSfl4eneQ    5.000000\n",
              "5226  zeOJYl5UW4D5u3Vcj6QAoA    4.343284\n",
              "5227  zeiaHxtK2fTUz_jlPdIKPQ    4.000000\n",
              "5228  zfQ855VX3SMA_54oVSN5Cw    4.356495\n",
              "5229  zfg_cw3tNVkd0xyU3eMGpA    4.000000\n",
              "5230  zgQHtqX0gqMw1nlBZl2VnQ    3.164516\n",
              "5231  zkDxv3JDb6Chg72gODDGJQ    3.500000\n",
              "5232  zlsiSoZaNtQeMkdKl5K_hg    3.886792\n",
              "5233  zmJp4ocFlteqlLVvTYieDQ    4.520000\n",
              "5234  zmfa8RNxqSuOJ9Nx-CMs_Q    4.225000\n",
              "5235  znZjTq9MhVesMpnReKSQfg    2.666667\n",
              "5236  znc5ZpKCPANquABEm7SJuA    3.529412\n",
              "5237  znu3EN7tDFIXmiTwKvX1Ow    4.045455\n",
              "5238  zo_z6lMRcwHqQF_Z1VZLpg    2.738372\n",
              "5239  zrYpLdnGKA_EmOhgRCy_vg    3.841176\n",
              "5240  zsgvTFimYf4stONAJOyePw    3.000000\n",
              "5241  zsyQEMYhIDcdGLbf-kYlRw    2.636364\n",
              "5242  ztzjD1Zs5tfMZTYKXkmL9Q    3.866667\n",
              "5243  zu5dqKqPjJCycS5k-92Alg    3.133333\n",
              "5244  zuCgnSkJa3aFB5s1-8ew4g    3.789474\n",
              "5245  zvOy4znhODeXleiublTsRg    4.000000\n",
              "5246  zvezLicNkf8tTqZyYhP83w    2.843137\n",
              "5247  zwFRdFxgCV6bF6DAajpCtA    2.666667\n",
              "5248  zwlgRmJxWkeWUMyLcdJjAg    4.000000\n",
              "5249  zy5UZvaG4iOLSbxuophtTQ    3.411765\n",
              "5250  zy_NHTqtfSrfTGGPoqy4Mw    3.280000\n",
              "5251  zyw5DjrRks7a8OhmBsgCQQ    3.083333\n",
              "5252  zzH3E5DA8eMzFwv2k5izyw    4.166667\n",
              "\n",
              "[5253 rows x 2 columns]"
            ]
          },
          "metadata": {
            "tags": []
          },
          "execution_count": 68
        }
      ]
    },
    {
      "cell_type": "code",
      "metadata": {
        "id": "8QQwBhceKuNs",
        "colab_type": "code",
        "colab": {}
      },
      "source": [
        "bus= bus.merge(b_means, on='business_id')"
      ],
      "execution_count": 0,
      "outputs": []
    },
    {
      "cell_type": "code",
      "metadata": {
        "id": "XtWmXiIWK5jA",
        "colab_type": "code",
        "colab": {}
      },
      "source": [
        "bus['stars']=bus.stars_revs"
      ],
      "execution_count": 0,
      "outputs": []
    },
    {
      "cell_type": "code",
      "metadata": {
        "id": "EpZ6LV4QLJ1q",
        "colab_type": "code",
        "colab": {}
      },
      "source": [
        "del bus['stars_revs']"
      ],
      "execution_count": 0,
      "outputs": []
    },
    {
      "cell_type": "code",
      "metadata": {
        "id": "w9K0xXLDLKjI",
        "colab_type": "code",
        "colab": {}
      },
      "source": [
        "stars_only=bus[['business_id', 'stars']]"
      ],
      "execution_count": 0,
      "outputs": []
    },
    {
      "cell_type": "code",
      "metadata": {
        "id": "no7NCkgoLQAk",
        "colab_type": "code",
        "colab": {}
      },
      "source": [
        "revs=revs.merge(stars_only,how='left', on='business_id', suffixes=('_revs', '_bus'))"
      ],
      "execution_count": 0,
      "outputs": []
    },
    {
      "cell_type": "code",
      "metadata": {
        "id": "2xkmUInyLV5M",
        "colab_type": "code",
        "colab": {
          "base_uri": "https://localhost:8080/",
          "height": 632
        },
        "outputId": "22b3dfcf-ad7f-4eeb-f87e-8d19125ba4b7"
      },
      "source": [
        "revs.head()"
      ],
      "execution_count": 77,
      "outputs": [
        {
          "output_type": "execute_result",
          "data": {
            "text/html": [
              "<div>\n",
              "<style scoped>\n",
              "    .dataframe tbody tr th:only-of-type {\n",
              "        vertical-align: middle;\n",
              "    }\n",
              "\n",
              "    .dataframe tbody tr th {\n",
              "        vertical-align: top;\n",
              "    }\n",
              "\n",
              "    .dataframe thead th {\n",
              "        text-align: right;\n",
              "    }\n",
              "</style>\n",
              "<table border=\"1\" class=\"dataframe\">\n",
              "  <thead>\n",
              "    <tr style=\"text-align: right;\">\n",
              "      <th></th>\n",
              "      <th>business_id</th>\n",
              "      <th>cool</th>\n",
              "      <th>date</th>\n",
              "      <th>elem</th>\n",
              "      <th>funny</th>\n",
              "      <th>review_id</th>\n",
              "      <th>stars_revs</th>\n",
              "      <th>useful</th>\n",
              "      <th>user_id</th>\n",
              "      <th>biz_num</th>\n",
              "      <th>address</th>\n",
              "      <th>categories</th>\n",
              "      <th>hours</th>\n",
              "      <th>latitude</th>\n",
              "      <th>longitude</th>\n",
              "      <th>name</th>\n",
              "      <th>postal_code</th>\n",
              "      <th>review_count</th>\n",
              "      <th>stars_bus</th>\n",
              "      <th>stars</th>\n",
              "    </tr>\n",
              "  </thead>\n",
              "  <tbody>\n",
              "    <tr>\n",
              "      <th>0</th>\n",
              "      <td>AakkkTuGZA2KBodKi2_u8A</td>\n",
              "      <td>0</td>\n",
              "      <td>2012-07-16 00:37:14</td>\n",
              "      <td>10766</td>\n",
              "      <td>1</td>\n",
              "      <td>JVcjMhlavKKn3UIt9p9OXA</td>\n",
              "      <td>1.0</td>\n",
              "      <td>1</td>\n",
              "      <td>TpyOT5E16YASd7EWjLQlrw</td>\n",
              "      <td>943</td>\n",
              "      <td>1603 Dundas Street W</td>\n",
              "      <td>Asian Fusion, Restaurants, Vietnamese</td>\n",
              "      <td>{'Monday': '11:0-22:0', 'Tuesday': '11:0-22:0'...</td>\n",
              "      <td>43.649674</td>\n",
              "      <td>-79.435116</td>\n",
              "      <td>Pho Phuong</td>\n",
              "      <td>M6K 1T9</td>\n",
              "      <td>55</td>\n",
              "      <td>3.5</td>\n",
              "      <td>3.303571</td>\n",
              "    </tr>\n",
              "    <tr>\n",
              "      <th>1</th>\n",
              "      <td>YvrylyuWgbP90RgMqZQVnQ</td>\n",
              "      <td>0</td>\n",
              "      <td>2017-04-07 21:27:49</td>\n",
              "      <td>33371</td>\n",
              "      <td>0</td>\n",
              "      <td>svK3nBU7Rk8VfGorlrN52A</td>\n",
              "      <td>5.0</td>\n",
              "      <td>0</td>\n",
              "      <td>NJlxGtouq06hhC7sS2ECYw</td>\n",
              "      <td>2934</td>\n",
              "      <td>232 Wellington Street W</td>\n",
              "      <td>Sandwiches, Restaurants, Italian, Pizza</td>\n",
              "      <td>{'Monday': '11:0-23:0', 'Tuesday': '11:0-23:0'...</td>\n",
              "      <td>43.645277</td>\n",
              "      <td>-79.389704</td>\n",
              "      <td>Jz's Pizza</td>\n",
              "      <td>M5V 3W1</td>\n",
              "      <td>71</td>\n",
              "      <td>4.0</td>\n",
              "      <td>3.957746</td>\n",
              "    </tr>\n",
              "    <tr>\n",
              "      <th>2</th>\n",
              "      <td>y-Iw6dZflNix4BdwIyTNGA</td>\n",
              "      <td>0</td>\n",
              "      <td>2014-06-27 21:19:23</td>\n",
              "      <td>57511</td>\n",
              "      <td>0</td>\n",
              "      <td>4bUyL7lzoWzDZaJETAKREg</td>\n",
              "      <td>3.0</td>\n",
              "      <td>0</td>\n",
              "      <td>_N7Ndn29bpll_961oPeEfw</td>\n",
              "      <td>5099</td>\n",
              "      <td>2876 Dundas Street W</td>\n",
              "      <td>Restaurants, Food, Breweries, Gastropubs, Pizza</td>\n",
              "      <td>{'Monday': '17:0-1:0', 'Tuesday': '12:0-1:0', ...</td>\n",
              "      <td>43.665441</td>\n",
              "      <td>-79.465238</td>\n",
              "      <td>Indie Ale House</td>\n",
              "      <td>M6P 1Y9</td>\n",
              "      <td>235</td>\n",
              "      <td>4.0</td>\n",
              "      <td>4.082988</td>\n",
              "    </tr>\n",
              "    <tr>\n",
              "      <th>3</th>\n",
              "      <td>YSUcHqlKMPHHJ_cTrqtNrA</td>\n",
              "      <td>0</td>\n",
              "      <td>2017-12-29 13:55:19</td>\n",
              "      <td>32926</td>\n",
              "      <td>0</td>\n",
              "      <td>E6B-2U2sGG3xgmnNWZAEew</td>\n",
              "      <td>1.0</td>\n",
              "      <td>0</td>\n",
              "      <td>DbccYu3OppWKl21OanZnTg</td>\n",
              "      <td>2894</td>\n",
              "      <td>32 Wellington Street E</td>\n",
              "      <td>Italian, Restaurants</td>\n",
              "      <td>{'Monday': '11:0-23:0', 'Tuesday': '11:0-23:0'...</td>\n",
              "      <td>43.648404</td>\n",
              "      <td>-79.375469</td>\n",
              "      <td>Vagabondo Italian Ristorante+Lounge</td>\n",
              "      <td>M5E 1C6</td>\n",
              "      <td>77</td>\n",
              "      <td>3.0</td>\n",
              "      <td>3.089744</td>\n",
              "    </tr>\n",
              "    <tr>\n",
              "      <th>4</th>\n",
              "      <td>TVLAvAFx0FqAkKGKHVjHpQ</td>\n",
              "      <td>1</td>\n",
              "      <td>2017-12-15 22:49:01</td>\n",
              "      <td>28247</td>\n",
              "      <td>0</td>\n",
              "      <td>6JgzKIDvophsU1yfK0DdyA</td>\n",
              "      <td>4.0</td>\n",
              "      <td>1</td>\n",
              "      <td>mZ1gXzL6Tn5Oky8_j0Kp7g</td>\n",
              "      <td>2479</td>\n",
              "      <td>140 Spadina Avenue</td>\n",
              "      <td>Soup, Juice Bars &amp; Smoothies, Restaurants, Foo...</td>\n",
              "      <td>{'Monday': '11:0-21:0', 'Tuesday': '11:0-21:0'...</td>\n",
              "      <td>43.647726</td>\n",
              "      <td>-79.396247</td>\n",
              "      <td>Freshii</td>\n",
              "      <td>M5V 2L4</td>\n",
              "      <td>40</td>\n",
              "      <td>3.0</td>\n",
              "      <td>2.975610</td>\n",
              "    </tr>\n",
              "  </tbody>\n",
              "</table>\n",
              "</div>"
            ],
            "text/plain": [
              "              business_id  cool  ... stars_bus     stars\n",
              "0  AakkkTuGZA2KBodKi2_u8A     0  ...       3.5  3.303571\n",
              "1  YvrylyuWgbP90RgMqZQVnQ     0  ...       4.0  3.957746\n",
              "2  y-Iw6dZflNix4BdwIyTNGA     0  ...       4.0  4.082988\n",
              "3  YSUcHqlKMPHHJ_cTrqtNrA     0  ...       3.0  3.089744\n",
              "4  TVLAvAFx0FqAkKGKHVjHpQ     1  ...       3.0  2.975610\n",
              "\n",
              "[5 rows x 20 columns]"
            ]
          },
          "metadata": {
            "tags": []
          },
          "execution_count": 77
        }
      ]
    },
    {
      "cell_type": "code",
      "metadata": {
        "id": "bK20OBkxLWzc",
        "colab_type": "code",
        "colab": {}
      },
      "source": [
        "revs['stars_bus']=revs.stars"
      ],
      "execution_count": 0,
      "outputs": []
    },
    {
      "cell_type": "code",
      "metadata": {
        "id": "udrUzU78Lbro",
        "colab_type": "code",
        "colab": {}
      },
      "source": [
        "del revs['stars']"
      ],
      "execution_count": 0,
      "outputs": []
    },
    {
      "cell_type": "code",
      "metadata": {
        "id": "-wfz6hZFLevT",
        "colab_type": "code",
        "colab": {}
      },
      "source": [
        "revs.to_csv('toronto_reviews.csv')"
      ],
      "execution_count": 0,
      "outputs": []
    },
    {
      "cell_type": "code",
      "metadata": {
        "id": "uARpeAG4LhjD",
        "colab_type": "code",
        "colab": {}
      },
      "source": [
        "bus.to_csv('toronto_restaurants.csv')"
      ],
      "execution_count": 0,
      "outputs": []
    },
    {
      "cell_type": "code",
      "metadata": {
        "id": "F8ZOemufLoMg",
        "colab_type": "code",
        "colab": {}
      },
      "source": [
        ""
      ],
      "execution_count": 0,
      "outputs": []
    }
  ]
}