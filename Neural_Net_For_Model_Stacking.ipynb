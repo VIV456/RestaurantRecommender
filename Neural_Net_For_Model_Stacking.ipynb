{
  "nbformat": 4,
  "nbformat_minor": 0,
  "metadata": {
    "colab": {
      "name": "Neural Net For Model Stacking.ipynb",
      "version": "0.3.2",
      "provenance": []
    },
    "kernelspec": {
      "name": "python3",
      "display_name": "Python 3"
    }
  },
  "cells": [
    {
      "cell_type": "code",
      "metadata": {
        "id": "nclkrHSf43jr",
        "colab_type": "code",
        "colab": {}
      },
      "source": [
        "import pandas as pd\n",
        "import numpy as np \n",
        "from keras.models import Sequential\n",
        "from keras.layers import Dense, Dropout, Flatten\n",
        "from keras.wrappers.scikit_learn import KerasRegressor\n",
        "from sklearn.model_selection import cross_val_score\n",
        "from sklearn.model_selection import KFold\n",
        "from sklearn.preprocessing import StandardScaler\n",
        "from sklearn.pipeline import Pipeline\n",
        "import keras"
      ],
      "execution_count": 0,
      "outputs": []
    },
    {
      "cell_type": "code",
      "metadata": {
        "id": "b-Fe_Ko56c9e",
        "colab_type": "code",
        "colab": {}
      },
      "source": [
        "df= pd.read_csv('toronto_val.csv')\n",
        "del df['Unnamed: 0']"
      ],
      "execution_count": 0,
      "outputs": []
    },
    {
      "cell_type": "code",
      "metadata": {
        "id": "1jWlChTi6g9E",
        "colab_type": "code",
        "colab": {
          "base_uri": "https://localhost:8080/",
          "height": 698
        },
        "outputId": "25f5d65f-206e-4479-95cd-23741db7b304"
      },
      "source": [
        "test_df= pd.read_csv('toronto_test.csv')\n",
        "del df['Unnamed: 0']"
      ],
      "execution_count": 84,
      "outputs": [
        {
          "output_type": "error",
          "ename": "KeyError",
          "evalue": "ignored",
          "traceback": [
            "\u001b[0;31m---------------------------------------------------------------------------\u001b[0m",
            "\u001b[0;31mKeyError\u001b[0m                                  Traceback (most recent call last)",
            "\u001b[0;32m/usr/local/lib/python3.6/dist-packages/pandas/core/indexes/base.py\u001b[0m in \u001b[0;36mget_loc\u001b[0;34m(self, key, method, tolerance)\u001b[0m\n\u001b[1;32m   2656\u001b[0m             \u001b[0;32mtry\u001b[0m\u001b[0;34m:\u001b[0m\u001b[0;34m\u001b[0m\u001b[0;34m\u001b[0m\u001b[0m\n\u001b[0;32m-> 2657\u001b[0;31m                 \u001b[0;32mreturn\u001b[0m \u001b[0mself\u001b[0m\u001b[0;34m.\u001b[0m\u001b[0m_engine\u001b[0m\u001b[0;34m.\u001b[0m\u001b[0mget_loc\u001b[0m\u001b[0;34m(\u001b[0m\u001b[0mkey\u001b[0m\u001b[0;34m)\u001b[0m\u001b[0;34m\u001b[0m\u001b[0;34m\u001b[0m\u001b[0m\n\u001b[0m\u001b[1;32m   2658\u001b[0m             \u001b[0;32mexcept\u001b[0m \u001b[0mKeyError\u001b[0m\u001b[0;34m:\u001b[0m\u001b[0;34m\u001b[0m\u001b[0;34m\u001b[0m\u001b[0m\n",
            "\u001b[0;32mpandas/_libs/index.pyx\u001b[0m in \u001b[0;36mpandas._libs.index.IndexEngine.get_loc\u001b[0;34m()\u001b[0m\n",
            "\u001b[0;32mpandas/_libs/index.pyx\u001b[0m in \u001b[0;36mpandas._libs.index.IndexEngine.get_loc\u001b[0;34m()\u001b[0m\n",
            "\u001b[0;32mpandas/_libs/hashtable_class_helper.pxi\u001b[0m in \u001b[0;36mpandas._libs.hashtable.PyObjectHashTable.get_item\u001b[0;34m()\u001b[0m\n",
            "\u001b[0;32mpandas/_libs/hashtable_class_helper.pxi\u001b[0m in \u001b[0;36mpandas._libs.hashtable.PyObjectHashTable.get_item\u001b[0;34m()\u001b[0m\n",
            "\u001b[0;31mKeyError\u001b[0m: 'Unnamed: 0'",
            "\nDuring handling of the above exception, another exception occurred:\n",
            "\u001b[0;31mKeyError\u001b[0m                                  Traceback (most recent call last)",
            "\u001b[0;32m<ipython-input-84-94dc757eceb5>\u001b[0m in \u001b[0;36m<module>\u001b[0;34m()\u001b[0m\n\u001b[1;32m      1\u001b[0m \u001b[0mtest_df\u001b[0m\u001b[0;34m=\u001b[0m \u001b[0mpd\u001b[0m\u001b[0;34m.\u001b[0m\u001b[0mread_csv\u001b[0m\u001b[0;34m(\u001b[0m\u001b[0;34m'toronto_test.csv'\u001b[0m\u001b[0;34m)\u001b[0m\u001b[0;34m\u001b[0m\u001b[0;34m\u001b[0m\u001b[0m\n\u001b[0;32m----> 2\u001b[0;31m \u001b[0;32mdel\u001b[0m \u001b[0mdf\u001b[0m\u001b[0;34m[\u001b[0m\u001b[0;34m'Unnamed: 0'\u001b[0m\u001b[0;34m]\u001b[0m\u001b[0;34m\u001b[0m\u001b[0;34m\u001b[0m\u001b[0m\n\u001b[0m",
            "\u001b[0;32m/usr/local/lib/python3.6/dist-packages/pandas/core/generic.py\u001b[0m in \u001b[0;36m__delitem__\u001b[0;34m(self, key)\u001b[0m\n\u001b[1;32m   3313\u001b[0m             \u001b[0;31m# there was no match, this call should raise the appropriate\u001b[0m\u001b[0;34m\u001b[0m\u001b[0;34m\u001b[0m\u001b[0;34m\u001b[0m\u001b[0m\n\u001b[1;32m   3314\u001b[0m             \u001b[0;31m# exception:\u001b[0m\u001b[0;34m\u001b[0m\u001b[0;34m\u001b[0m\u001b[0;34m\u001b[0m\u001b[0m\n\u001b[0;32m-> 3315\u001b[0;31m             \u001b[0mself\u001b[0m\u001b[0;34m.\u001b[0m\u001b[0m_data\u001b[0m\u001b[0;34m.\u001b[0m\u001b[0mdelete\u001b[0m\u001b[0;34m(\u001b[0m\u001b[0mkey\u001b[0m\u001b[0;34m)\u001b[0m\u001b[0;34m\u001b[0m\u001b[0;34m\u001b[0m\u001b[0m\n\u001b[0m\u001b[1;32m   3316\u001b[0m \u001b[0;34m\u001b[0m\u001b[0m\n\u001b[1;32m   3317\u001b[0m         \u001b[0;31m# delete from the caches\u001b[0m\u001b[0;34m\u001b[0m\u001b[0;34m\u001b[0m\u001b[0;34m\u001b[0m\u001b[0m\n",
            "\u001b[0;32m/usr/local/lib/python3.6/dist-packages/pandas/core/internals/managers.py\u001b[0m in \u001b[0;36mdelete\u001b[0;34m(self, item)\u001b[0m\n\u001b[1;32m    983\u001b[0m         \u001b[0mDelete\u001b[0m \u001b[0mselected\u001b[0m \u001b[0mitem\u001b[0m \u001b[0;34m(\u001b[0m\u001b[0mitems\u001b[0m \u001b[0;32mif\u001b[0m \u001b[0mnon\u001b[0m\u001b[0;34m-\u001b[0m\u001b[0munique\u001b[0m\u001b[0;34m)\u001b[0m \u001b[0;32min\u001b[0m\u001b[0;34m-\u001b[0m\u001b[0mplace\u001b[0m\u001b[0;34m.\u001b[0m\u001b[0;34m\u001b[0m\u001b[0;34m\u001b[0m\u001b[0m\n\u001b[1;32m    984\u001b[0m         \"\"\"\n\u001b[0;32m--> 985\u001b[0;31m         \u001b[0mindexer\u001b[0m \u001b[0;34m=\u001b[0m \u001b[0mself\u001b[0m\u001b[0;34m.\u001b[0m\u001b[0mitems\u001b[0m\u001b[0;34m.\u001b[0m\u001b[0mget_loc\u001b[0m\u001b[0;34m(\u001b[0m\u001b[0mitem\u001b[0m\u001b[0;34m)\u001b[0m\u001b[0;34m\u001b[0m\u001b[0;34m\u001b[0m\u001b[0m\n\u001b[0m\u001b[1;32m    986\u001b[0m \u001b[0;34m\u001b[0m\u001b[0m\n\u001b[1;32m    987\u001b[0m         \u001b[0mis_deleted\u001b[0m \u001b[0;34m=\u001b[0m \u001b[0mnp\u001b[0m\u001b[0;34m.\u001b[0m\u001b[0mzeros\u001b[0m\u001b[0;34m(\u001b[0m\u001b[0mself\u001b[0m\u001b[0;34m.\u001b[0m\u001b[0mshape\u001b[0m\u001b[0;34m[\u001b[0m\u001b[0;36m0\u001b[0m\u001b[0;34m]\u001b[0m\u001b[0;34m,\u001b[0m \u001b[0mdtype\u001b[0m\u001b[0;34m=\u001b[0m\u001b[0mnp\u001b[0m\u001b[0;34m.\u001b[0m\u001b[0mbool_\u001b[0m\u001b[0;34m)\u001b[0m\u001b[0;34m\u001b[0m\u001b[0;34m\u001b[0m\u001b[0m\n",
            "\u001b[0;32m/usr/local/lib/python3.6/dist-packages/pandas/core/indexes/base.py\u001b[0m in \u001b[0;36mget_loc\u001b[0;34m(self, key, method, tolerance)\u001b[0m\n\u001b[1;32m   2657\u001b[0m                 \u001b[0;32mreturn\u001b[0m \u001b[0mself\u001b[0m\u001b[0;34m.\u001b[0m\u001b[0m_engine\u001b[0m\u001b[0;34m.\u001b[0m\u001b[0mget_loc\u001b[0m\u001b[0;34m(\u001b[0m\u001b[0mkey\u001b[0m\u001b[0;34m)\u001b[0m\u001b[0;34m\u001b[0m\u001b[0;34m\u001b[0m\u001b[0m\n\u001b[1;32m   2658\u001b[0m             \u001b[0;32mexcept\u001b[0m \u001b[0mKeyError\u001b[0m\u001b[0;34m:\u001b[0m\u001b[0;34m\u001b[0m\u001b[0;34m\u001b[0m\u001b[0m\n\u001b[0;32m-> 2659\u001b[0;31m                 \u001b[0;32mreturn\u001b[0m \u001b[0mself\u001b[0m\u001b[0;34m.\u001b[0m\u001b[0m_engine\u001b[0m\u001b[0;34m.\u001b[0m\u001b[0mget_loc\u001b[0m\u001b[0;34m(\u001b[0m\u001b[0mself\u001b[0m\u001b[0;34m.\u001b[0m\u001b[0m_maybe_cast_indexer\u001b[0m\u001b[0;34m(\u001b[0m\u001b[0mkey\u001b[0m\u001b[0;34m)\u001b[0m\u001b[0;34m)\u001b[0m\u001b[0;34m\u001b[0m\u001b[0;34m\u001b[0m\u001b[0m\n\u001b[0m\u001b[1;32m   2660\u001b[0m         \u001b[0mindexer\u001b[0m \u001b[0;34m=\u001b[0m \u001b[0mself\u001b[0m\u001b[0;34m.\u001b[0m\u001b[0mget_indexer\u001b[0m\u001b[0;34m(\u001b[0m\u001b[0;34m[\u001b[0m\u001b[0mkey\u001b[0m\u001b[0;34m]\u001b[0m\u001b[0;34m,\u001b[0m \u001b[0mmethod\u001b[0m\u001b[0;34m=\u001b[0m\u001b[0mmethod\u001b[0m\u001b[0;34m,\u001b[0m \u001b[0mtolerance\u001b[0m\u001b[0;34m=\u001b[0m\u001b[0mtolerance\u001b[0m\u001b[0;34m)\u001b[0m\u001b[0;34m\u001b[0m\u001b[0;34m\u001b[0m\u001b[0m\n\u001b[1;32m   2661\u001b[0m         \u001b[0;32mif\u001b[0m \u001b[0mindexer\u001b[0m\u001b[0;34m.\u001b[0m\u001b[0mndim\u001b[0m \u001b[0;34m>\u001b[0m \u001b[0;36m1\u001b[0m \u001b[0;32mor\u001b[0m \u001b[0mindexer\u001b[0m\u001b[0;34m.\u001b[0m\u001b[0msize\u001b[0m \u001b[0;34m>\u001b[0m \u001b[0;36m1\u001b[0m\u001b[0;34m:\u001b[0m\u001b[0;34m\u001b[0m\u001b[0;34m\u001b[0m\u001b[0m\n",
            "\u001b[0;32mpandas/_libs/index.pyx\u001b[0m in \u001b[0;36mpandas._libs.index.IndexEngine.get_loc\u001b[0;34m()\u001b[0m\n",
            "\u001b[0;32mpandas/_libs/index.pyx\u001b[0m in \u001b[0;36mpandas._libs.index.IndexEngine.get_loc\u001b[0;34m()\u001b[0m\n",
            "\u001b[0;32mpandas/_libs/hashtable_class_helper.pxi\u001b[0m in \u001b[0;36mpandas._libs.hashtable.PyObjectHashTable.get_item\u001b[0;34m()\u001b[0m\n",
            "\u001b[0;32mpandas/_libs/hashtable_class_helper.pxi\u001b[0m in \u001b[0;36mpandas._libs.hashtable.PyObjectHashTable.get_item\u001b[0;34m()\u001b[0m\n",
            "\u001b[0;31mKeyError\u001b[0m: 'Unnamed: 0'"
          ]
        }
      ]
    },
    {
      "cell_type": "code",
      "metadata": {
        "id": "qUgAXG0L6j8y",
        "colab_type": "code",
        "colab": {}
      },
      "source": [
        "df=df[df.describe().columns]\n",
        "test_df=test_df[df.describe().columns]"
      ],
      "execution_count": 0,
      "outputs": []
    },
    {
      "cell_type": "code",
      "metadata": {
        "id": "S-BAaF3f6ml6",
        "colab_type": "code",
        "colab": {}
      },
      "source": [
        "del df['elem']\n",
        "del test_df['elem']\n",
        "del df['biz_num']\n",
        "del test_df['biz_num']"
      ],
      "execution_count": 0,
      "outputs": []
    },
    {
      "cell_type": "code",
      "metadata": {
        "id": "237ozJdR6xmG",
        "colab_type": "code",
        "colab": {
          "base_uri": "https://localhost:8080/",
          "height": 224
        },
        "outputId": "3062d9b4-4994-4f21-c262-09e9edf657f8"
      },
      "source": [
        "df.head()"
      ],
      "execution_count": 89,
      "outputs": [
        {
          "output_type": "execute_result",
          "data": {
            "text/html": [
              "<div>\n",
              "<style scoped>\n",
              "    .dataframe tbody tr th:only-of-type {\n",
              "        vertical-align: middle;\n",
              "    }\n",
              "\n",
              "    .dataframe tbody tr th {\n",
              "        vertical-align: top;\n",
              "    }\n",
              "\n",
              "    .dataframe thead th {\n",
              "        text-align: right;\n",
              "    }\n",
              "</style>\n",
              "<table border=\"1\" class=\"dataframe\">\n",
              "  <thead>\n",
              "    <tr style=\"text-align: right;\">\n",
              "      <th></th>\n",
              "      <th>stars_revs</th>\n",
              "      <th>latitude</th>\n",
              "      <th>longitude</th>\n",
              "      <th>review_count</th>\n",
              "      <th>stars_bus</th>\n",
              "      <th>user_stars_mean</th>\n",
              "      <th>user_review_num</th>\n",
              "      <th>svd</th>\n",
              "      <th>svd_pp</th>\n",
              "      <th>nmf</th>\n",
              "      <th>so</th>\n",
              "      <th>ccl</th>\n",
              "      <th>np</th>\n",
              "    </tr>\n",
              "  </thead>\n",
              "  <tbody>\n",
              "    <tr>\n",
              "      <th>0</th>\n",
              "      <td>5.0</td>\n",
              "      <td>43.792427</td>\n",
              "      <td>-79.249860</td>\n",
              "      <td>6</td>\n",
              "      <td>3.703704</td>\n",
              "      <td>2.555556</td>\n",
              "      <td>10</td>\n",
              "      <td>3.259647</td>\n",
              "      <td>3.132973</td>\n",
              "      <td>2.694755</td>\n",
              "      <td>2.200000</td>\n",
              "      <td>3.444736</td>\n",
              "      <td>3.444736</td>\n",
              "    </tr>\n",
              "    <tr>\n",
              "      <th>1</th>\n",
              "      <td>1.0</td>\n",
              "      <td>43.654646</td>\n",
              "      <td>-79.422938</td>\n",
              "      <td>85</td>\n",
              "      <td>3.990327</td>\n",
              "      <td>2.933333</td>\n",
              "      <td>16</td>\n",
              "      <td>3.225836</td>\n",
              "      <td>2.984553</td>\n",
              "      <td>3.645331</td>\n",
              "      <td>3.645331</td>\n",
              "      <td>3.645331</td>\n",
              "      <td>3.645331</td>\n",
              "    </tr>\n",
              "    <tr>\n",
              "      <th>2</th>\n",
              "      <td>1.0</td>\n",
              "      <td>43.656008</td>\n",
              "      <td>-79.393558</td>\n",
              "      <td>431</td>\n",
              "      <td>3.474337</td>\n",
              "      <td>3.463415</td>\n",
              "      <td>206</td>\n",
              "      <td>3.225836</td>\n",
              "      <td>2.984553</td>\n",
              "      <td>3.645331</td>\n",
              "      <td>3.645331</td>\n",
              "      <td>3.645331</td>\n",
              "      <td>3.645331</td>\n",
              "    </tr>\n",
              "    <tr>\n",
              "      <th>3</th>\n",
              "      <td>4.0</td>\n",
              "      <td>43.654321</td>\n",
              "      <td>-79.402084</td>\n",
              "      <td>84</td>\n",
              "      <td>3.011628</td>\n",
              "      <td>3.750000</td>\n",
              "      <td>53</td>\n",
              "      <td>3.225836</td>\n",
              "      <td>2.984553</td>\n",
              "      <td>3.645331</td>\n",
              "      <td>3.645331</td>\n",
              "      <td>3.645331</td>\n",
              "      <td>3.645331</td>\n",
              "    </tr>\n",
              "    <tr>\n",
              "      <th>4</th>\n",
              "      <td>5.0</td>\n",
              "      <td>43.664492</td>\n",
              "      <td>-79.377156</td>\n",
              "      <td>118</td>\n",
              "      <td>3.824710</td>\n",
              "      <td>4.750000</td>\n",
              "      <td>5</td>\n",
              "      <td>3.179841</td>\n",
              "      <td>3.321179</td>\n",
              "      <td>2.378970</td>\n",
              "      <td>2.375000</td>\n",
              "      <td>2.767249</td>\n",
              "      <td>2.767249</td>\n",
              "    </tr>\n",
              "  </tbody>\n",
              "</table>\n",
              "</div>"
            ],
            "text/plain": [
              "   stars_revs   latitude  longitude  ...        so       ccl        np\n",
              "0         5.0  43.792427 -79.249860  ...  2.200000  3.444736  3.444736\n",
              "1         1.0  43.654646 -79.422938  ...  3.645331  3.645331  3.645331\n",
              "2         1.0  43.656008 -79.393558  ...  3.645331  3.645331  3.645331\n",
              "3         4.0  43.654321 -79.402084  ...  3.645331  3.645331  3.645331\n",
              "4         5.0  43.664492 -79.377156  ...  2.375000  2.767249  2.767249\n",
              "\n",
              "[5 rows x 13 columns]"
            ]
          },
          "metadata": {
            "tags": []
          },
          "execution_count": 89
        }
      ]
    },
    {
      "cell_type": "code",
      "metadata": {
        "id": "rPpDnsJjMFvT",
        "colab_type": "code",
        "colab": {
          "base_uri": "https://localhost:8080/",
          "height": 224
        },
        "outputId": "16a28dfb-a65c-427b-d6ed-7ea1d2686058"
      },
      "source": [
        "test_df.head()"
      ],
      "execution_count": 93,
      "outputs": [
        {
          "output_type": "execute_result",
          "data": {
            "text/html": [
              "<div>\n",
              "<style scoped>\n",
              "    .dataframe tbody tr th:only-of-type {\n",
              "        vertical-align: middle;\n",
              "    }\n",
              "\n",
              "    .dataframe tbody tr th {\n",
              "        vertical-align: top;\n",
              "    }\n",
              "\n",
              "    .dataframe thead th {\n",
              "        text-align: right;\n",
              "    }\n",
              "</style>\n",
              "<table border=\"1\" class=\"dataframe\">\n",
              "  <thead>\n",
              "    <tr style=\"text-align: right;\">\n",
              "      <th></th>\n",
              "      <th>stars_revs</th>\n",
              "      <th>latitude</th>\n",
              "      <th>longitude</th>\n",
              "      <th>review_count</th>\n",
              "      <th>stars_bus</th>\n",
              "      <th>user_stars_mean</th>\n",
              "      <th>user_review_num</th>\n",
              "      <th>svd</th>\n",
              "      <th>svd_pp</th>\n",
              "      <th>nmf</th>\n",
              "      <th>so</th>\n",
              "      <th>ccl</th>\n",
              "      <th>np</th>\n",
              "    </tr>\n",
              "  </thead>\n",
              "  <tbody>\n",
              "    <tr>\n",
              "      <th>0</th>\n",
              "      <td>5.0</td>\n",
              "      <td>43.654932</td>\n",
              "      <td>-79.416348</td>\n",
              "      <td>20</td>\n",
              "      <td>4.093182</td>\n",
              "      <td>3.570223</td>\n",
              "      <td>1</td>\n",
              "      <td>3.645331</td>\n",
              "      <td>3.645331</td>\n",
              "      <td>3.645331</td>\n",
              "      <td>3.645331</td>\n",
              "      <td>3.645331</td>\n",
              "      <td>3.645331</td>\n",
              "    </tr>\n",
              "    <tr>\n",
              "      <th>1</th>\n",
              "      <td>4.0</td>\n",
              "      <td>43.662988</td>\n",
              "      <td>-79.331801</td>\n",
              "      <td>48</td>\n",
              "      <td>3.779820</td>\n",
              "      <td>3.833333</td>\n",
              "      <td>7</td>\n",
              "      <td>3.593482</td>\n",
              "      <td>3.641347</td>\n",
              "      <td>3.645331</td>\n",
              "      <td>3.645331</td>\n",
              "      <td>3.645331</td>\n",
              "      <td>3.645331</td>\n",
              "    </tr>\n",
              "    <tr>\n",
              "      <th>2</th>\n",
              "      <td>2.0</td>\n",
              "      <td>43.645241</td>\n",
              "      <td>-79.397404</td>\n",
              "      <td>286</td>\n",
              "      <td>3.453695</td>\n",
              "      <td>3.443038</td>\n",
              "      <td>80</td>\n",
              "      <td>3.593482</td>\n",
              "      <td>3.641347</td>\n",
              "      <td>3.645331</td>\n",
              "      <td>3.645331</td>\n",
              "      <td>3.645331</td>\n",
              "      <td>3.645331</td>\n",
              "    </tr>\n",
              "    <tr>\n",
              "      <th>3</th>\n",
              "      <td>3.0</td>\n",
              "      <td>43.773543</td>\n",
              "      <td>-79.413796</td>\n",
              "      <td>209</td>\n",
              "      <td>3.639408</td>\n",
              "      <td>3.638298</td>\n",
              "      <td>48</td>\n",
              "      <td>3.232565</td>\n",
              "      <td>3.169770</td>\n",
              "      <td>3.645331</td>\n",
              "      <td>3.645331</td>\n",
              "      <td>3.645331</td>\n",
              "      <td>3.645331</td>\n",
              "    </tr>\n",
              "    <tr>\n",
              "      <th>4</th>\n",
              "      <td>4.0</td>\n",
              "      <td>43.653225</td>\n",
              "      <td>-79.397247</td>\n",
              "      <td>344</td>\n",
              "      <td>3.569389</td>\n",
              "      <td>3.428571</td>\n",
              "      <td>8</td>\n",
              "      <td>3.232565</td>\n",
              "      <td>3.169770</td>\n",
              "      <td>3.645331</td>\n",
              "      <td>3.645331</td>\n",
              "      <td>3.645331</td>\n",
              "      <td>3.645331</td>\n",
              "    </tr>\n",
              "  </tbody>\n",
              "</table>\n",
              "</div>"
            ],
            "text/plain": [
              "   stars_revs   latitude  longitude  ...        so       ccl        np\n",
              "0         5.0  43.654932 -79.416348  ...  3.645331  3.645331  3.645331\n",
              "1         4.0  43.662988 -79.331801  ...  3.645331  3.645331  3.645331\n",
              "2         2.0  43.645241 -79.397404  ...  3.645331  3.645331  3.645331\n",
              "3         3.0  43.773543 -79.413796  ...  3.645331  3.645331  3.645331\n",
              "4         4.0  43.653225 -79.397247  ...  3.645331  3.645331  3.645331\n",
              "\n",
              "[5 rows x 13 columns]"
            ]
          },
          "metadata": {
            "tags": []
          },
          "execution_count": 93
        }
      ]
    },
    {
      "cell_type": "code",
      "metadata": {
        "id": "_iK1amVl63x7",
        "colab_type": "code",
        "colab": {}
      },
      "source": [
        "train=df[:int(0.9*len(df))]\n",
        "val= df[int(0.9*len(df)):]"
      ],
      "execution_count": 0,
      "outputs": []
    },
    {
      "cell_type": "code",
      "metadata": {
        "id": "wWhFqtBJ7AjD",
        "colab_type": "code",
        "colab": {}
      },
      "source": [
        "x_train= train[train.columns[1:]]\n",
        "x_val= val[val.columns[1:]]\n",
        "x_test=test_df[test_df.columns[1:]]\n",
        "y_train= pd.DataFrame(train[train.columns[0]])\n",
        "y_val= pd.DataFrame(val[val.columns[0]])\n",
        "y_test= test_df[test_df.columns[0]]"
      ],
      "execution_count": 0,
      "outputs": []
    },
    {
      "cell_type": "code",
      "metadata": {
        "id": "Z4WLtmsEKpVf",
        "colab_type": "code",
        "colab": {
          "base_uri": "https://localhost:8080/",
          "height": 343
        },
        "outputId": "4704b63e-a8ec-41c6-c8b6-1656f953d7bd"
      },
      "source": [
        "for col in x_train.columns:\n",
        "  x_val[col]= (x_val[col]-x_train[col].mean())/(x_train[col].std())\n",
        "  x_test[col]= (x_test[col]-x_train[col].mean())/(x_train[col].std())\n",
        "  x_train[col]= (x_train[col]-x_train[col].mean())/(x_train[col].std())\n"
      ],
      "execution_count": 96,
      "outputs": [
        {
          "output_type": "stream",
          "text": [
            "/usr/local/lib/python3.6/dist-packages/ipykernel_launcher.py:2: SettingWithCopyWarning: \n",
            "A value is trying to be set on a copy of a slice from a DataFrame.\n",
            "Try using .loc[row_indexer,col_indexer] = value instead\n",
            "\n",
            "See the caveats in the documentation: http://pandas.pydata.org/pandas-docs/stable/indexing.html#indexing-view-versus-copy\n",
            "  \n",
            "/usr/local/lib/python3.6/dist-packages/ipykernel_launcher.py:3: SettingWithCopyWarning: \n",
            "A value is trying to be set on a copy of a slice from a DataFrame.\n",
            "Try using .loc[row_indexer,col_indexer] = value instead\n",
            "\n",
            "See the caveats in the documentation: http://pandas.pydata.org/pandas-docs/stable/indexing.html#indexing-view-versus-copy\n",
            "  This is separate from the ipykernel package so we can avoid doing imports until\n",
            "/usr/local/lib/python3.6/dist-packages/ipykernel_launcher.py:4: SettingWithCopyWarning: \n",
            "A value is trying to be set on a copy of a slice from a DataFrame.\n",
            "Try using .loc[row_indexer,col_indexer] = value instead\n",
            "\n",
            "See the caveats in the documentation: http://pandas.pydata.org/pandas-docs/stable/indexing.html#indexing-view-versus-copy\n",
            "  after removing the cwd from sys.path.\n"
          ],
          "name": "stderr"
        }
      ]
    },
    {
      "cell_type": "code",
      "metadata": {
        "id": "tWVf1qvoLT8w",
        "colab_type": "code",
        "colab": {
          "base_uri": "https://localhost:8080/",
          "height": 317
        },
        "outputId": "c42e9349-96dc-4f7a-9036-24d5a860a67a"
      },
      "source": [
        "np.round(x_train.describe(),5)"
      ],
      "execution_count": 97,
      "outputs": [
        {
          "output_type": "execute_result",
          "data": {
            "text/html": [
              "<div>\n",
              "<style scoped>\n",
              "    .dataframe tbody tr th:only-of-type {\n",
              "        vertical-align: middle;\n",
              "    }\n",
              "\n",
              "    .dataframe tbody tr th {\n",
              "        vertical-align: top;\n",
              "    }\n",
              "\n",
              "    .dataframe thead th {\n",
              "        text-align: right;\n",
              "    }\n",
              "</style>\n",
              "<table border=\"1\" class=\"dataframe\">\n",
              "  <thead>\n",
              "    <tr style=\"text-align: right;\">\n",
              "      <th></th>\n",
              "      <th>latitude</th>\n",
              "      <th>longitude</th>\n",
              "      <th>review_count</th>\n",
              "      <th>stars_bus</th>\n",
              "      <th>user_stars_mean</th>\n",
              "      <th>user_review_num</th>\n",
              "      <th>svd</th>\n",
              "      <th>svd_pp</th>\n",
              "      <th>nmf</th>\n",
              "      <th>so</th>\n",
              "      <th>ccl</th>\n",
              "      <th>np</th>\n",
              "    </tr>\n",
              "  </thead>\n",
              "  <tbody>\n",
              "    <tr>\n",
              "      <th>count</th>\n",
              "      <td>96129.00000</td>\n",
              "      <td>96129.00000</td>\n",
              "      <td>96129.00000</td>\n",
              "      <td>96129.00000</td>\n",
              "      <td>96129.00000</td>\n",
              "      <td>96129.00000</td>\n",
              "      <td>96129.00000</td>\n",
              "      <td>96129.00000</td>\n",
              "      <td>96129.00000</td>\n",
              "      <td>96129.00000</td>\n",
              "      <td>96129.00000</td>\n",
              "      <td>96129.00000</td>\n",
              "    </tr>\n",
              "    <tr>\n",
              "      <th>mean</th>\n",
              "      <td>-0.00000</td>\n",
              "      <td>0.00000</td>\n",
              "      <td>0.00000</td>\n",
              "      <td>0.00000</td>\n",
              "      <td>-0.00000</td>\n",
              "      <td>0.00000</td>\n",
              "      <td>-0.00000</td>\n",
              "      <td>-0.00000</td>\n",
              "      <td>-0.00000</td>\n",
              "      <td>-0.00000</td>\n",
              "      <td>-0.00000</td>\n",
              "      <td>-0.00000</td>\n",
              "    </tr>\n",
              "    <tr>\n",
              "      <th>std</th>\n",
              "      <td>1.00000</td>\n",
              "      <td>1.00000</td>\n",
              "      <td>1.00000</td>\n",
              "      <td>1.00000</td>\n",
              "      <td>1.00000</td>\n",
              "      <td>1.00000</td>\n",
              "      <td>1.00000</td>\n",
              "      <td>1.00000</td>\n",
              "      <td>1.00000</td>\n",
              "      <td>1.00000</td>\n",
              "      <td>1.00000</td>\n",
              "      <td>1.00000</td>\n",
              "    </tr>\n",
              "    <tr>\n",
              "      <th>min</th>\n",
              "      <td>-1.89603</td>\n",
              "      <td>-6.28995</td>\n",
              "      <td>-1.03720</td>\n",
              "      <td>-6.14230</td>\n",
              "      <td>-3.90855</td>\n",
              "      <td>-0.51367</td>\n",
              "      <td>-6.45838</td>\n",
              "      <td>-6.85615</td>\n",
              "      <td>-5.47232</td>\n",
              "      <td>-5.46920</td>\n",
              "      <td>-5.63850</td>\n",
              "      <td>-5.63850</td>\n",
              "    </tr>\n",
              "    <tr>\n",
              "      <th>25%</th>\n",
              "      <td>-0.58588</td>\n",
              "      <td>-0.41063</td>\n",
              "      <td>-0.71699</td>\n",
              "      <td>-0.58592</td>\n",
              "      <td>-0.34253</td>\n",
              "      <td>-0.48119</td>\n",
              "      <td>-0.47393</td>\n",
              "      <td>-0.51255</td>\n",
              "      <td>0.10683</td>\n",
              "      <td>0.01197</td>\n",
              "      <td>-0.02222</td>\n",
              "      <td>-0.02222</td>\n",
              "    </tr>\n",
              "    <tr>\n",
              "      <th>50%</th>\n",
              "      <td>-0.39934</td>\n",
              "      <td>-0.03109</td>\n",
              "      <td>-0.30945</td>\n",
              "      <td>0.11477</td>\n",
              "      <td>-0.09659</td>\n",
              "      <td>-0.36751</td>\n",
              "      <td>-0.00288</td>\n",
              "      <td>-0.00860</td>\n",
              "      <td>0.10683</td>\n",
              "      <td>0.01197</td>\n",
              "      <td>-0.02222</td>\n",
              "      <td>-0.02222</td>\n",
              "    </tr>\n",
              "    <tr>\n",
              "      <th>75%</th>\n",
              "      <td>0.04052</td>\n",
              "      <td>0.23835</td>\n",
              "      <td>0.42995</td>\n",
              "      <td>0.67828</td>\n",
              "      <td>0.51824</td>\n",
              "      <td>0.05474</td>\n",
              "      <td>0.46439</td>\n",
              "      <td>0.52864</td>\n",
              "      <td>0.10683</td>\n",
              "      <td>0.01197</td>\n",
              "      <td>-0.02222</td>\n",
              "      <td>-0.02222</td>\n",
              "    </tr>\n",
              "    <tr>\n",
              "      <th>max</th>\n",
              "      <td>4.64891</td>\n",
              "      <td>5.10008</td>\n",
              "      <td>5.65227</td>\n",
              "      <td>2.66627</td>\n",
              "      <td>1.99383</td>\n",
              "      <td>11.11446</td>\n",
              "      <td>3.79480</td>\n",
              "      <td>3.53100</td>\n",
              "      <td>2.96390</td>\n",
              "      <td>2.81887</td>\n",
              "      <td>2.85387</td>\n",
              "      <td>2.85387</td>\n",
              "    </tr>\n",
              "  </tbody>\n",
              "</table>\n",
              "</div>"
            ],
            "text/plain": [
              "          latitude    longitude  ...          ccl           np\n",
              "count  96129.00000  96129.00000  ...  96129.00000  96129.00000\n",
              "mean      -0.00000      0.00000  ...     -0.00000     -0.00000\n",
              "std        1.00000      1.00000  ...      1.00000      1.00000\n",
              "min       -1.89603     -6.28995  ...     -5.63850     -5.63850\n",
              "25%       -0.58588     -0.41063  ...     -0.02222     -0.02222\n",
              "50%       -0.39934     -0.03109  ...     -0.02222     -0.02222\n",
              "75%        0.04052      0.23835  ...     -0.02222     -0.02222\n",
              "max        4.64891      5.10008  ...      2.85387      2.85387\n",
              "\n",
              "[8 rows x 12 columns]"
            ]
          },
          "metadata": {
            "tags": []
          },
          "execution_count": 97
        }
      ]
    },
    {
      "cell_type": "code",
      "metadata": {
        "id": "S6AaOms7LWTc",
        "colab_type": "code",
        "colab": {
          "base_uri": "https://localhost:8080/",
          "height": 317
        },
        "outputId": "9e9b89a1-48ef-4384-adbb-c1300aadbf3b"
      },
      "source": [
        "np.round(x_val.describe(),5)"
      ],
      "execution_count": 98,
      "outputs": [
        {
          "output_type": "execute_result",
          "data": {
            "text/html": [
              "<div>\n",
              "<style scoped>\n",
              "    .dataframe tbody tr th:only-of-type {\n",
              "        vertical-align: middle;\n",
              "    }\n",
              "\n",
              "    .dataframe tbody tr th {\n",
              "        vertical-align: top;\n",
              "    }\n",
              "\n",
              "    .dataframe thead th {\n",
              "        text-align: right;\n",
              "    }\n",
              "</style>\n",
              "<table border=\"1\" class=\"dataframe\">\n",
              "  <thead>\n",
              "    <tr style=\"text-align: right;\">\n",
              "      <th></th>\n",
              "      <th>latitude</th>\n",
              "      <th>longitude</th>\n",
              "      <th>review_count</th>\n",
              "      <th>stars_bus</th>\n",
              "      <th>user_stars_mean</th>\n",
              "      <th>user_review_num</th>\n",
              "      <th>svd</th>\n",
              "      <th>svd_pp</th>\n",
              "      <th>nmf</th>\n",
              "      <th>so</th>\n",
              "      <th>ccl</th>\n",
              "      <th>np</th>\n",
              "    </tr>\n",
              "  </thead>\n",
              "  <tbody>\n",
              "    <tr>\n",
              "      <th>count</th>\n",
              "      <td>10682.00000</td>\n",
              "      <td>10682.00000</td>\n",
              "      <td>10682.00000</td>\n",
              "      <td>10682.00000</td>\n",
              "      <td>10682.00000</td>\n",
              "      <td>10682.00000</td>\n",
              "      <td>10682.00000</td>\n",
              "      <td>10682.00000</td>\n",
              "      <td>10682.00000</td>\n",
              "      <td>10682.00000</td>\n",
              "      <td>10682.00000</td>\n",
              "      <td>10682.00000</td>\n",
              "    </tr>\n",
              "    <tr>\n",
              "      <th>mean</th>\n",
              "      <td>-0.05794</td>\n",
              "      <td>-0.05433</td>\n",
              "      <td>0.10647</td>\n",
              "      <td>0.07524</td>\n",
              "      <td>-0.00260</td>\n",
              "      <td>0.00805</td>\n",
              "      <td>0.11814</td>\n",
              "      <td>0.09854</td>\n",
              "      <td>-0.09121</td>\n",
              "      <td>0.02229</td>\n",
              "      <td>0.02715</td>\n",
              "      <td>0.02715</td>\n",
              "    </tr>\n",
              "    <tr>\n",
              "      <th>std</th>\n",
              "      <td>0.92929</td>\n",
              "      <td>0.86150</td>\n",
              "      <td>1.09571</td>\n",
              "      <td>0.97240</td>\n",
              "      <td>0.98688</td>\n",
              "      <td>1.02705</td>\n",
              "      <td>0.88986</td>\n",
              "      <td>0.87698</td>\n",
              "      <td>1.16217</td>\n",
              "      <td>1.17467</td>\n",
              "      <td>1.18532</td>\n",
              "      <td>1.18532</td>\n",
              "    </tr>\n",
              "    <tr>\n",
              "      <th>min</th>\n",
              "      <td>-1.74934</td>\n",
              "      <td>-4.31423</td>\n",
              "      <td>-1.03720</td>\n",
              "      <td>-5.41164</td>\n",
              "      <td>-3.90855</td>\n",
              "      <td>-0.51367</td>\n",
              "      <td>-6.30894</td>\n",
              "      <td>-6.13689</td>\n",
              "      <td>-5.47232</td>\n",
              "      <td>-5.46920</td>\n",
              "      <td>-5.63850</td>\n",
              "      <td>-5.63850</td>\n",
              "    </tr>\n",
              "    <tr>\n",
              "      <th>25%</th>\n",
              "      <td>-0.59010</td>\n",
              "      <td>-0.37859</td>\n",
              "      <td>-0.65877</td>\n",
              "      <td>-0.52897</td>\n",
              "      <td>-0.33783</td>\n",
              "      <td>-0.48119</td>\n",
              "      <td>-0.10847</td>\n",
              "      <td>-0.13825</td>\n",
              "      <td>0.10683</td>\n",
              "      <td>0.01197</td>\n",
              "      <td>-0.02222</td>\n",
              "      <td>-0.02222</td>\n",
              "    </tr>\n",
              "    <tr>\n",
              "      <th>50%</th>\n",
              "      <td>-0.43050</td>\n",
              "      <td>-0.07622</td>\n",
              "      <td>-0.26287</td>\n",
              "      <td>0.20718</td>\n",
              "      <td>-0.08293</td>\n",
              "      <td>-0.36751</td>\n",
              "      <td>-0.00288</td>\n",
              "      <td>-0.00860</td>\n",
              "      <td>0.10683</td>\n",
              "      <td>0.01197</td>\n",
              "      <td>-0.02222</td>\n",
              "      <td>-0.02222</td>\n",
              "    </tr>\n",
              "    <tr>\n",
              "      <th>75%</th>\n",
              "      <td>-0.07041</td>\n",
              "      <td>0.18988</td>\n",
              "      <td>0.47070</td>\n",
              "      <td>0.75016</td>\n",
              "      <td>0.51824</td>\n",
              "      <td>0.07098</td>\n",
              "      <td>0.42459</td>\n",
              "      <td>0.49619</td>\n",
              "      <td>0.10683</td>\n",
              "      <td>0.01197</td>\n",
              "      <td>-0.02222</td>\n",
              "      <td>-0.02222</td>\n",
              "    </tr>\n",
              "    <tr>\n",
              "      <th>max</th>\n",
              "      <td>3.72852</td>\n",
              "      <td>5.08873</td>\n",
              "      <td>3.81252</td>\n",
              "      <td>2.62568</td>\n",
              "      <td>1.99383</td>\n",
              "      <td>11.11446</td>\n",
              "      <td>3.79480</td>\n",
              "      <td>3.53100</td>\n",
              "      <td>2.96390</td>\n",
              "      <td>2.81887</td>\n",
              "      <td>2.85387</td>\n",
              "      <td>2.85387</td>\n",
              "    </tr>\n",
              "  </tbody>\n",
              "</table>\n",
              "</div>"
            ],
            "text/plain": [
              "          latitude    longitude  ...          ccl           np\n",
              "count  10682.00000  10682.00000  ...  10682.00000  10682.00000\n",
              "mean      -0.05794     -0.05433  ...      0.02715      0.02715\n",
              "std        0.92929      0.86150  ...      1.18532      1.18532\n",
              "min       -1.74934     -4.31423  ...     -5.63850     -5.63850\n",
              "25%       -0.59010     -0.37859  ...     -0.02222     -0.02222\n",
              "50%       -0.43050     -0.07622  ...     -0.02222     -0.02222\n",
              "75%       -0.07041      0.18988  ...     -0.02222     -0.02222\n",
              "max        3.72852      5.08873  ...      2.85387      2.85387\n",
              "\n",
              "[8 rows x 12 columns]"
            ]
          },
          "metadata": {
            "tags": []
          },
          "execution_count": 98
        }
      ]
    },
    {
      "cell_type": "code",
      "metadata": {
        "id": "rrZ0bnD37SUE",
        "colab_type": "code",
        "colab": {
          "base_uri": "https://localhost:8080/",
          "height": 204
        },
        "outputId": "16dbbb57-018b-44c2-b457-3a22fa284857"
      },
      "source": [
        "y_train.head()"
      ],
      "execution_count": 99,
      "outputs": [
        {
          "output_type": "execute_result",
          "data": {
            "text/html": [
              "<div>\n",
              "<style scoped>\n",
              "    .dataframe tbody tr th:only-of-type {\n",
              "        vertical-align: middle;\n",
              "    }\n",
              "\n",
              "    .dataframe tbody tr th {\n",
              "        vertical-align: top;\n",
              "    }\n",
              "\n",
              "    .dataframe thead th {\n",
              "        text-align: right;\n",
              "    }\n",
              "</style>\n",
              "<table border=\"1\" class=\"dataframe\">\n",
              "  <thead>\n",
              "    <tr style=\"text-align: right;\">\n",
              "      <th></th>\n",
              "      <th>stars_revs</th>\n",
              "    </tr>\n",
              "  </thead>\n",
              "  <tbody>\n",
              "    <tr>\n",
              "      <th>0</th>\n",
              "      <td>5.0</td>\n",
              "    </tr>\n",
              "    <tr>\n",
              "      <th>1</th>\n",
              "      <td>1.0</td>\n",
              "    </tr>\n",
              "    <tr>\n",
              "      <th>2</th>\n",
              "      <td>1.0</td>\n",
              "    </tr>\n",
              "    <tr>\n",
              "      <th>3</th>\n",
              "      <td>4.0</td>\n",
              "    </tr>\n",
              "    <tr>\n",
              "      <th>4</th>\n",
              "      <td>5.0</td>\n",
              "    </tr>\n",
              "  </tbody>\n",
              "</table>\n",
              "</div>"
            ],
            "text/plain": [
              "   stars_revs\n",
              "0         5.0\n",
              "1         1.0\n",
              "2         1.0\n",
              "3         4.0\n",
              "4         5.0"
            ]
          },
          "metadata": {
            "tags": []
          },
          "execution_count": 99
        }
      ]
    },
    {
      "cell_type": "code",
      "metadata": {
        "id": "gd24uS0n7XDS",
        "colab_type": "code",
        "colab": {}
      },
      "source": [
        "act='linear'\n",
        "act2= 'linear'\n",
        "reg_rate=0\n",
        "init_bias= keras.initializers.Constant(value=1)\n",
        "dropout_rate=0\n",
        "\n",
        "model = Sequential()\n",
        "model.add(Dense(12, input_dim=12, kernel_initializer='random_uniform', bias_initializer=init_bias, activation=act))\n",
        "\n",
        "model.add(Dense(12, activation=act,  bias_initializer=init_bias,activity_regularizer=keras.regularizers.l2(reg_rate)))\n",
        "\n",
        "model.add(Dense(10, activation=act,  bias_initializer=init_bias,activity_regularizer=keras.regularizers.l2(reg_rate)))\n",
        "\n",
        "model.add(Dropout(dropout_rate))\n",
        "#keras.layers.BatchNormalization(axis=-1, momentum=0.99, epsilon=0.001, center=True, scale=True, beta_initializer='zeros', gamma_initializer='ones', moving_mean_initializer='zeros', moving_variance_initializer='ones', beta_regularizer=None, gamma_regularizer=None, beta_constraint=None, gamma_constraint=None)\n",
        "\n",
        "\n",
        "model.add(Dense(8, activation=act,  bias_initializer=init_bias,activity_regularizer=keras.regularizers.l2(reg_rate)))\n",
        "model.add(Dense(6, activation=act2,  bias_initializer=init_bias,activity_regularizer=keras.regularizers.l2(reg_rate)))\n",
        "\n",
        "model.add(Dense(4, activation=act2,  bias_initializer=init_bias,activity_regularizer=keras.regularizers.l2(reg_rate)))\n",
        "\n",
        "model.add(Dropout(dropout_rate))\n",
        "#keras.layers.BatchNormalization(axis=-1, momentum=0.99, epsilon=0.001, center=True, scale=True, beta_initializer='zeros', gamma_initializer='ones', moving_mean_initializer='zeros', moving_variance_initializer='ones', beta_regularizer=None, gamma_regularizer=None, beta_constraint=None, gamma_constraint=None)\n",
        "\n",
        "\n",
        "\n",
        "\n",
        "model.add(Dense(3, activation=act2,  bias_initializer=init_bias,activity_regularizer=keras.regularizers.l2(reg_rate)))\n",
        "\n",
        "\n",
        "\n",
        "model.add(Dense(1, activation=act2,  bias_initializer=init_bias,activity_regularizer=keras.regularizers.l2(reg_rate)))\n",
        "model.add(Dense(3, activation=act2,  bias_initializer=init_bias,activity_regularizer=keras.regularizers.l2(reg_rate)))\n",
        "model.add(Dense(1, activation=act2,  bias_initializer=init_bias,activity_regularizer=keras.regularizers.l2(reg_rate)))\n",
        "\n",
        "model.compile(loss='mean_squared_error', optimizer='adam')"
      ],
      "execution_count": 0,
      "outputs": []
    },
    {
      "cell_type": "code",
      "metadata": {
        "id": "grJqaN7F7mER",
        "colab_type": "code",
        "colab": {
          "base_uri": "https://localhost:8080/",
          "height": 1548
        },
        "outputId": "400c09e3-e2b7-409b-8579-a047c2c2fe53"
      },
      "source": [
        "model.fit(x_train, y_train,\n",
        "            batch_size=500,\n",
        "            epochs=50,\n",
        "            verbose=1,\n",
        "            validation_data=(x_val, y_val))"
      ],
      "execution_count": 106,
      "outputs": [
        {
          "output_type": "stream",
          "text": [
            "Train on 96129 samples, validate on 10682 samples\n",
            "Epoch 1/500\n",
            "96129/96129 [==============================] - 2s 25us/step - loss: 2.4907 - val_loss: 1.3056\n",
            "Epoch 2/500\n",
            "96129/96129 [==============================] - 1s 5us/step - loss: 1.3311 - val_loss: 1.3011\n",
            "Epoch 3/500\n",
            "96129/96129 [==============================] - 1s 5us/step - loss: 1.3297 - val_loss: 1.3016\n",
            "Epoch 4/500\n",
            "96129/96129 [==============================] - 1s 6us/step - loss: 1.3307 - val_loss: 1.3064\n",
            "Epoch 5/500\n",
            "96129/96129 [==============================] - 1s 5us/step - loss: 1.3312 - val_loss: 1.3016\n",
            "Epoch 6/500\n",
            "96129/96129 [==============================] - 1s 5us/step - loss: 1.3298 - val_loss: 1.3042\n",
            "Epoch 7/500\n",
            "96129/96129 [==============================] - 1s 6us/step - loss: 1.3298 - val_loss: 1.3011\n",
            "Epoch 8/500\n",
            "96129/96129 [==============================] - 1s 6us/step - loss: 1.3308 - val_loss: 1.3024\n",
            "Epoch 9/500\n",
            "96129/96129 [==============================] - 1s 6us/step - loss: 1.3307 - val_loss: 1.3006\n",
            "Epoch 10/500\n",
            "96129/96129 [==============================] - 1s 5us/step - loss: 1.3299 - val_loss: 1.3017\n",
            "Epoch 11/500\n",
            "96129/96129 [==============================] - 1s 6us/step - loss: 1.3298 - val_loss: 1.3016\n",
            "Epoch 12/500\n",
            "96129/96129 [==============================] - 1s 6us/step - loss: 1.3303 - val_loss: 1.3151\n",
            "Epoch 13/500\n",
            "96129/96129 [==============================] - 1s 5us/step - loss: 1.3313 - val_loss: 1.3136\n",
            "Epoch 14/500\n",
            "96129/96129 [==============================] - 1s 6us/step - loss: 1.3313 - val_loss: 1.3021\n",
            "Epoch 15/500\n",
            "96129/96129 [==============================] - 1s 6us/step - loss: 1.3308 - val_loss: 1.3078\n",
            "Epoch 16/500\n",
            "96129/96129 [==============================] - 1s 6us/step - loss: 1.3310 - val_loss: 1.3013\n",
            "Epoch 17/500\n",
            "96129/96129 [==============================] - 1s 5us/step - loss: 1.3318 - val_loss: 1.3028\n",
            "Epoch 18/500\n",
            "96129/96129 [==============================] - 1s 5us/step - loss: 1.3304 - val_loss: 1.3064\n",
            "Epoch 19/500\n",
            "96129/96129 [==============================] - 1s 6us/step - loss: 1.3319 - val_loss: 1.3007\n",
            "Epoch 20/500\n",
            "96129/96129 [==============================] - 1s 6us/step - loss: 1.3311 - val_loss: 1.3027\n",
            "Epoch 21/500\n",
            "96129/96129 [==============================] - 1s 5us/step - loss: 1.3313 - val_loss: 1.3059\n",
            "Epoch 22/500\n",
            "96129/96129 [==============================] - 1s 5us/step - loss: 1.3322 - val_loss: 1.3023\n",
            "Epoch 23/500\n",
            "96129/96129 [==============================] - 1s 5us/step - loss: 1.3314 - val_loss: 1.3046\n",
            "Epoch 24/500\n",
            "96129/96129 [==============================] - 1s 6us/step - loss: 1.3326 - val_loss: 1.3021\n",
            "Epoch 25/500\n",
            "96129/96129 [==============================] - 1s 5us/step - loss: 1.3302 - val_loss: 1.3116\n",
            "Epoch 26/500\n",
            "96129/96129 [==============================] - 1s 5us/step - loss: 1.3318 - val_loss: 1.3014\n",
            "Epoch 27/500\n",
            "96129/96129 [==============================] - 1s 6us/step - loss: 1.3322 - val_loss: 1.3024\n",
            "Epoch 28/500\n",
            "96129/96129 [==============================] - 1s 5us/step - loss: 1.3312 - val_loss: 1.3014\n",
            "Epoch 29/500\n",
            "96129/96129 [==============================] - 1s 6us/step - loss: 1.3311 - val_loss: 1.3004\n",
            "Epoch 30/500\n",
            "96129/96129 [==============================] - 1s 6us/step - loss: 1.3313 - val_loss: 1.3034\n",
            "Epoch 31/500\n",
            "96129/96129 [==============================] - 1s 5us/step - loss: 1.3321 - val_loss: 1.3004\n",
            "Epoch 32/500\n",
            "96129/96129 [==============================] - 1s 5us/step - loss: 1.3315 - val_loss: 1.3017\n",
            "Epoch 33/500\n",
            "96129/96129 [==============================] - 1s 5us/step - loss: 1.3304 - val_loss: 1.3016\n",
            "Epoch 34/500\n",
            "96129/96129 [==============================] - 1s 5us/step - loss: 1.3306 - val_loss: 1.3015\n",
            "Epoch 35/500\n",
            "74000/96129 [======================>.......] - ETA: 0s - loss: 1.3343"
          ],
          "name": "stdout"
        },
        {
          "output_type": "error",
          "ename": "KeyboardInterrupt",
          "evalue": "ignored",
          "traceback": [
            "\u001b[0;31m---------------------------------------------------------------------------\u001b[0m",
            "\u001b[0;31mKeyboardInterrupt\u001b[0m                         Traceback (most recent call last)",
            "\u001b[0;32m<ipython-input-106-6b95483867dc>\u001b[0m in \u001b[0;36m<module>\u001b[0;34m()\u001b[0m\n\u001b[1;32m      3\u001b[0m             \u001b[0mepochs\u001b[0m\u001b[0;34m=\u001b[0m\u001b[0;36m500\u001b[0m\u001b[0;34m,\u001b[0m\u001b[0;34m\u001b[0m\u001b[0;34m\u001b[0m\u001b[0m\n\u001b[1;32m      4\u001b[0m             \u001b[0mverbose\u001b[0m\u001b[0;34m=\u001b[0m\u001b[0;36m1\u001b[0m\u001b[0;34m,\u001b[0m\u001b[0;34m\u001b[0m\u001b[0;34m\u001b[0m\u001b[0m\n\u001b[0;32m----> 5\u001b[0;31m             validation_data=(x_val, y_val))\n\u001b[0m",
            "\u001b[0;32m/usr/local/lib/python3.6/dist-packages/keras/engine/training.py\u001b[0m in \u001b[0;36mfit\u001b[0;34m(self, x, y, batch_size, epochs, verbose, callbacks, validation_split, validation_data, shuffle, class_weight, sample_weight, initial_epoch, steps_per_epoch, validation_steps, **kwargs)\u001b[0m\n\u001b[1;32m   1037\u001b[0m                                         \u001b[0minitial_epoch\u001b[0m\u001b[0;34m=\u001b[0m\u001b[0minitial_epoch\u001b[0m\u001b[0;34m,\u001b[0m\u001b[0;34m\u001b[0m\u001b[0;34m\u001b[0m\u001b[0m\n\u001b[1;32m   1038\u001b[0m                                         \u001b[0msteps_per_epoch\u001b[0m\u001b[0;34m=\u001b[0m\u001b[0msteps_per_epoch\u001b[0m\u001b[0;34m,\u001b[0m\u001b[0;34m\u001b[0m\u001b[0;34m\u001b[0m\u001b[0m\n\u001b[0;32m-> 1039\u001b[0;31m                                         validation_steps=validation_steps)\n\u001b[0m\u001b[1;32m   1040\u001b[0m \u001b[0;34m\u001b[0m\u001b[0m\n\u001b[1;32m   1041\u001b[0m     def evaluate(self, x=None, y=None,\n",
            "\u001b[0;32m/usr/local/lib/python3.6/dist-packages/keras/engine/training_arrays.py\u001b[0m in \u001b[0;36mfit_loop\u001b[0;34m(model, f, ins, out_labels, batch_size, epochs, verbose, callbacks, val_f, val_ins, shuffle, callback_metrics, initial_epoch, steps_per_epoch, validation_steps)\u001b[0m\n\u001b[1;32m    197\u001b[0m                     \u001b[0mins_batch\u001b[0m\u001b[0;34m[\u001b[0m\u001b[0mi\u001b[0m\u001b[0;34m]\u001b[0m \u001b[0;34m=\u001b[0m \u001b[0mins_batch\u001b[0m\u001b[0;34m[\u001b[0m\u001b[0mi\u001b[0m\u001b[0;34m]\u001b[0m\u001b[0;34m.\u001b[0m\u001b[0mtoarray\u001b[0m\u001b[0;34m(\u001b[0m\u001b[0;34m)\u001b[0m\u001b[0;34m\u001b[0m\u001b[0;34m\u001b[0m\u001b[0m\n\u001b[1;32m    198\u001b[0m \u001b[0;34m\u001b[0m\u001b[0m\n\u001b[0;32m--> 199\u001b[0;31m                 \u001b[0mouts\u001b[0m \u001b[0;34m=\u001b[0m \u001b[0mf\u001b[0m\u001b[0;34m(\u001b[0m\u001b[0mins_batch\u001b[0m\u001b[0;34m)\u001b[0m\u001b[0;34m\u001b[0m\u001b[0;34m\u001b[0m\u001b[0m\n\u001b[0m\u001b[1;32m    200\u001b[0m                 \u001b[0mouts\u001b[0m \u001b[0;34m=\u001b[0m \u001b[0mto_list\u001b[0m\u001b[0;34m(\u001b[0m\u001b[0mouts\u001b[0m\u001b[0;34m)\u001b[0m\u001b[0;34m\u001b[0m\u001b[0;34m\u001b[0m\u001b[0m\n\u001b[1;32m    201\u001b[0m                 \u001b[0;32mfor\u001b[0m \u001b[0ml\u001b[0m\u001b[0;34m,\u001b[0m \u001b[0mo\u001b[0m \u001b[0;32min\u001b[0m \u001b[0mzip\u001b[0m\u001b[0;34m(\u001b[0m\u001b[0mout_labels\u001b[0m\u001b[0;34m,\u001b[0m \u001b[0mouts\u001b[0m\u001b[0;34m)\u001b[0m\u001b[0;34m:\u001b[0m\u001b[0;34m\u001b[0m\u001b[0;34m\u001b[0m\u001b[0m\n",
            "\u001b[0;32m/usr/local/lib/python3.6/dist-packages/keras/backend/tensorflow_backend.py\u001b[0m in \u001b[0;36m__call__\u001b[0;34m(self, inputs)\u001b[0m\n\u001b[1;32m   2713\u001b[0m                 \u001b[0;32mreturn\u001b[0m \u001b[0mself\u001b[0m\u001b[0;34m.\u001b[0m\u001b[0m_legacy_call\u001b[0m\u001b[0;34m(\u001b[0m\u001b[0minputs\u001b[0m\u001b[0;34m)\u001b[0m\u001b[0;34m\u001b[0m\u001b[0;34m\u001b[0m\u001b[0m\n\u001b[1;32m   2714\u001b[0m \u001b[0;34m\u001b[0m\u001b[0m\n\u001b[0;32m-> 2715\u001b[0;31m             \u001b[0;32mreturn\u001b[0m \u001b[0mself\u001b[0m\u001b[0;34m.\u001b[0m\u001b[0m_call\u001b[0m\u001b[0;34m(\u001b[0m\u001b[0minputs\u001b[0m\u001b[0;34m)\u001b[0m\u001b[0;34m\u001b[0m\u001b[0;34m\u001b[0m\u001b[0m\n\u001b[0m\u001b[1;32m   2716\u001b[0m         \u001b[0;32melse\u001b[0m\u001b[0;34m:\u001b[0m\u001b[0;34m\u001b[0m\u001b[0;34m\u001b[0m\u001b[0m\n\u001b[1;32m   2717\u001b[0m             \u001b[0;32mif\u001b[0m \u001b[0mpy_any\u001b[0m\u001b[0;34m(\u001b[0m\u001b[0mis_tensor\u001b[0m\u001b[0;34m(\u001b[0m\u001b[0mx\u001b[0m\u001b[0;34m)\u001b[0m \u001b[0;32mfor\u001b[0m \u001b[0mx\u001b[0m \u001b[0;32min\u001b[0m \u001b[0minputs\u001b[0m\u001b[0;34m)\u001b[0m\u001b[0;34m:\u001b[0m\u001b[0;34m\u001b[0m\u001b[0;34m\u001b[0m\u001b[0m\n",
            "\u001b[0;32m/usr/local/lib/python3.6/dist-packages/keras/backend/tensorflow_backend.py\u001b[0m in \u001b[0;36m_call\u001b[0;34m(self, inputs)\u001b[0m\n\u001b[1;32m   2673\u001b[0m             \u001b[0mfetched\u001b[0m \u001b[0;34m=\u001b[0m \u001b[0mself\u001b[0m\u001b[0;34m.\u001b[0m\u001b[0m_callable_fn\u001b[0m\u001b[0;34m(\u001b[0m\u001b[0;34m*\u001b[0m\u001b[0marray_vals\u001b[0m\u001b[0;34m,\u001b[0m \u001b[0mrun_metadata\u001b[0m\u001b[0;34m=\u001b[0m\u001b[0mself\u001b[0m\u001b[0;34m.\u001b[0m\u001b[0mrun_metadata\u001b[0m\u001b[0;34m)\u001b[0m\u001b[0;34m\u001b[0m\u001b[0;34m\u001b[0m\u001b[0m\n\u001b[1;32m   2674\u001b[0m         \u001b[0;32melse\u001b[0m\u001b[0;34m:\u001b[0m\u001b[0;34m\u001b[0m\u001b[0;34m\u001b[0m\u001b[0m\n\u001b[0;32m-> 2675\u001b[0;31m             \u001b[0mfetched\u001b[0m \u001b[0;34m=\u001b[0m \u001b[0mself\u001b[0m\u001b[0;34m.\u001b[0m\u001b[0m_callable_fn\u001b[0m\u001b[0;34m(\u001b[0m\u001b[0;34m*\u001b[0m\u001b[0marray_vals\u001b[0m\u001b[0;34m)\u001b[0m\u001b[0;34m\u001b[0m\u001b[0;34m\u001b[0m\u001b[0m\n\u001b[0m\u001b[1;32m   2676\u001b[0m         \u001b[0;32mreturn\u001b[0m \u001b[0mfetched\u001b[0m\u001b[0;34m[\u001b[0m\u001b[0;34m:\u001b[0m\u001b[0mlen\u001b[0m\u001b[0;34m(\u001b[0m\u001b[0mself\u001b[0m\u001b[0;34m.\u001b[0m\u001b[0moutputs\u001b[0m\u001b[0;34m)\u001b[0m\u001b[0;34m]\u001b[0m\u001b[0;34m\u001b[0m\u001b[0;34m\u001b[0m\u001b[0m\n\u001b[1;32m   2677\u001b[0m \u001b[0;34m\u001b[0m\u001b[0m\n",
            "\u001b[0;32m/usr/local/lib/python3.6/dist-packages/tensorflow/python/client/session.py\u001b[0m in \u001b[0;36m__call__\u001b[0;34m(self, *args, **kwargs)\u001b[0m\n\u001b[1;32m   1456\u001b[0m         ret = tf_session.TF_SessionRunCallable(self._session._session,\n\u001b[1;32m   1457\u001b[0m                                                \u001b[0mself\u001b[0m\u001b[0;34m.\u001b[0m\u001b[0m_handle\u001b[0m\u001b[0;34m,\u001b[0m \u001b[0margs\u001b[0m\u001b[0;34m,\u001b[0m\u001b[0;34m\u001b[0m\u001b[0;34m\u001b[0m\u001b[0m\n\u001b[0;32m-> 1458\u001b[0;31m                                                run_metadata_ptr)\n\u001b[0m\u001b[1;32m   1459\u001b[0m         \u001b[0;32mif\u001b[0m \u001b[0mrun_metadata\u001b[0m\u001b[0;34m:\u001b[0m\u001b[0;34m\u001b[0m\u001b[0;34m\u001b[0m\u001b[0m\n\u001b[1;32m   1460\u001b[0m           \u001b[0mproto_data\u001b[0m \u001b[0;34m=\u001b[0m \u001b[0mtf_session\u001b[0m\u001b[0;34m.\u001b[0m\u001b[0mTF_GetBuffer\u001b[0m\u001b[0;34m(\u001b[0m\u001b[0mrun_metadata_ptr\u001b[0m\u001b[0;34m)\u001b[0m\u001b[0;34m\u001b[0m\u001b[0;34m\u001b[0m\u001b[0m\n",
            "\u001b[0;31mKeyboardInterrupt\u001b[0m: "
          ]
        }
      ]
    },
    {
      "cell_type": "code",
      "metadata": {
        "id": "ccp6o0wZMxGK",
        "colab_type": "code",
        "colab": {}
      },
      "source": [
        "y_v= model.predict(x_val)"
      ],
      "execution_count": 0,
      "outputs": []
    },
    {
      "cell_type": "code",
      "metadata": {
        "id": "k639ymLSMz8g",
        "colab_type": "code",
        "colab": {}
      },
      "source": [
        "y_val['pred']=y_v"
      ],
      "execution_count": 0,
      "outputs": []
    },
    {
      "cell_type": "code",
      "metadata": {
        "id": "ftMjyZsfM3gt",
        "colab_type": "code",
        "colab": {
          "base_uri": "https://localhost:8080/",
          "height": 204
        },
        "outputId": "6e5f74da-8e55-4946-c411-0ed9e1369b7c"
      },
      "source": [
        "y_val.head()"
      ],
      "execution_count": 110,
      "outputs": [
        {
          "output_type": "execute_result",
          "data": {
            "text/html": [
              "<div>\n",
              "<style scoped>\n",
              "    .dataframe tbody tr th:only-of-type {\n",
              "        vertical-align: middle;\n",
              "    }\n",
              "\n",
              "    .dataframe tbody tr th {\n",
              "        vertical-align: top;\n",
              "    }\n",
              "\n",
              "    .dataframe thead th {\n",
              "        text-align: right;\n",
              "    }\n",
              "</style>\n",
              "<table border=\"1\" class=\"dataframe\">\n",
              "  <thead>\n",
              "    <tr style=\"text-align: right;\">\n",
              "      <th></th>\n",
              "      <th>stars_revs</th>\n",
              "      <th>pred</th>\n",
              "    </tr>\n",
              "  </thead>\n",
              "  <tbody>\n",
              "    <tr>\n",
              "      <th>96129</th>\n",
              "      <td>4.0</td>\n",
              "      <td>4.120045</td>\n",
              "    </tr>\n",
              "    <tr>\n",
              "      <th>96130</th>\n",
              "      <td>4.0</td>\n",
              "      <td>4.048193</td>\n",
              "    </tr>\n",
              "    <tr>\n",
              "      <th>96131</th>\n",
              "      <td>1.0</td>\n",
              "      <td>2.928698</td>\n",
              "    </tr>\n",
              "    <tr>\n",
              "      <th>96132</th>\n",
              "      <td>1.0</td>\n",
              "      <td>3.452840</td>\n",
              "    </tr>\n",
              "    <tr>\n",
              "      <th>96133</th>\n",
              "      <td>4.0</td>\n",
              "      <td>4.238001</td>\n",
              "    </tr>\n",
              "  </tbody>\n",
              "</table>\n",
              "</div>"
            ],
            "text/plain": [
              "       stars_revs      pred\n",
              "96129         4.0  4.120045\n",
              "96130         4.0  4.048193\n",
              "96131         1.0  2.928698\n",
              "96132         1.0  3.452840\n",
              "96133         4.0  4.238001"
            ]
          },
          "metadata": {
            "tags": []
          },
          "execution_count": 110
        }
      ]
    },
    {
      "cell_type": "code",
      "metadata": {
        "id": "xindv6GhM4j2",
        "colab_type": "code",
        "colab": {}
      },
      "source": [
        "y_val['pred_bucket']=pd.cut(y_val['pred'], [0,1,1.5,2,2.5,3,3.5,4,4.5,5,6])"
      ],
      "execution_count": 0,
      "outputs": []
    },
    {
      "cell_type": "code",
      "metadata": {
        "id": "Jk0l0iawNAgs",
        "colab_type": "code",
        "colab": {
          "base_uri": "https://localhost:8080/",
          "height": 390
        },
        "outputId": "08fcc0ef-a61f-4d8a-832f-9037cf02e5b4"
      },
      "source": [
        "y_val.groupby('pred_bucket').mean()"
      ],
      "execution_count": 112,
      "outputs": [
        {
          "output_type": "execute_result",
          "data": {
            "text/html": [
              "<div>\n",
              "<style scoped>\n",
              "    .dataframe tbody tr th:only-of-type {\n",
              "        vertical-align: middle;\n",
              "    }\n",
              "\n",
              "    .dataframe tbody tr th {\n",
              "        vertical-align: top;\n",
              "    }\n",
              "\n",
              "    .dataframe thead th {\n",
              "        text-align: right;\n",
              "    }\n",
              "</style>\n",
              "<table border=\"1\" class=\"dataframe\">\n",
              "  <thead>\n",
              "    <tr style=\"text-align: right;\">\n",
              "      <th></th>\n",
              "      <th>stars_revs</th>\n",
              "      <th>pred</th>\n",
              "    </tr>\n",
              "    <tr>\n",
              "      <th>pred_bucket</th>\n",
              "      <th></th>\n",
              "      <th></th>\n",
              "    </tr>\n",
              "  </thead>\n",
              "  <tbody>\n",
              "    <tr>\n",
              "      <th>(0.0, 1.0]</th>\n",
              "      <td>1.000000</td>\n",
              "      <td>0.954713</td>\n",
              "    </tr>\n",
              "    <tr>\n",
              "      <th>(1.0, 1.5]</th>\n",
              "      <td>1.666667</td>\n",
              "      <td>1.343751</td>\n",
              "    </tr>\n",
              "    <tr>\n",
              "      <th>(1.5, 2.0]</th>\n",
              "      <td>2.000000</td>\n",
              "      <td>1.826625</td>\n",
              "    </tr>\n",
              "    <tr>\n",
              "      <th>(2.0, 2.5]</th>\n",
              "      <td>2.488372</td>\n",
              "      <td>2.305097</td>\n",
              "    </tr>\n",
              "    <tr>\n",
              "      <th>(2.5, 3.0]</th>\n",
              "      <td>2.819149</td>\n",
              "      <td>2.808919</td>\n",
              "    </tr>\n",
              "    <tr>\n",
              "      <th>(3.0, 3.5]</th>\n",
              "      <td>3.227292</td>\n",
              "      <td>3.287916</td>\n",
              "    </tr>\n",
              "    <tr>\n",
              "      <th>(3.5, 4.0]</th>\n",
              "      <td>3.728180</td>\n",
              "      <td>3.761371</td>\n",
              "    </tr>\n",
              "    <tr>\n",
              "      <th>(4.0, 4.5]</th>\n",
              "      <td>4.174289</td>\n",
              "      <td>4.197454</td>\n",
              "    </tr>\n",
              "    <tr>\n",
              "      <th>(4.5, 5.0]</th>\n",
              "      <td>4.573333</td>\n",
              "      <td>4.646935</td>\n",
              "    </tr>\n",
              "    <tr>\n",
              "      <th>(5.0, 6.0]</th>\n",
              "      <td>4.333333</td>\n",
              "      <td>5.143367</td>\n",
              "    </tr>\n",
              "  </tbody>\n",
              "</table>\n",
              "</div>"
            ],
            "text/plain": [
              "             stars_revs      pred\n",
              "pred_bucket                      \n",
              "(0.0, 1.0]     1.000000  0.954713\n",
              "(1.0, 1.5]     1.666667  1.343751\n",
              "(1.5, 2.0]     2.000000  1.826625\n",
              "(2.0, 2.5]     2.488372  2.305097\n",
              "(2.5, 3.0]     2.819149  2.808919\n",
              "(3.0, 3.5]     3.227292  3.287916\n",
              "(3.5, 4.0]     3.728180  3.761371\n",
              "(4.0, 4.5]     4.174289  4.197454\n",
              "(4.5, 5.0]     4.573333  4.646935\n",
              "(5.0, 6.0]     4.333333  5.143367"
            ]
          },
          "metadata": {
            "tags": []
          },
          "execution_count": 112
        }
      ]
    },
    {
      "cell_type": "code",
      "metadata": {
        "id": "Yr7BJ-VLNEmO",
        "colab_type": "code",
        "colab": {
          "base_uri": "https://localhost:8080/",
          "height": 390
        },
        "outputId": "bc4adfd4-28a3-4cc9-fb8e-4ea3eabcefd4"
      },
      "source": [
        "y_val.groupby('pred_bucket').count()"
      ],
      "execution_count": 115,
      "outputs": [
        {
          "output_type": "execute_result",
          "data": {
            "text/html": [
              "<div>\n",
              "<style scoped>\n",
              "    .dataframe tbody tr th:only-of-type {\n",
              "        vertical-align: middle;\n",
              "    }\n",
              "\n",
              "    .dataframe tbody tr th {\n",
              "        vertical-align: top;\n",
              "    }\n",
              "\n",
              "    .dataframe thead th {\n",
              "        text-align: right;\n",
              "    }\n",
              "</style>\n",
              "<table border=\"1\" class=\"dataframe\">\n",
              "  <thead>\n",
              "    <tr style=\"text-align: right;\">\n",
              "      <th></th>\n",
              "      <th>stars_revs</th>\n",
              "      <th>pred</th>\n",
              "    </tr>\n",
              "    <tr>\n",
              "      <th>pred_bucket</th>\n",
              "      <th></th>\n",
              "      <th></th>\n",
              "    </tr>\n",
              "  </thead>\n",
              "  <tbody>\n",
              "    <tr>\n",
              "      <th>(0.0, 1.0]</th>\n",
              "      <td>2</td>\n",
              "      <td>2</td>\n",
              "    </tr>\n",
              "    <tr>\n",
              "      <th>(1.0, 1.5]</th>\n",
              "      <td>6</td>\n",
              "      <td>6</td>\n",
              "    </tr>\n",
              "    <tr>\n",
              "      <th>(1.5, 2.0]</th>\n",
              "      <td>33</td>\n",
              "      <td>33</td>\n",
              "    </tr>\n",
              "    <tr>\n",
              "      <th>(2.0, 2.5]</th>\n",
              "      <td>172</td>\n",
              "      <td>172</td>\n",
              "    </tr>\n",
              "    <tr>\n",
              "      <th>(2.5, 3.0]</th>\n",
              "      <td>658</td>\n",
              "      <td>658</td>\n",
              "    </tr>\n",
              "    <tr>\n",
              "      <th>(3.0, 3.5]</th>\n",
              "      <td>2345</td>\n",
              "      <td>2345</td>\n",
              "    </tr>\n",
              "    <tr>\n",
              "      <th>(3.5, 4.0]</th>\n",
              "      <td>4308</td>\n",
              "      <td>4308</td>\n",
              "    </tr>\n",
              "    <tr>\n",
              "      <th>(4.0, 4.5]</th>\n",
              "      <td>2777</td>\n",
              "      <td>2777</td>\n",
              "    </tr>\n",
              "    <tr>\n",
              "      <th>(4.5, 5.0]</th>\n",
              "      <td>375</td>\n",
              "      <td>375</td>\n",
              "    </tr>\n",
              "    <tr>\n",
              "      <th>(5.0, 6.0]</th>\n",
              "      <td>6</td>\n",
              "      <td>6</td>\n",
              "    </tr>\n",
              "  </tbody>\n",
              "</table>\n",
              "</div>"
            ],
            "text/plain": [
              "             stars_revs  pred\n",
              "pred_bucket                  \n",
              "(0.0, 1.0]            2     2\n",
              "(1.0, 1.5]            6     6\n",
              "(1.5, 2.0]           33    33\n",
              "(2.0, 2.5]          172   172\n",
              "(2.5, 3.0]          658   658\n",
              "(3.0, 3.5]         2345  2345\n",
              "(3.5, 4.0]         4308  4308\n",
              "(4.0, 4.5]         2777  2777\n",
              "(4.5, 5.0]          375   375\n",
              "(5.0, 6.0]            6     6"
            ]
          },
          "metadata": {
            "tags": []
          },
          "execution_count": 115
        }
      ]
    },
    {
      "cell_type": "code",
      "metadata": {
        "id": "IAM37IEl8tCd",
        "colab_type": "code",
        "colab": {}
      },
      "source": [
        "y_p=model.predict(x_test)"
      ],
      "execution_count": 0,
      "outputs": []
    },
    {
      "cell_type": "code",
      "metadata": {
        "id": "uYnnmJ9fI69P",
        "colab_type": "code",
        "colab": {
          "base_uri": "https://localhost:8080/",
          "height": 34
        },
        "outputId": "d16bcdb3-0dea-4f91-c556-ce8cb824e9f1"
      },
      "source": [
        "np.array(y_p).shape"
      ],
      "execution_count": 117,
      "outputs": [
        {
          "output_type": "execute_result",
          "data": {
            "text/plain": [
              "(15259, 1)"
            ]
          },
          "metadata": {
            "tags": []
          },
          "execution_count": 117
        }
      ]
    },
    {
      "cell_type": "code",
      "metadata": {
        "id": "0algvXPzJDQL",
        "colab_type": "code",
        "colab": {}
      },
      "source": [
        "y_t=pd.DataFrame(y_test)"
      ],
      "execution_count": 0,
      "outputs": []
    },
    {
      "cell_type": "code",
      "metadata": {
        "id": "pCJlf6b9I-0x",
        "colab_type": "code",
        "colab": {}
      },
      "source": [
        "y_t['pred']=y_p"
      ],
      "execution_count": 0,
      "outputs": []
    },
    {
      "cell_type": "code",
      "metadata": {
        "id": "dNFBXCBxGPmi",
        "colab_type": "code",
        "colab": {
          "base_uri": "https://localhost:8080/",
          "height": 204
        },
        "outputId": "5616f640-770c-4c92-c93f-0e33a5a63bb8"
      },
      "source": [
        "y_t.head()"
      ],
      "execution_count": 120,
      "outputs": [
        {
          "output_type": "execute_result",
          "data": {
            "text/html": [
              "<div>\n",
              "<style scoped>\n",
              "    .dataframe tbody tr th:only-of-type {\n",
              "        vertical-align: middle;\n",
              "    }\n",
              "\n",
              "    .dataframe tbody tr th {\n",
              "        vertical-align: top;\n",
              "    }\n",
              "\n",
              "    .dataframe thead th {\n",
              "        text-align: right;\n",
              "    }\n",
              "</style>\n",
              "<table border=\"1\" class=\"dataframe\">\n",
              "  <thead>\n",
              "    <tr style=\"text-align: right;\">\n",
              "      <th></th>\n",
              "      <th>stars_revs</th>\n",
              "      <th>pred</th>\n",
              "    </tr>\n",
              "  </thead>\n",
              "  <tbody>\n",
              "    <tr>\n",
              "      <th>0</th>\n",
              "      <td>5.0</td>\n",
              "      <td>4.029197</td>\n",
              "    </tr>\n",
              "    <tr>\n",
              "      <th>1</th>\n",
              "      <td>4.0</td>\n",
              "      <td>3.857118</td>\n",
              "    </tr>\n",
              "    <tr>\n",
              "      <th>2</th>\n",
              "      <td>2.0</td>\n",
              "      <td>3.435829</td>\n",
              "    </tr>\n",
              "    <tr>\n",
              "      <th>3</th>\n",
              "      <td>3.0</td>\n",
              "      <td>3.662510</td>\n",
              "    </tr>\n",
              "    <tr>\n",
              "      <th>4</th>\n",
              "      <td>4.0</td>\n",
              "      <td>3.532968</td>\n",
              "    </tr>\n",
              "  </tbody>\n",
              "</table>\n",
              "</div>"
            ],
            "text/plain": [
              "   stars_revs      pred\n",
              "0         5.0  4.029197\n",
              "1         4.0  3.857118\n",
              "2         2.0  3.435829\n",
              "3         3.0  3.662510\n",
              "4         4.0  3.532968"
            ]
          },
          "metadata": {
            "tags": []
          },
          "execution_count": 120
        }
      ]
    },
    {
      "cell_type": "code",
      "metadata": {
        "id": "8JprCLApJXNS",
        "colab_type": "code",
        "colab": {}
      },
      "source": [
        "y_t['pred_bucket']=pd.cut(y_t.pred,[0,1,2,3,4,5,6])"
      ],
      "execution_count": 0,
      "outputs": []
    },
    {
      "cell_type": "code",
      "metadata": {
        "id": "-6yzFepYJiOb",
        "colab_type": "code",
        "colab": {
          "base_uri": "https://localhost:8080/",
          "height": 204
        },
        "outputId": "ab4092a9-5a97-4b00-d918-025e74517ca2"
      },
      "source": [
        "y_t.head()"
      ],
      "execution_count": 122,
      "outputs": [
        {
          "output_type": "execute_result",
          "data": {
            "text/html": [
              "<div>\n",
              "<style scoped>\n",
              "    .dataframe tbody tr th:only-of-type {\n",
              "        vertical-align: middle;\n",
              "    }\n",
              "\n",
              "    .dataframe tbody tr th {\n",
              "        vertical-align: top;\n",
              "    }\n",
              "\n",
              "    .dataframe thead th {\n",
              "        text-align: right;\n",
              "    }\n",
              "</style>\n",
              "<table border=\"1\" class=\"dataframe\">\n",
              "  <thead>\n",
              "    <tr style=\"text-align: right;\">\n",
              "      <th></th>\n",
              "      <th>stars_revs</th>\n",
              "      <th>pred</th>\n",
              "      <th>pred_bucket</th>\n",
              "    </tr>\n",
              "  </thead>\n",
              "  <tbody>\n",
              "    <tr>\n",
              "      <th>0</th>\n",
              "      <td>5.0</td>\n",
              "      <td>4.029197</td>\n",
              "      <td>(4, 5]</td>\n",
              "    </tr>\n",
              "    <tr>\n",
              "      <th>1</th>\n",
              "      <td>4.0</td>\n",
              "      <td>3.857118</td>\n",
              "      <td>(3, 4]</td>\n",
              "    </tr>\n",
              "    <tr>\n",
              "      <th>2</th>\n",
              "      <td>2.0</td>\n",
              "      <td>3.435829</td>\n",
              "      <td>(3, 4]</td>\n",
              "    </tr>\n",
              "    <tr>\n",
              "      <th>3</th>\n",
              "      <td>3.0</td>\n",
              "      <td>3.662510</td>\n",
              "      <td>(3, 4]</td>\n",
              "    </tr>\n",
              "    <tr>\n",
              "      <th>4</th>\n",
              "      <td>4.0</td>\n",
              "      <td>3.532968</td>\n",
              "      <td>(3, 4]</td>\n",
              "    </tr>\n",
              "  </tbody>\n",
              "</table>\n",
              "</div>"
            ],
            "text/plain": [
              "   stars_revs      pred pred_bucket\n",
              "0         5.0  4.029197      (4, 5]\n",
              "1         4.0  3.857118      (3, 4]\n",
              "2         2.0  3.435829      (3, 4]\n",
              "3         3.0  3.662510      (3, 4]\n",
              "4         4.0  3.532968      (3, 4]"
            ]
          },
          "metadata": {
            "tags": []
          },
          "execution_count": 122
        }
      ]
    },
    {
      "cell_type": "code",
      "metadata": {
        "id": "55q8u3gKJxJr",
        "colab_type": "code",
        "colab": {
          "base_uri": "https://localhost:8080/",
          "height": 34
        },
        "outputId": "20ef6998-bcce-4165-fa81-1120ac514f08"
      },
      "source": [
        "((sum((y_t.stars_revs - y_t.pred)**2))/len(y_t))**0.5"
      ],
      "execution_count": 123,
      "outputs": [
        {
          "output_type": "execute_result",
          "data": {
            "text/plain": [
              "1.137098723302045"
            ]
          },
          "metadata": {
            "tags": []
          },
          "execution_count": 123
        }
      ]
    },
    {
      "cell_type": "code",
      "metadata": {
        "id": "M5leFcgFJbzH",
        "colab_type": "code",
        "colab": {
          "base_uri": "https://localhost:8080/",
          "height": 266
        },
        "outputId": "19adc505-a792-47ee-efd1-6caf456a5f9b"
      },
      "source": [
        "y_t.groupby('pred_bucket').mean()"
      ],
      "execution_count": 124,
      "outputs": [
        {
          "output_type": "execute_result",
          "data": {
            "text/html": [
              "<div>\n",
              "<style scoped>\n",
              "    .dataframe tbody tr th:only-of-type {\n",
              "        vertical-align: middle;\n",
              "    }\n",
              "\n",
              "    .dataframe tbody tr th {\n",
              "        vertical-align: top;\n",
              "    }\n",
              "\n",
              "    .dataframe thead th {\n",
              "        text-align: right;\n",
              "    }\n",
              "</style>\n",
              "<table border=\"1\" class=\"dataframe\">\n",
              "  <thead>\n",
              "    <tr style=\"text-align: right;\">\n",
              "      <th></th>\n",
              "      <th>stars_revs</th>\n",
              "      <th>pred</th>\n",
              "    </tr>\n",
              "    <tr>\n",
              "      <th>pred_bucket</th>\n",
              "      <th></th>\n",
              "      <th></th>\n",
              "    </tr>\n",
              "  </thead>\n",
              "  <tbody>\n",
              "    <tr>\n",
              "      <th>(0, 1]</th>\n",
              "      <td>3.000000</td>\n",
              "      <td>0.507236</td>\n",
              "    </tr>\n",
              "    <tr>\n",
              "      <th>(1, 2]</th>\n",
              "      <td>1.827586</td>\n",
              "      <td>1.721724</td>\n",
              "    </tr>\n",
              "    <tr>\n",
              "      <th>(2, 3]</th>\n",
              "      <td>2.682152</td>\n",
              "      <td>2.721151</td>\n",
              "    </tr>\n",
              "    <tr>\n",
              "      <th>(3, 4]</th>\n",
              "      <td>3.541453</td>\n",
              "      <td>3.575030</td>\n",
              "    </tr>\n",
              "    <tr>\n",
              "      <th>(4, 5]</th>\n",
              "      <td>4.260662</td>\n",
              "      <td>4.248562</td>\n",
              "    </tr>\n",
              "    <tr>\n",
              "      <th>(5, 6]</th>\n",
              "      <td>4.766667</td>\n",
              "      <td>5.108453</td>\n",
              "    </tr>\n",
              "  </tbody>\n",
              "</table>\n",
              "</div>"
            ],
            "text/plain": [
              "             stars_revs      pred\n",
              "pred_bucket                      \n",
              "(0, 1]         3.000000  0.507236\n",
              "(1, 2]         1.827586  1.721724\n",
              "(2, 3]         2.682152  2.721151\n",
              "(3, 4]         3.541453  3.575030\n",
              "(4, 5]         4.260662  4.248562\n",
              "(5, 6]         4.766667  5.108453"
            ]
          },
          "metadata": {
            "tags": []
          },
          "execution_count": 124
        }
      ]
    },
    {
      "cell_type": "code",
      "metadata": {
        "id": "Wa-1ur4OJg52",
        "colab_type": "code",
        "colab": {
          "base_uri": "https://localhost:8080/",
          "height": 266
        },
        "outputId": "52ce5041-db0c-4e81-d41f-5b2c4d8c8f71"
      },
      "source": [
        "y_t.groupby('pred_bucket').count()"
      ],
      "execution_count": 125,
      "outputs": [
        {
          "output_type": "execute_result",
          "data": {
            "text/html": [
              "<div>\n",
              "<style scoped>\n",
              "    .dataframe tbody tr th:only-of-type {\n",
              "        vertical-align: middle;\n",
              "    }\n",
              "\n",
              "    .dataframe tbody tr th {\n",
              "        vertical-align: top;\n",
              "    }\n",
              "\n",
              "    .dataframe thead th {\n",
              "        text-align: right;\n",
              "    }\n",
              "</style>\n",
              "<table border=\"1\" class=\"dataframe\">\n",
              "  <thead>\n",
              "    <tr style=\"text-align: right;\">\n",
              "      <th></th>\n",
              "      <th>stars_revs</th>\n",
              "      <th>pred</th>\n",
              "    </tr>\n",
              "    <tr>\n",
              "      <th>pred_bucket</th>\n",
              "      <th></th>\n",
              "      <th></th>\n",
              "    </tr>\n",
              "  </thead>\n",
              "  <tbody>\n",
              "    <tr>\n",
              "      <th>(0, 1]</th>\n",
              "      <td>1</td>\n",
              "      <td>1</td>\n",
              "    </tr>\n",
              "    <tr>\n",
              "      <th>(1, 2]</th>\n",
              "      <td>58</td>\n",
              "      <td>58</td>\n",
              "    </tr>\n",
              "    <tr>\n",
              "      <th>(2, 3]</th>\n",
              "      <td>1227</td>\n",
              "      <td>1227</td>\n",
              "    </tr>\n",
              "    <tr>\n",
              "      <th>(3, 4]</th>\n",
              "      <td>9746</td>\n",
              "      <td>9746</td>\n",
              "    </tr>\n",
              "    <tr>\n",
              "      <th>(4, 5]</th>\n",
              "      <td>4197</td>\n",
              "      <td>4197</td>\n",
              "    </tr>\n",
              "    <tr>\n",
              "      <th>(5, 6]</th>\n",
              "      <td>30</td>\n",
              "      <td>30</td>\n",
              "    </tr>\n",
              "  </tbody>\n",
              "</table>\n",
              "</div>"
            ],
            "text/plain": [
              "             stars_revs  pred\n",
              "pred_bucket                  \n",
              "(0, 1]                1     1\n",
              "(1, 2]               58    58\n",
              "(2, 3]             1227  1227\n",
              "(3, 4]             9746  9746\n",
              "(4, 5]             4197  4197\n",
              "(5, 6]               30    30"
            ]
          },
          "metadata": {
            "tags": []
          },
          "execution_count": 125
        }
      ]
    },
    {
      "cell_type": "code",
      "metadata": {
        "id": "pVFtkIlQJqqi",
        "colab_type": "code",
        "colab": {}
      },
      "source": [
        ""
      ],
      "execution_count": 0,
      "outputs": []
    },
    {
      "cell_type": "code",
      "metadata": {
        "id": "rsqzK7MDLRrb",
        "colab_type": "code",
        "colab": {}
      },
      "source": [
        ""
      ],
      "execution_count": 0,
      "outputs": []
    }
  ]
}