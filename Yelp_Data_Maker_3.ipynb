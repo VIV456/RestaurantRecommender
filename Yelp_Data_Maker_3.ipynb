{
  "nbformat": 4,
  "nbformat_minor": 0,
  "metadata": {
    "colab": {
      "name": "Yelp Data Maker 3.ipynb",
      "version": "0.3.2",
      "provenance": []
    },
    "kernelspec": {
      "name": "python3",
      "display_name": "Python 3"
    }
  },
  "cells": [
    {
      "cell_type": "code",
      "metadata": {
        "id": "YV-g5k7u-WJz",
        "colab_type": "code",
        "colab": {}
      },
      "source": [
        "import pandas as pd"
      ],
      "execution_count": 0,
      "outputs": []
    },
    {
      "cell_type": "code",
      "metadata": {
        "id": "jwgbxuff-rYV",
        "colab_type": "code",
        "colab": {}
      },
      "source": [
        "res= pd.read_csv('toronto_restaurants.csv')"
      ],
      "execution_count": 0,
      "outputs": []
    },
    {
      "cell_type": "code",
      "metadata": {
        "id": "UjcppKu0-yrF",
        "colab_type": "code",
        "colab": {}
      },
      "source": [
        "del res['Unnamed: 0']"
      ],
      "execution_count": 0,
      "outputs": []
    },
    {
      "cell_type": "code",
      "metadata": {
        "id": "h41zwEnJ-ty5",
        "colab_type": "code",
        "outputId": "2c185147-ffd9-48fe-e1b6-39b002f32eef",
        "colab": {
          "base_uri": "https://localhost:8080/",
          "height": 513
        }
      },
      "source": [
        "res.head()"
      ],
      "execution_count": 27,
      "outputs": [
        {
          "output_type": "execute_result",
          "data": {
            "text/html": [
              "<div>\n",
              "<style scoped>\n",
              "    .dataframe tbody tr th:only-of-type {\n",
              "        vertical-align: middle;\n",
              "    }\n",
              "\n",
              "    .dataframe tbody tr th {\n",
              "        vertical-align: top;\n",
              "    }\n",
              "\n",
              "    .dataframe thead th {\n",
              "        text-align: right;\n",
              "    }\n",
              "</style>\n",
              "<table border=\"1\" class=\"dataframe\">\n",
              "  <thead>\n",
              "    <tr style=\"text-align: right;\">\n",
              "      <th></th>\n",
              "      <th>address</th>\n",
              "      <th>business_id</th>\n",
              "      <th>categories</th>\n",
              "      <th>hours</th>\n",
              "      <th>latitude</th>\n",
              "      <th>longitude</th>\n",
              "      <th>name</th>\n",
              "      <th>postal_code</th>\n",
              "      <th>review_count</th>\n",
              "      <th>stars</th>\n",
              "    </tr>\n",
              "  </thead>\n",
              "  <tbody>\n",
              "    <tr>\n",
              "      <th>0</th>\n",
              "      <td>4917 Bathurst</td>\n",
              "      <td>-0aOudcaAyac0VJbMX-L1g</td>\n",
              "      <td>Pizza, Middle Eastern, Restaurants</td>\n",
              "      <td>NaN</td>\n",
              "      <td>43.773238</td>\n",
              "      <td>-79.442641</td>\n",
              "      <td>Express Pizza &amp; Grill</td>\n",
              "      <td>M2R 1X8</td>\n",
              "      <td>15</td>\n",
              "      <td>3.133333</td>\n",
              "    </tr>\n",
              "    <tr>\n",
              "      <th>1</th>\n",
              "      <td>613 King Street W</td>\n",
              "      <td>-3iE3lPp18Tn2ixqIRJB_w</td>\n",
              "      <td>Salad, Juice Bars &amp; Smoothies, Food, Coffee &amp; ...</td>\n",
              "      <td>{'Monday': '7:30-20:30', 'Tuesday': '7:30-20:3...</td>\n",
              "      <td>43.644069</td>\n",
              "      <td>-79.400796</td>\n",
              "      <td>Iq Food</td>\n",
              "      <td>M5V 1M5</td>\n",
              "      <td>7</td>\n",
              "      <td>4.000000</td>\n",
              "    </tr>\n",
              "    <tr>\n",
              "      <th>2</th>\n",
              "      <td>1240 Bay Street</td>\n",
              "      <td>-4uT6QFVaRtc2Zmxvtd9Vg</td>\n",
              "      <td>Barbeque, Fast Food, Restaurants</td>\n",
              "      <td>{'Monday': '8:0-19:0', 'Tuesday': '8:0-19:0', ...</td>\n",
              "      <td>43.670324</td>\n",
              "      <td>-79.390681</td>\n",
              "      <td>BBQ Express</td>\n",
              "      <td>M5R 3A7</td>\n",
              "      <td>4</td>\n",
              "      <td>4.750000</td>\n",
              "    </tr>\n",
              "    <tr>\n",
              "      <th>3</th>\n",
              "      <td>1406 Queen St W</td>\n",
              "      <td>-6sE5v4OrVGmWxdIrbs-RQ</td>\n",
              "      <td>Sushi Bars, Tapas/Small Plates, Restaurants, J...</td>\n",
              "      <td>{'Monday': '0:0-0:0', 'Tuesday': '12:0-22:30',...</td>\n",
              "      <td>43.641153</td>\n",
              "      <td>-79.434475</td>\n",
              "      <td>Sho Izakaya</td>\n",
              "      <td>M6K 1L9</td>\n",
              "      <td>28</td>\n",
              "      <td>4.250000</td>\n",
              "    </tr>\n",
              "    <tr>\n",
              "      <th>4</th>\n",
              "      <td>800 Danforth Avenue</td>\n",
              "      <td>-7BCZH437U5FjmNJ26llkg</td>\n",
              "      <td>Pizza, Specialty Food, Restaurants, Ethnic Foo...</td>\n",
              "      <td>{'Tuesday': '11:0-22:0', 'Wednesday': '11:0-22...</td>\n",
              "      <td>43.679767</td>\n",
              "      <td>-79.341605</td>\n",
              "      <td>Mr Pide</td>\n",
              "      <td>M4J 1L6</td>\n",
              "      <td>69</td>\n",
              "      <td>4.347222</td>\n",
              "    </tr>\n",
              "  </tbody>\n",
              "</table>\n",
              "</div>"
            ],
            "text/plain": [
              "               address             business_id  ... review_count     stars\n",
              "0        4917 Bathurst  -0aOudcaAyac0VJbMX-L1g  ...           15  3.133333\n",
              "1    613 King Street W  -3iE3lPp18Tn2ixqIRJB_w  ...            7  4.000000\n",
              "2      1240 Bay Street  -4uT6QFVaRtc2Zmxvtd9Vg  ...            4  4.750000\n",
              "3      1406 Queen St W  -6sE5v4OrVGmWxdIrbs-RQ  ...           28  4.250000\n",
              "4  800 Danforth Avenue  -7BCZH437U5FjmNJ26llkg  ...           69  4.347222\n",
              "\n",
              "[5 rows x 10 columns]"
            ]
          },
          "metadata": {
            "tags": []
          },
          "execution_count": 27
        }
      ]
    },
    {
      "cell_type": "code",
      "metadata": {
        "id": "UhpdVeGy-vOq",
        "colab_type": "code",
        "colab": {}
      },
      "source": [
        "revs= pd.read_csv('toronto_reviews.csv')"
      ],
      "execution_count": 0,
      "outputs": []
    },
    {
      "cell_type": "code",
      "metadata": {
        "id": "J25rBbpY-8vf",
        "colab_type": "code",
        "colab": {}
      },
      "source": [
        "del revs['Unnamed: 0']"
      ],
      "execution_count": 0,
      "outputs": []
    },
    {
      "cell_type": "code",
      "metadata": {
        "id": "1PMjs97T-6m1",
        "colab_type": "code",
        "outputId": "4d497323-1423-4197-d827-115c88b85d71",
        "colab": {
          "base_uri": "https://localhost:8080/",
          "height": 34
        }
      },
      "source": [
        "len(revs)"
      ],
      "execution_count": 30,
      "outputs": [
        {
          "output_type": "execute_result",
          "data": {
            "text/plain": [
              "305173"
            ]
          },
          "metadata": {
            "tags": []
          },
          "execution_count": 30
        }
      ]
    },
    {
      "cell_type": "code",
      "metadata": {
        "id": "IFbJ48TZ-7Mf",
        "colab_type": "code",
        "outputId": "d30ac540-86cf-4467-a470-72366cbfcf53",
        "colab": {
          "base_uri": "https://localhost:8080/",
          "height": 632
        }
      },
      "source": [
        "revs.head()"
      ],
      "execution_count": 31,
      "outputs": [
        {
          "output_type": "execute_result",
          "data": {
            "text/html": [
              "<div>\n",
              "<style scoped>\n",
              "    .dataframe tbody tr th:only-of-type {\n",
              "        vertical-align: middle;\n",
              "    }\n",
              "\n",
              "    .dataframe tbody tr th {\n",
              "        vertical-align: top;\n",
              "    }\n",
              "\n",
              "    .dataframe thead th {\n",
              "        text-align: right;\n",
              "    }\n",
              "</style>\n",
              "<table border=\"1\" class=\"dataframe\">\n",
              "  <thead>\n",
              "    <tr style=\"text-align: right;\">\n",
              "      <th></th>\n",
              "      <th>business_id</th>\n",
              "      <th>date</th>\n",
              "      <th>elem</th>\n",
              "      <th>review_id</th>\n",
              "      <th>stars_revs</th>\n",
              "      <th>user_id</th>\n",
              "      <th>biz_num</th>\n",
              "      <th>address</th>\n",
              "      <th>categories</th>\n",
              "      <th>hours</th>\n",
              "      <th>latitude</th>\n",
              "      <th>longitude</th>\n",
              "      <th>name</th>\n",
              "      <th>postal_code</th>\n",
              "      <th>review_count</th>\n",
              "      <th>stars_bus</th>\n",
              "      <th>user_stars_mean</th>\n",
              "      <th>user_review_num</th>\n",
              "    </tr>\n",
              "  </thead>\n",
              "  <tbody>\n",
              "    <tr>\n",
              "      <th>0</th>\n",
              "      <td>AakkkTuGZA2KBodKi2_u8A</td>\n",
              "      <td>2012-07-16 00:37:14</td>\n",
              "      <td>10766</td>\n",
              "      <td>JVcjMhlavKKn3UIt9p9OXA</td>\n",
              "      <td>1.0</td>\n",
              "      <td>TpyOT5E16YASd7EWjLQlrw</td>\n",
              "      <td>943</td>\n",
              "      <td>1603 Dundas Street W</td>\n",
              "      <td>Asian Fusion, Restaurants, Vietnamese</td>\n",
              "      <td>{'Monday': '11:0-22:0', 'Tuesday': '11:0-22:0'...</td>\n",
              "      <td>43.649674</td>\n",
              "      <td>-79.435116</td>\n",
              "      <td>Pho Phuong</td>\n",
              "      <td>M6K 1T9</td>\n",
              "      <td>55</td>\n",
              "      <td>3.303571</td>\n",
              "      <td>3.613636</td>\n",
              "      <td>44</td>\n",
              "    </tr>\n",
              "    <tr>\n",
              "      <th>1</th>\n",
              "      <td>YvrylyuWgbP90RgMqZQVnQ</td>\n",
              "      <td>2017-04-07 21:27:49</td>\n",
              "      <td>33371</td>\n",
              "      <td>svK3nBU7Rk8VfGorlrN52A</td>\n",
              "      <td>5.0</td>\n",
              "      <td>NJlxGtouq06hhC7sS2ECYw</td>\n",
              "      <td>2934</td>\n",
              "      <td>232 Wellington Street W</td>\n",
              "      <td>Sandwiches, Restaurants, Italian, Pizza</td>\n",
              "      <td>{'Monday': '11:0-23:0', 'Tuesday': '11:0-23:0'...</td>\n",
              "      <td>43.645277</td>\n",
              "      <td>-79.389704</td>\n",
              "      <td>Jz's Pizza</td>\n",
              "      <td>M5V 3W1</td>\n",
              "      <td>71</td>\n",
              "      <td>3.957746</td>\n",
              "      <td>3.000000</td>\n",
              "      <td>2</td>\n",
              "    </tr>\n",
              "    <tr>\n",
              "      <th>2</th>\n",
              "      <td>y-Iw6dZflNix4BdwIyTNGA</td>\n",
              "      <td>2014-06-27 21:19:23</td>\n",
              "      <td>57511</td>\n",
              "      <td>4bUyL7lzoWzDZaJETAKREg</td>\n",
              "      <td>3.0</td>\n",
              "      <td>_N7Ndn29bpll_961oPeEfw</td>\n",
              "      <td>5099</td>\n",
              "      <td>2876 Dundas Street W</td>\n",
              "      <td>Restaurants, Food, Breweries, Gastropubs, Pizza</td>\n",
              "      <td>{'Monday': '17:0-1:0', 'Tuesday': '12:0-1:0', ...</td>\n",
              "      <td>43.665441</td>\n",
              "      <td>-79.465238</td>\n",
              "      <td>Indie Ale House</td>\n",
              "      <td>M6P 1Y9</td>\n",
              "      <td>235</td>\n",
              "      <td>4.082988</td>\n",
              "      <td>3.555556</td>\n",
              "      <td>9</td>\n",
              "    </tr>\n",
              "    <tr>\n",
              "      <th>3</th>\n",
              "      <td>YSUcHqlKMPHHJ_cTrqtNrA</td>\n",
              "      <td>2017-12-29 13:55:19</td>\n",
              "      <td>32926</td>\n",
              "      <td>E6B-2U2sGG3xgmnNWZAEew</td>\n",
              "      <td>1.0</td>\n",
              "      <td>DbccYu3OppWKl21OanZnTg</td>\n",
              "      <td>2894</td>\n",
              "      <td>32 Wellington Street E</td>\n",
              "      <td>Italian, Restaurants</td>\n",
              "      <td>{'Monday': '11:0-23:0', 'Tuesday': '11:0-23:0'...</td>\n",
              "      <td>43.648404</td>\n",
              "      <td>-79.375469</td>\n",
              "      <td>Vagabondo Italian Ristorante+Lounge</td>\n",
              "      <td>M5E 1C6</td>\n",
              "      <td>77</td>\n",
              "      <td>3.089744</td>\n",
              "      <td>3.076923</td>\n",
              "      <td>13</td>\n",
              "    </tr>\n",
              "    <tr>\n",
              "      <th>4</th>\n",
              "      <td>TVLAvAFx0FqAkKGKHVjHpQ</td>\n",
              "      <td>2017-12-15 22:49:01</td>\n",
              "      <td>28247</td>\n",
              "      <td>6JgzKIDvophsU1yfK0DdyA</td>\n",
              "      <td>4.0</td>\n",
              "      <td>mZ1gXzL6Tn5Oky8_j0Kp7g</td>\n",
              "      <td>2479</td>\n",
              "      <td>140 Spadina Avenue</td>\n",
              "      <td>Soup, Juice Bars &amp; Smoothies, Restaurants, Foo...</td>\n",
              "      <td>{'Monday': '11:0-21:0', 'Tuesday': '11:0-21:0'...</td>\n",
              "      <td>43.647726</td>\n",
              "      <td>-79.396247</td>\n",
              "      <td>Freshii</td>\n",
              "      <td>M5V 2L4</td>\n",
              "      <td>40</td>\n",
              "      <td>2.975610</td>\n",
              "      <td>3.631579</td>\n",
              "      <td>57</td>\n",
              "    </tr>\n",
              "  </tbody>\n",
              "</table>\n",
              "</div>"
            ],
            "text/plain": [
              "              business_id  ... user_review_num\n",
              "0  AakkkTuGZA2KBodKi2_u8A  ...              44\n",
              "1  YvrylyuWgbP90RgMqZQVnQ  ...               2\n",
              "2  y-Iw6dZflNix4BdwIyTNGA  ...               9\n",
              "3  YSUcHqlKMPHHJ_cTrqtNrA  ...              13\n",
              "4  TVLAvAFx0FqAkKGKHVjHpQ  ...              57\n",
              "\n",
              "[5 rows x 18 columns]"
            ]
          },
          "metadata": {
            "tags": []
          },
          "execution_count": 31
        }
      ]
    },
    {
      "cell_type": "code",
      "metadata": {
        "id": "US1j9dhIDEh3",
        "colab_type": "code",
        "colab": {}
      },
      "source": [
        "revs['tot_stars_bus']= revs.stars_bus*revs.review_count"
      ],
      "execution_count": 0,
      "outputs": []
    },
    {
      "cell_type": "code",
      "metadata": {
        "id": "QCXa3-AHEpv5",
        "colab_type": "code",
        "colab": {}
      },
      "source": [
        "revs['stars_bus']= (revs.tot_stars_bus- revs.stars_revs)/(revs.review_count - 1)"
      ],
      "execution_count": 0,
      "outputs": []
    },
    {
      "cell_type": "code",
      "metadata": {
        "id": "TGIuJX9wE29P",
        "colab_type": "code",
        "colab": {}
      },
      "source": [
        "revs['review_count']-=1"
      ],
      "execution_count": 0,
      "outputs": []
    },
    {
      "cell_type": "code",
      "metadata": {
        "id": "7cSwaI6nE6t5",
        "colab_type": "code",
        "colab": {}
      },
      "source": [
        "del revs['tot_stars_bus']"
      ],
      "execution_count": 0,
      "outputs": []
    },
    {
      "cell_type": "code",
      "metadata": {
        "id": "AEAtzOUbE8fV",
        "colab_type": "code",
        "colab": {}
      },
      "source": [
        "revs['tot_stars_user']= revs.user_stars_mean* revs.user_review_num "
      ],
      "execution_count": 0,
      "outputs": []
    },
    {
      "cell_type": "code",
      "metadata": {
        "id": "7NhuSY7nFGgK",
        "colab_type": "code",
        "colab": {}
      },
      "source": [
        "revs['user_stars_mean']= (revs.tot_stars_user - revs.stars_revs)/(revs.user_review_num - 1)"
      ],
      "execution_count": 0,
      "outputs": []
    },
    {
      "cell_type": "code",
      "metadata": {
        "id": "l8ydfKT4FUkw",
        "colab_type": "code",
        "colab": {}
      },
      "source": [
        "del revs['tot_stars_user']"
      ],
      "execution_count": 0,
      "outputs": []
    },
    {
      "cell_type": "code",
      "metadata": {
        "id": "II_07dAvFY7f",
        "colab_type": "code",
        "colab": {}
      },
      "source": [
        "revs.user_stars_mean.fillna(revs[revs.user_stars_mean.isna()].stars_revs.mean(), inplace=True)"
      ],
      "execution_count": 0,
      "outputs": []
    },
    {
      "cell_type": "code",
      "metadata": {
        "id": "PWJI5Qm7FcZS",
        "colab_type": "code",
        "colab": {}
      },
      "source": [
        "revs.stars_bus.fillna(revs[revs.stars_bus.isna()].stars_revs.mean(), inplace=True)"
      ],
      "execution_count": 0,
      "outputs": []
    },
    {
      "cell_type": "code",
      "metadata": {
        "id": "IPDy0y9WFqj2",
        "colab_type": "code",
        "colab": {}
      },
      "source": [
        "revs.to_csv('toronto_reviews.csv')"
      ],
      "execution_count": 0,
      "outputs": []
    },
    {
      "cell_type": "code",
      "metadata": {
        "id": "MVE9oaw5F3KB",
        "colab_type": "code",
        "colab": {}
      },
      "source": [
        ""
      ],
      "execution_count": 0,
      "outputs": []
    }
  ]
}