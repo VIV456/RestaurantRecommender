{
  "nbformat": 4,
  "nbformat_minor": 0,
  "metadata": {
    "colab": {
      "name": "Yelp Data Maker 2.ipynb",
      "version": "0.3.2",
      "provenance": []
    },
    "kernelspec": {
      "name": "python3",
      "display_name": "Python 3"
    }
  },
  "cells": [
    {
      "cell_type": "code",
      "metadata": {
        "id": "a7kJ6zn8sIfv",
        "colab_type": "code",
        "colab": {}
      },
      "source": [
        "import pandas as pd"
      ],
      "execution_count": 0,
      "outputs": []
    },
    {
      "cell_type": "code",
      "metadata": {
        "id": "SN1S4Ys9swrX",
        "colab_type": "code",
        "colab": {}
      },
      "source": [
        "rests= pd.read_csv('toronto_restaurants.csv')"
      ],
      "execution_count": 0,
      "outputs": []
    },
    {
      "cell_type": "code",
      "metadata": {
        "id": "bSElONm22lBa",
        "colab_type": "code",
        "colab": {}
      },
      "source": [
        "del rests['Unnamed: 0']"
      ],
      "execution_count": 0,
      "outputs": []
    },
    {
      "cell_type": "code",
      "metadata": {
        "id": "lP0BFmnNs2EN",
        "colab_type": "code",
        "colab": {}
      },
      "source": [
        "revs= pd.read_csv('toronto_reviews.csv')"
      ],
      "execution_count": 0,
      "outputs": []
    },
    {
      "cell_type": "code",
      "metadata": {
        "id": "wR1B8uvs2nWV",
        "colab_type": "code",
        "colab": {}
      },
      "source": [
        "del revs['Unnamed: 0']"
      ],
      "execution_count": 0,
      "outputs": []
    },
    {
      "cell_type": "code",
      "metadata": {
        "id": "uXXfzmWa2vLu",
        "colab_type": "code",
        "colab": {}
      },
      "source": [
        "user_counts= revs.groupby('user_id').count()[['stars_revs']]"
      ],
      "execution_count": 0,
      "outputs": []
    },
    {
      "cell_type": "code",
      "metadata": {
        "id": "4pwU8FKds4N7",
        "colab_type": "code",
        "colab": {}
      },
      "source": [
        "user_revs= revs.groupby('user_id').mean()[['stars_revs']]"
      ],
      "execution_count": 0,
      "outputs": []
    },
    {
      "cell_type": "code",
      "metadata": {
        "id": "cgnIXoe-2hsY",
        "colab_type": "code",
        "colab": {}
      },
      "source": [
        "user_revs['count']=user_counts.stars_revs"
      ],
      "execution_count": 0,
      "outputs": []
    },
    {
      "cell_type": "code",
      "metadata": {
        "id": "ffuMp2x-24d2",
        "colab_type": "code",
        "outputId": "7a249473-b427-4244-b40a-9f146feb63d3",
        "colab": {
          "base_uri": "https://localhost:8080/",
          "height": 235
        }
      },
      "source": [
        "user_revs.head()"
      ],
      "execution_count": 11,
      "outputs": [
        {
          "output_type": "execute_result",
          "data": {
            "text/html": [
              "<div>\n",
              "<style scoped>\n",
              "    .dataframe tbody tr th:only-of-type {\n",
              "        vertical-align: middle;\n",
              "    }\n",
              "\n",
              "    .dataframe tbody tr th {\n",
              "        vertical-align: top;\n",
              "    }\n",
              "\n",
              "    .dataframe thead th {\n",
              "        text-align: right;\n",
              "    }\n",
              "</style>\n",
              "<table border=\"1\" class=\"dataframe\">\n",
              "  <thead>\n",
              "    <tr style=\"text-align: right;\">\n",
              "      <th></th>\n",
              "      <th>stars_revs</th>\n",
              "      <th>count</th>\n",
              "    </tr>\n",
              "    <tr>\n",
              "      <th>user_id</th>\n",
              "      <th></th>\n",
              "      <th></th>\n",
              "    </tr>\n",
              "  </thead>\n",
              "  <tbody>\n",
              "    <tr>\n",
              "      <th>--7gjElmOrthETJ8XqzMBw</th>\n",
              "      <td>3.000000</td>\n",
              "      <td>2</td>\n",
              "    </tr>\n",
              "    <tr>\n",
              "      <th>--BumyUHiO_7YsHurb9Hkw</th>\n",
              "      <td>3.894737</td>\n",
              "      <td>38</td>\n",
              "    </tr>\n",
              "    <tr>\n",
              "      <th>--C93xIlmjtgQfSOIpcQSA</th>\n",
              "      <td>3.000000</td>\n",
              "      <td>2</td>\n",
              "    </tr>\n",
              "    <tr>\n",
              "      <th>--DKDJlRHfsvufdGSk_Sdw</th>\n",
              "      <td>1.000000</td>\n",
              "      <td>1</td>\n",
              "    </tr>\n",
              "    <tr>\n",
              "      <th>--EVSb3jbKVL3WJ5NUCuCA</th>\n",
              "      <td>5.000000</td>\n",
              "      <td>1</td>\n",
              "    </tr>\n",
              "  </tbody>\n",
              "</table>\n",
              "</div>"
            ],
            "text/plain": [
              "                        stars_revs  count\n",
              "user_id                                  \n",
              "--7gjElmOrthETJ8XqzMBw    3.000000      2\n",
              "--BumyUHiO_7YsHurb9Hkw    3.894737     38\n",
              "--C93xIlmjtgQfSOIpcQSA    3.000000      2\n",
              "--DKDJlRHfsvufdGSk_Sdw    1.000000      1\n",
              "--EVSb3jbKVL3WJ5NUCuCA    5.000000      1"
            ]
          },
          "metadata": {
            "tags": []
          },
          "execution_count": 11
        }
      ]
    },
    {
      "cell_type": "code",
      "metadata": {
        "id": "PO_6XX7q26qk",
        "colab_type": "code",
        "outputId": "9e41c991-5887-40dc-d802-0d161fb85436",
        "colab": {
          "base_uri": "https://localhost:8080/",
          "height": 34
        }
      },
      "source": [
        "len(user_revs)"
      ],
      "execution_count": 12,
      "outputs": [
        {
          "output_type": "execute_result",
          "data": {
            "text/plain": [
              "79775"
            ]
          },
          "metadata": {
            "tags": []
          },
          "execution_count": 12
        }
      ]
    },
    {
      "cell_type": "code",
      "metadata": {
        "id": "MaOCQRja2-yX",
        "colab_type": "code",
        "colab": {}
      },
      "source": [
        "user_revs.columns=['user_stars_mean', 'user_review_num']"
      ],
      "execution_count": 0,
      "outputs": []
    },
    {
      "cell_type": "code",
      "metadata": {
        "id": "7J9i0UTI3FG3",
        "colab_type": "code",
        "colab": {}
      },
      "source": [
        "user_revs.reset_index(inplace=True)"
      ],
      "execution_count": 0,
      "outputs": []
    },
    {
      "cell_type": "code",
      "metadata": {
        "id": "8KgnrT8l3ss-",
        "colab_type": "code",
        "colab": {}
      },
      "source": [
        "revs=revs.merge(user_revs, how='left')"
      ],
      "execution_count": 0,
      "outputs": []
    },
    {
      "cell_type": "code",
      "metadata": {
        "id": "Dk8yW2L33x0R",
        "colab_type": "code",
        "colab": {}
      },
      "source": [
        "del revs['funny']\n",
        "del revs['cool']\n",
        "del revs['useful']"
      ],
      "execution_count": 0,
      "outputs": []
    },
    {
      "cell_type": "code",
      "metadata": {
        "id": "RmRvvcaF7Dfr",
        "colab_type": "code",
        "colab": {}
      },
      "source": [
        "revs.to_csv('toronto_reviews.csv')"
      ],
      "execution_count": 0,
      "outputs": []
    },
    {
      "cell_type": "code",
      "metadata": {
        "id": "Ohnhg51X7MLj",
        "colab_type": "code",
        "colab": {}
      },
      "source": [
        ""
      ],
      "execution_count": 0,
      "outputs": []
    }
  ]
}